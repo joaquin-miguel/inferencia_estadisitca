{
 "cells": [
  {
   "cell_type": "code",
   "execution_count": 8,
   "id": "a7093c92",
   "metadata": {},
   "outputs": [],
   "source": [
    "import pandas as pd\n",
    "import numpy as np\n",
    "import matplotlib.pyplot as plt\n",
    "from scipy.optimize import minimize"
   ]
  },
  {
   "cell_type": "markdown",
   "id": "5581ab55",
   "metadata": {},
   "source": [
    " Un experimentopuso en marcha 50 turbinas durante distintos intervalos de tiempo.\n",
    " Se registró la proporción de turbinas que desarrollaban fisuras durante cada prueba. Los datos están en el archivo turbines.csv"
   ]
  },
  {
   "cell_type": "code",
   "execution_count": 3,
   "id": "872c2913",
   "metadata": {},
   "outputs": [],
   "source": [
    "path = './turbines.csv'\n",
    "df = pd.read_csv(path)\n",
    "df.columns = ['Hours', 'Proportions of Fissures']\n",
    "n = len(df)"
   ]
  },
  {
   "cell_type": "code",
   "execution_count": 4,
   "id": "5719bd44",
   "metadata": {},
   "outputs": [
    {
     "data": {
      "text/html": [
       "<div>\n",
       "<style scoped>\n",
       "    .dataframe tbody tr th:only-of-type {\n",
       "        vertical-align: middle;\n",
       "    }\n",
       "\n",
       "    .dataframe tbody tr th {\n",
       "        vertical-align: top;\n",
       "    }\n",
       "\n",
       "    .dataframe thead th {\n",
       "        text-align: right;\n",
       "    }\n",
       "</style>\n",
       "<table border=\"1\" class=\"dataframe\">\n",
       "  <thead>\n",
       "    <tr style=\"text-align: right;\">\n",
       "      <th></th>\n",
       "      <th>Hours</th>\n",
       "      <th>Proportions of Fissures</th>\n",
       "    </tr>\n",
       "  </thead>\n",
       "  <tbody>\n",
       "    <tr>\n",
       "      <th>0</th>\n",
       "      <td>400</td>\n",
       "      <td>0.0000</td>\n",
       "    </tr>\n",
       "    <tr>\n",
       "      <th>1</th>\n",
       "      <td>1000</td>\n",
       "      <td>0.0755</td>\n",
       "    </tr>\n",
       "    <tr>\n",
       "      <th>2</th>\n",
       "      <td>1400</td>\n",
       "      <td>0.0606</td>\n",
       "    </tr>\n",
       "    <tr>\n",
       "      <th>3</th>\n",
       "      <td>1800</td>\n",
       "      <td>0.0959</td>\n",
       "    </tr>\n",
       "    <tr>\n",
       "      <th>4</th>\n",
       "      <td>2200</td>\n",
       "      <td>0.1667</td>\n",
       "    </tr>\n",
       "    <tr>\n",
       "      <th>5</th>\n",
       "      <td>2600</td>\n",
       "      <td>0.2308</td>\n",
       "    </tr>\n",
       "    <tr>\n",
       "      <th>6</th>\n",
       "      <td>3000</td>\n",
       "      <td>0.2143</td>\n",
       "    </tr>\n",
       "    <tr>\n",
       "      <th>7</th>\n",
       "      <td>3400</td>\n",
       "      <td>0.4615</td>\n",
       "    </tr>\n",
       "    <tr>\n",
       "      <th>8</th>\n",
       "      <td>3800</td>\n",
       "      <td>0.6471</td>\n",
       "    </tr>\n",
       "    <tr>\n",
       "      <th>9</th>\n",
       "      <td>4200</td>\n",
       "      <td>0.5250</td>\n",
       "    </tr>\n",
       "    <tr>\n",
       "      <th>10</th>\n",
       "      <td>4600</td>\n",
       "      <td>0.5833</td>\n",
       "    </tr>\n",
       "  </tbody>\n",
       "</table>\n",
       "</div>"
      ],
      "text/plain": [
       "    Hours  Proportions of Fissures\n",
       "0     400                   0.0000\n",
       "1    1000                   0.0755\n",
       "2    1400                   0.0606\n",
       "3    1800                   0.0959\n",
       "4    2200                   0.1667\n",
       "5    2600                   0.2308\n",
       "6    3000                   0.2143\n",
       "7    3400                   0.4615\n",
       "8    3800                   0.6471\n",
       "9    4200                   0.5250\n",
       "10   4600                   0.5833"
      ]
     },
     "execution_count": 4,
     "metadata": {},
     "output_type": "execute_result"
    }
   ],
   "source": [
    "df"
   ]
  },
  {
   "cell_type": "markdown",
   "id": "d56c1aeb",
   "metadata": {},
   "source": [
    "a) Graficar la proporción de turbinas con fisuras vs la cantidad de horas de cada prueba. \n",
    "Justificar por qué un MLG binomial es una opción razonable para modelar la dependencia de \n",
    "la fracción de turbinas con fisuras respecto a la cantidad de horas. Proponer una función de vínculo."
   ]
  },
  {
   "cell_type": "code",
   "execution_count": 22,
   "id": "d20f2cff",
   "metadata": {},
   "outputs": [
    {
     "data": {
      "image/png": "[encoded data removed]",
      "text/plain": [
       "<Figure size 640x480 with 1 Axes>"
      ]
     },
     "metadata": {},
     "output_type": "display_data"
    }
   ],
   "source": [
    "# Graficar la proporción de turbinas con fisuras vs la cantidad de horas de cada prueba. \n",
    "\n",
    "plt.scatter(df['Hours'], df['Proportions of Fissures'])\n",
    "plt.xlabel('Horas')\n",
    "plt.ylabel('Proporción de Turbinas con Fisuras')\n",
    "plt.title('Proporción de Turbinas con Fisuras vs Horas')\n",
    "plt.ylim(-0.1,1)\n",
    "plt.grid()\n",
    "plt.show()"
   ]
  },
  {
   "cell_type": "markdown",
   "id": "7c8395a8",
   "metadata": {},
   "source": [
    "Como la respuesta del problema viene dada en proporciones de máquinas con fisuras durante las pruebas, es decir, los valores de $Y$ están entre 0 y 1. Por lo tanto, la elección de un GLM Binomial es una opción razonable para modelar la dependencia de la fracción de tiburas con fisuras respecto a la cantidad de horas.\n",
    "\n",
    " $$ \\Large \\Rightarrow f(y;p,n) =  {n \\choose ny} p^{ny}(1-p)^{n-ny} = {n \\choose ny} e^{ \\frac{y\\ln(\\frac{p}{1 - p}) - (-\\ln(p))}{\\frac {1}{n}}} $$\n",
    "\n",
    "$$ a(y,n) =  {n \\choose ny}  \\\\\n",
    "$$ \\phi = \\frac{1}{n}  \\\\\n",
    "$$ \\theta = ln(\\frac{p}{1-p})  \\\\\n",
    "$$ \\kappa(\\theta) =  ln(1 - e^{\\theta}) $$ \\\\\n",
    "\n",
    "- Función de vínculo\n",
    "$$ \\boxed {\\eta = ln(\\frac{p}{1-p}) = \\beta_{0} +\\beta_{1}X} $$"
   ]
  },
  {
   "cell_type": "markdown",
   "id": "7c21c03f",
   "metadata": {},
   "source": [
    "La likelihood es $$ \\Large \\mathcal{L}(p) = \\prod_{i=1}^n a(y) e^{\\frac{y_i\\ln(\\frac{p}{1-p})- ( -\\ln(1-p))}{\\frac{1}{n}}} = \\prod_{i=1}^n a(y) e^{n(y_i\\ln(\\frac{p}{1-p})+\\ln(1-p))}  $$\n",
    "\n",
    "donde $ \\large p = p(\\beta_0,\\beta_1) = \\frac{e^{\\beta_0 + \\beta_1x_i}}{1 + e^{\\beta_0 + \\beta_1x_i}}$. Entonces maximizar $\\mathcal{L}(p)$ es lo mismo que minimizar $-\\log(\\mathcal{L}(p) $ y eso es lo que hago en el código."
   ]
  },
  {
   "cell_type": "code",
   "execution_count": 9,
   "id": "52f96747",
   "metadata": {},
   "outputs": [],
   "source": [
    "def neg_log_likelihood_binomial(beta, X, Y):\n",
    "    p = np.exp(np.dot(X, beta)) / ( 1 + np.exp(np.dot(X, beta))) #función de vínculo\n",
    "    return -n * np.sum( Y * np.log(p /(1-p)) + np.log(1 - p) )"
   ]
  },
  {
   "cell_type": "markdown",
   "id": "80f17259",
   "metadata": {},
   "source": [
    "b) Ajustar este MLG binomial, es decir, encontrar estimaciones puntuales para los parámetros\n",
    " de regresión 𝛽 justificando cada paso"
   ]
  },
  {
   "cell_type": "code",
   "execution_count": 20,
   "id": "dae13dfd",
   "metadata": {},
   "outputs": [],
   "source": [
    "x = np.array(df['Hours'])\n",
    "Y = np.array(df['Proportions of Fissures'])\n",
    "\n",
    "X_intercept = np.column_stack((np.ones(x.shape[0]), x)) # Agregar la columna de unos para el intercepto\n",
    "\n",
    "beta_hat = np.linalg.inv(X_intercept.T @ X_intercept) @ X_intercept.T @ Y\n"
   ]
  },
  {
   "cell_type": "code",
   "execution_count": 21,
   "id": "ad43d621",
   "metadata": {},
   "outputs": [
    {
     "name": "stdout",
     "output_type": "stream",
     "text": [
      "b0 =  -3.9110381422605007\n",
      "b1 =  0.001011005475358363\n"
     ]
    },
    {
     "name": "stderr",
     "output_type": "stream",
     "text": [
      "C:\\Users\\joaquinMiguel\\AppData\\Local\\Temp\\ipykernel_17808\\661507747.py:3: RuntimeWarning: divide by zero encountered in log\n",
      "  return -n * np.sum( Y * np.log(p /(1-p)) + np.log(1 - p) )\n",
      "d:\\Joaco's Fold\\Importante\\ESTUDIO\\UNSAM - LCD\\WORKSPACE\\inferencia_estadisitca\\.venv_estadistica\\Lib\\site-packages\\scipy\\optimize\\_numdiff.py:596: RuntimeWarning: invalid value encountered in subtract\n",
      "  df = fun(x1) - f0\n",
      "C:\\Users\\joaquinMiguel\\AppData\\Local\\Temp\\ipykernel_17808\\661507747.py:3: RuntimeWarning: divide by zero encountered in log\n",
      "  return -n * np.sum( Y * np.log(p /(1-p)) + np.log(1 - p) )\n"
     ]
    },
    {
     "data": {
      "image/png": "[encoded data removed]",
      "text/plain": [
       "<Figure size 640x480 with 1 Axes>"
      ]
     },
     "metadata": {},
     "output_type": "display_data"
    }
   ],
   "source": [
    "res_binomial = minimize(neg_log_likelihood_binomial, beta_hat, args=(X_intercept, Y))\n",
    "\n",
    "b0 = res_binomial.x[0]\n",
    "b1 = res_binomial.x[1]\n",
    "\n",
    "print('b0 = ', b0)\n",
    "print('b1 = ', b1)\n",
    "\n",
    "x_range = np.linspace(x.min(), x.max(), 300)\n",
    "binomial_fit = np.exp(b0 + b1 * x_range) / (1 + np.exp(b0 + b1 * x_range))\n",
    "\n",
    "fig, ax = plt.subplots()\n",
    "ax.scatter(x, Y, alpha=0.5)\n",
    "ax.plot(x_range,binomial_fit,color='g')\n",
    "ax.set_xlabel(\"Horas de funcionamiento\")\n",
    "ax.set_ylabel(\"Proporción de fisuras de las máquinas\")\n",
    "ax.set_title(\"Explorando turbines: Hours v Proporción de fisuras (entre las 50 máquinas) \")\n",
    "plt.show()"
   ]
  },
  {
   "cell_type": "markdown",
   "id": "bbd44601",
   "metadata": {},
   "source": [
    "c) Determinar el error estándar de cada parámetro de regresión justificando cada paso"
   ]
  },
  {
   "cell_type": "markdown",
   "id": "577246b9",
   "metadata": {},
   "source": [
    "Para esto necesito obtener la matriz de Fischer de la distribución:\n",
    "\n",
    "$$I = \\frac{1}{\\phi}X^TWX \\hspace{1cm}\\text{ con }W = \\text{diag}(\\frac{1}{V(p_i)(d\\eta_i/dp_i)^2}) $$\n",
    "\n",
    "En nuestro caso:\n",
    "$$\\phi = \\frac{1}{n} $$\n",
    "\n",
    "$$ V(p) = p(1-p) $$\n",
    "\n",
    "$$ \\frac{d\\eta}{dp} = \\frac{d(\\ln(\\frac{p}{1 - p}))}{dp} = \\frac{1}{p(1-p)}$$\n",
    "\n",
    "por lo tanto $$I = nX^TWX \\hspace{1cm}W = \\text{diag}(p_i) = \\text{diag}(p_i(1-p_i)) $$\n",
    "\n",
    "con $p = p(\\beta_0,\\beta_1) = \\frac{e^{\\beta_0 + \\beta_1x_i}}{1+e^{\\beta_0 + \\beta_1x_i}}$\n",
    "\n",
    "Finalmente, la matriz de covarianza es $I^{-1}$ y su diagonal, las varianzas respectivas de $\\beta_0$ y $\\beta_1$:"
   ]
  },
  {
   "cell_type": "code",
   "execution_count": 23,
   "id": "a86cb30c",
   "metadata": {},
   "outputs": [
    {
     "data": {
      "text/plain": [
       "array([[ 5.59394407e-01, -1.57564696e-04],\n",
       "       [-1.57564696e-04,  4.90629114e-08]])"
      ]
     },
     "execution_count": 23,
     "metadata": {},
     "output_type": "execute_result"
    }
   ],
   "source": [
    "phi = 1 / n\n",
    "p = np.exp(X_intercept@res_binomial.x) / (1 + np.exp(X_intercept @ res_binomial.x))\n",
    "\n",
    "W = np.diag( p * (1-p)  )\n",
    "\n",
    "I = (1 / phi) * X_intercept.T @ W @ X_intercept\n",
    "\n",
    "cov_matrix = np.linalg.inv(I)\n",
    "cov_matrix"
   ]
  },
  {
   "cell_type": "code",
   "execution_count": null,
   "id": "eb841b91",
   "metadata": {},
   "outputs": [],
   "source": [
    "se_b0 = np.sqrt(cov_matrix[0,0])\n",
    "se_b1 = np.sqrt(cov_matrix[1,1])\n",
    "print(\"se(b0) =\",se_b0)\n",
    "print(\"se(b1) =\",se_b1)"
   ]
  }
 ],
 "metadata": {
  "kernelspec": {
   "display_name": ".venv_estadistica",
   "language": "python",
   "name": "python3"
  },
  "language_info": {
   "codemirror_mode": {
    "name": "ipython",
    "version": 3
   },
   "file_extension": ".py",
   "mimetype": "text/x-python",
   "name": "python",
   "nbconvert_exporter": "python",
   "pygments_lexer": "ipython3",
   "version": "3.12.5"
  }
 },
 "nbformat": 4,
 "nbformat_minor": 5
}
