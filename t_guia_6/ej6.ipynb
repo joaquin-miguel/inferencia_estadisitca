{
 "cells": [
  {
   "cell_type": "code",
   "execution_count": null,
   "id": "94edb78d",
   "metadata": {},
   "outputs": [],
   "source": [
    "import numpy as np\n",
    "import matplotlib.pyplot as plt\n",
    "from scipy.stats import beta"
   ]
  },
  {
   "cell_type": "markdown",
   "id": "4f4d9aaa",
   "metadata": {},
   "source": [
    "6. La distribución marginal de 𝑦, 𝑝(𝑦) =∫𝑝(𝑦,𝜃)𝑑𝜃 es también la distribución prior predictiva\n",
    "ya que resume la probabilidad de observar 𝑦 antes de ponderar los nuevos datos, sumando sobre\n",
    "todos los valores posibles de 𝜃:\n",
    "\n",
    "(a) Probar que si elegimos un prior uniforme (0,1) para 𝜃, entonces 𝑝(𝑦) = 1/(𝑛+1) .\n",
    "Ayuda: usar la definición de la función beta B(𝛼, 𝛽) y que \n",
    "B(𝑚,𝑛) = [(𝑚−1)!(𝑛−1)!] / (𝑚+𝑛−1)!\n",
    "\n",
    "(b) Probar que si elegimos un prior Beta(𝛼, 𝛽), entonces 𝑝(𝑦)es una distribución beta-binomial."
   ]
  },
  {
   "cell_type": "code",
   "execution_count": null,
   "id": "2ee73a24",
   "metadata": {},
   "outputs": [],
   "source": []
  }
 ],
 "metadata": {
  "language_info": {
   "name": "python"
  }
 },
 "nbformat": 4,
 "nbformat_minor": 5
}
