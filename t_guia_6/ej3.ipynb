{
 "cells": [
  {
   "cell_type": "code",
   "execution_count": null,
   "id": "fc6f3250",
   "metadata": {},
   "outputs": [],
   "source": [
    "import numpy as np\n",
    "import matplotlib.pyplot as plt"
   ]
  },
  {
   "cell_type": "markdown",
   "id": "53683308",
   "metadata": {},
   "source": [
    "a) Escribir una función en Python que simule la distribución posterior 𝑝(𝜃 |𝑦) para un modelo\n",
    "binomial con prior Beta(𝛼, 𝛽). La función debe tener como input los hiperparámetros del\n",
    "prior (𝛼 y 𝛽), los datos observados (el número total de ensayos 𝑛 y la cantidad de éxitos 𝑦) y\n",
    "la cantidad de samples de la posterior que quiero que devuelva."
   ]
  },
  {
   "cell_type": "code",
   "execution_count": null,
   "id": "aa0b2e85",
   "metadata": {},
   "outputs": [],
   "source": [
    "from scipy.stats import beta\n"
   ]
  }
 ],
 "metadata": {
  "language_info": {
   "name": "python"
  }
 },
 "nbformat": 4,
 "nbformat_minor": 5
}
