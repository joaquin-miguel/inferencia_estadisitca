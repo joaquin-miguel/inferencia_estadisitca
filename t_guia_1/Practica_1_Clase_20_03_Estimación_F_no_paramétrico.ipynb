{
  "cells": [
    {
      "cell_type": "markdown",
      "metadata": {
        "id": "X0Taup-sn6Mt"
      },
      "source": [
        "# Estimación de F (modelos no paramétricos)"
      ]
    },
    {
      "cell_type": "code",
      "execution_count": 3,
      "metadata": {
        "id": "ej3aRJcy9NtG"
      },
      "outputs": [],
      "source": [
        "import numpy as np\n",
        "import pandas as pd\n",
        "import matplotlib.pyplot as plt\n",
        "from scipy import stats"
      ]
    },
    {
      "cell_type": "markdown",
      "metadata": {
        "id": "oYaasFKloE1k"
      },
      "source": [
        "## Función de distribución empírica\n",
        "\n",
        "La función de distribución empírica para una muestra $X_1,...,X_n \\sim F $ se define  $$\\hat{F_n}(x) = \\frac{1}{n} \\sum_{i=1}^{n}I(X_i\\leq x) $$\n",
        "\n",
        "Es decir, le aplica PMF $ p_{X_i}(x) = p(X_i=x) = \\frac{1}{n}$ a cada $X_i$"
      ]
    },
    {
      "cell_type": "markdown",
      "metadata": {
        "id": "aELUJdTAx8_V"
      },
      "source": [
        "### Importo datos\n",
        "\n",
        "Busco $n=100$ datos para estimar la distribución subyacente. Para el ejemplo voy a sacarlos de [este repositorio](https://www.kaggle.com/datasets/tentotheminus9/gravity-spy-gravitational-waves) pero pueden probar con cualquier dataset. En este caso son muestras de tiempos de duración de glitches encontrados en mediciones de LIGO."
      ]
    },
    {
      "cell_type": "code",
      "execution_count": null,
      "metadata": {
        "colab": {
          "base_uri": "https://localhost:8080/"
        },
        "collapsed": true,
        "id": "6ynudNevPkp4",
        "outputId": "a481cad0-9932-4046-dd25-70d59f9ea212"
      },
      "outputs": [],
      "source": [
        "!pip install gdown\n",
        "\n",
        "# Download the file using gdown\n",
        "!gdown 1BYjpp3wR3QcGS00ZA-i2-eQk69N1yYNC"
      ]
    },
    {
      "cell_type": "code",
      "execution_count": 4,
      "metadata": {
        "colab": {
          "base_uri": "https://localhost:8080/",
          "height": 342
        },
        "id": "e1QiD0VA86m2",
        "outputId": "54efee0c-759b-4137-c369-0119cee971ad"
      },
      "outputs": [
        {
          "data": {
            "application/vnd.google.colaboratory.intrinsic+json": {
              "type": "dataframe",
              "variable_name": "datos"
            },
            "text/html": [
              "\n",
              "  <div id=\"df-70eaa44b-2c3a-4b16-a5e6-4e1dcfeeea61\" class=\"colab-df-container\">\n",
              "    <div>\n",
              "<style scoped>\n",
              "    .dataframe tbody tr th:only-of-type {\n",
              "        vertical-align: middle;\n",
              "    }\n",
              "\n",
              "    .dataframe tbody tr th {\n",
              "        vertical-align: top;\n",
              "    }\n",
              "\n",
              "    .dataframe thead th {\n",
              "        text-align: right;\n",
              "    }\n",
              "</style>\n",
              "<table border=\"1\" class=\"dataframe\">\n",
              "  <thead>\n",
              "    <tr style=\"text-align: right;\">\n",
              "      <th></th>\n",
              "      <th>event_time</th>\n",
              "      <th>ifo</th>\n",
              "      <th>peak_time</th>\n",
              "      <th>peak_time_ns</th>\n",
              "      <th>start_time</th>\n",
              "      <th>start_time_ns</th>\n",
              "      <th>duration</th>\n",
              "      <th>search</th>\n",
              "      <th>process_id</th>\n",
              "      <th>event_id</th>\n",
              "      <th>...</th>\n",
              "      <th>chisq_dof</th>\n",
              "      <th>param_one_name</th>\n",
              "      <th>param_one_value</th>\n",
              "      <th>gravityspy_id</th>\n",
              "      <th>label</th>\n",
              "      <th>sample_type</th>\n",
              "      <th>url1</th>\n",
              "      <th>url2</th>\n",
              "      <th>url3</th>\n",
              "      <th>url4</th>\n",
              "    </tr>\n",
              "  </thead>\n",
              "  <tbody>\n",
              "    <tr>\n",
              "      <th>0</th>\n",
              "      <td>1.134216e+09</td>\n",
              "      <td>L1</td>\n",
              "      <td>1134216192</td>\n",
              "      <td>931639909</td>\n",
              "      <td>1134216192</td>\n",
              "      <td>832031011</td>\n",
              "      <td>0.18750</td>\n",
              "      <td>Omicron</td>\n",
              "      <td>0</td>\n",
              "      <td>21</td>\n",
              "      <td>...</td>\n",
              "      <td>0</td>\n",
              "      <td>phase</td>\n",
              "      <td>-2.72902</td>\n",
              "      <td>zmIdpucyOG</td>\n",
              "      <td>Whistle</td>\n",
              "      <td>train</td>\n",
              "      <td>https://panoptes-uploads.zooniverse.org/produc...</td>\n",
              "      <td>https://panoptes-uploads.zooniverse.org/produc...</td>\n",
              "      <td>https://panoptes-uploads.zooniverse.org/produc...</td>\n",
              "      <td>https://panoptes-uploads.zooniverse.org/produc...</td>\n",
              "    </tr>\n",
              "    <tr>\n",
              "      <th>1</th>\n",
              "      <td>1.129360e+09</td>\n",
              "      <td>L1</td>\n",
              "      <td>1129359781</td>\n",
              "      <td>558593034</td>\n",
              "      <td>1129359781</td>\n",
              "      <td>47851085</td>\n",
              "      <td>0.94238</td>\n",
              "      <td>Omicron</td>\n",
              "      <td>0</td>\n",
              "      <td>107</td>\n",
              "      <td>...</td>\n",
              "      <td>0</td>\n",
              "      <td>phase</td>\n",
              "      <td>1.10682</td>\n",
              "      <td>zWFRqqDxwv</td>\n",
              "      <td>Whistle</td>\n",
              "      <td>test</td>\n",
              "      <td>https://panoptes-uploads.zooniverse.org/produc...</td>\n",
              "      <td>https://panoptes-uploads.zooniverse.org/produc...</td>\n",
              "      <td>https://panoptes-uploads.zooniverse.org/produc...</td>\n",
              "      <td>https://panoptes-uploads.zooniverse.org/produc...</td>\n",
              "    </tr>\n",
              "    <tr>\n",
              "      <th>2</th>\n",
              "      <td>1.127425e+09</td>\n",
              "      <td>L1</td>\n",
              "      <td>1127425468</td>\n",
              "      <td>976317882</td>\n",
              "      <td>1127425468</td>\n",
              "      <td>960937023</td>\n",
              "      <td>0.04688</td>\n",
              "      <td>Omicron</td>\n",
              "      <td>0</td>\n",
              "      <td>218</td>\n",
              "      <td>...</td>\n",
              "      <td>0</td>\n",
              "      <td>phase</td>\n",
              "      <td>-0.83099</td>\n",
              "      <td>zKCTakFVcf</td>\n",
              "      <td>Whistle</td>\n",
              "      <td>train</td>\n",
              "      <td>https://panoptes-uploads.zooniverse.org/produc...</td>\n",
              "      <td>https://panoptes-uploads.zooniverse.org/produc...</td>\n",
              "      <td>https://panoptes-uploads.zooniverse.org/produc...</td>\n",
              "      <td>https://panoptes-uploads.zooniverse.org/produc...</td>\n",
              "    </tr>\n",
              "    <tr>\n",
              "      <th>3</th>\n",
              "      <td>1.132637e+09</td>\n",
              "      <td>L1</td>\n",
              "      <td>1132636755</td>\n",
              "      <td>365233898</td>\n",
              "      <td>1132636754</td>\n",
              "      <td>951172113</td>\n",
              "      <td>0.82422</td>\n",
              "      <td>Omicron</td>\n",
              "      <td>0</td>\n",
              "      <td>88</td>\n",
              "      <td>...</td>\n",
              "      <td>0</td>\n",
              "      <td>phase</td>\n",
              "      <td>0.76242</td>\n",
              "      <td>z14BdoiFZS</td>\n",
              "      <td>Whistle</td>\n",
              "      <td>validation</td>\n",
              "      <td>https://panoptes-uploads.zooniverse.org/produc...</td>\n",
              "      <td>https://panoptes-uploads.zooniverse.org/produc...</td>\n",
              "      <td>https://panoptes-uploads.zooniverse.org/produc...</td>\n",
              "      <td>https://panoptes-uploads.zooniverse.org/produc...</td>\n",
              "    </tr>\n",
              "    <tr>\n",
              "      <th>4</th>\n",
              "      <td>1.132036e+09</td>\n",
              "      <td>L1</td>\n",
              "      <td>1132035853</td>\n",
              "      <td>197264909</td>\n",
              "      <td>1132035852</td>\n",
              "      <td>933837890</td>\n",
              "      <td>2.00366</td>\n",
              "      <td>Omicron</td>\n",
              "      <td>0</td>\n",
              "      <td>16</td>\n",
              "      <td>...</td>\n",
              "      <td>0</td>\n",
              "      <td>phase</td>\n",
              "      <td>-0.31161</td>\n",
              "      <td>yyjqLCtAmO</td>\n",
              "      <td>Whistle</td>\n",
              "      <td>validation</td>\n",
              "      <td>https://panoptes-uploads.zooniverse.org/produc...</td>\n",
              "      <td>https://panoptes-uploads.zooniverse.org/produc...</td>\n",
              "      <td>https://panoptes-uploads.zooniverse.org/produc...</td>\n",
              "      <td>https://panoptes-uploads.zooniverse.org/produc...</td>\n",
              "    </tr>\n",
              "  </tbody>\n",
              "</table>\n",
              "<p>5 rows × 28 columns</p>\n",
              "</div>\n",
              "    <div class=\"colab-df-buttons\">\n",
              "\n",
              "  <div class=\"colab-df-container\">\n",
              "    <button class=\"colab-df-convert\" onclick=\"convertToInteractive('df-70eaa44b-2c3a-4b16-a5e6-4e1dcfeeea61')\"\n",
              "            title=\"Convert this dataframe to an interactive table.\"\n",
              "            style=\"display:none;\">\n",
              "\n",
              "  <svg xmlns=\"http://www.w3.org/2000/svg\" height=\"24px\" viewBox=\"0 -960 960 960\">\n",
              "    <path d=\"M120-120v-720h720v720H120Zm60-500h600v-160H180v160Zm220 220h160v-160H400v160Zm0 220h160v-160H400v160ZM180-400h160v-160H180v160Zm440 0h160v-160H620v160ZM180-180h160v-160H180v160Zm440 0h160v-160H620v160Z\"/>\n",
              "  </svg>\n",
              "    </button>\n",
              "\n",
              "  <style>\n",
              "    .colab-df-container {\n",
              "      display:flex;\n",
              "      gap: 12px;\n",
              "    }\n",
              "\n",
              "    .colab-df-convert {\n",
              "      background-color: #E8F0FE;\n",
              "      border: none;\n",
              "      border-radius: 50%;\n",
              "      cursor: pointer;\n",
              "      display: none;\n",
              "      fill: #1967D2;\n",
              "      height: 32px;\n",
              "      padding: 0 0 0 0;\n",
              "      width: 32px;\n",
              "    }\n",
              "\n",
              "    .colab-df-convert:hover {\n",
              "      background-color: #E2EBFA;\n",
              "      box-shadow: 0px 1px 2px rgba(60, 64, 67, 0.3), 0px 1px 3px 1px rgba(60, 64, 67, 0.15);\n",
              "      fill: #174EA6;\n",
              "    }\n",
              "\n",
              "    .colab-df-buttons div {\n",
              "      margin-bottom: 4px;\n",
              "    }\n",
              "\n",
              "    [theme=dark] .colab-df-convert {\n",
              "      background-color: #3B4455;\n",
              "      fill: #D2E3FC;\n",
              "    }\n",
              "\n",
              "    [theme=dark] .colab-df-convert:hover {\n",
              "      background-color: #434B5C;\n",
              "      box-shadow: 0px 1px 3px 1px rgba(0, 0, 0, 0.15);\n",
              "      filter: drop-shadow(0px 1px 2px rgba(0, 0, 0, 0.3));\n",
              "      fill: #FFFFFF;\n",
              "    }\n",
              "  </style>\n",
              "\n",
              "    <script>\n",
              "      const buttonEl =\n",
              "        document.querySelector('#df-70eaa44b-2c3a-4b16-a5e6-4e1dcfeeea61 button.colab-df-convert');\n",
              "      buttonEl.style.display =\n",
              "        google.colab.kernel.accessAllowed ? 'block' : 'none';\n",
              "\n",
              "      async function convertToInteractive(key) {\n",
              "        const element = document.querySelector('#df-70eaa44b-2c3a-4b16-a5e6-4e1dcfeeea61');\n",
              "        const dataTable =\n",
              "          await google.colab.kernel.invokeFunction('convertToInteractive',\n",
              "                                                    [key], {});\n",
              "        if (!dataTable) return;\n",
              "\n",
              "        const docLinkHtml = 'Like what you see? Visit the ' +\n",
              "          '<a target=\"_blank\" href=https://colab.research.google.com/notebooks/data_table.ipynb>data table notebook</a>'\n",
              "          + ' to learn more about interactive tables.';\n",
              "        element.innerHTML = '';\n",
              "        dataTable['output_type'] = 'display_data';\n",
              "        await google.colab.output.renderOutput(dataTable, element);\n",
              "        const docLink = document.createElement('div');\n",
              "        docLink.innerHTML = docLinkHtml;\n",
              "        element.appendChild(docLink);\n",
              "      }\n",
              "    </script>\n",
              "  </div>\n",
              "\n",
              "\n",
              "<div id=\"df-aa1b5384-c649-4bd9-ac77-cd781b980f9e\">\n",
              "  <button class=\"colab-df-quickchart\" onclick=\"quickchart('df-aa1b5384-c649-4bd9-ac77-cd781b980f9e')\"\n",
              "            title=\"Suggest charts\"\n",
              "            style=\"display:none;\">\n",
              "\n",
              "<svg xmlns=\"http://www.w3.org/2000/svg\" height=\"24px\"viewBox=\"0 0 24 24\"\n",
              "     width=\"24px\">\n",
              "    <g>\n",
              "        <path d=\"M19 3H5c-1.1 0-2 .9-2 2v14c0 1.1.9 2 2 2h14c1.1 0 2-.9 2-2V5c0-1.1-.9-2-2-2zM9 17H7v-7h2v7zm4 0h-2V7h2v10zm4 0h-2v-4h2v4z\"/>\n",
              "    </g>\n",
              "</svg>\n",
              "  </button>\n",
              "\n",
              "<style>\n",
              "  .colab-df-quickchart {\n",
              "      --bg-color: #E8F0FE;\n",
              "      --fill-color: #1967D2;\n",
              "      --hover-bg-color: #E2EBFA;\n",
              "      --hover-fill-color: #174EA6;\n",
              "      --disabled-fill-color: #AAA;\n",
              "      --disabled-bg-color: #DDD;\n",
              "  }\n",
              "\n",
              "  [theme=dark] .colab-df-quickchart {\n",
              "      --bg-color: #3B4455;\n",
              "      --fill-color: #D2E3FC;\n",
              "      --hover-bg-color: #434B5C;\n",
              "      --hover-fill-color: #FFFFFF;\n",
              "      --disabled-bg-color: #3B4455;\n",
              "      --disabled-fill-color: #666;\n",
              "  }\n",
              "\n",
              "  .colab-df-quickchart {\n",
              "    background-color: var(--bg-color);\n",
              "    border: none;\n",
              "    border-radius: 50%;\n",
              "    cursor: pointer;\n",
              "    display: none;\n",
              "    fill: var(--fill-color);\n",
              "    height: 32px;\n",
              "    padding: 0;\n",
              "    width: 32px;\n",
              "  }\n",
              "\n",
              "  .colab-df-quickchart:hover {\n",
              "    background-color: var(--hover-bg-color);\n",
              "    box-shadow: 0 1px 2px rgba(60, 64, 67, 0.3), 0 1px 3px 1px rgba(60, 64, 67, 0.15);\n",
              "    fill: var(--button-hover-fill-color);\n",
              "  }\n",
              "\n",
              "  .colab-df-quickchart-complete:disabled,\n",
              "  .colab-df-quickchart-complete:disabled:hover {\n",
              "    background-color: var(--disabled-bg-color);\n",
              "    fill: var(--disabled-fill-color);\n",
              "    box-shadow: none;\n",
              "  }\n",
              "\n",
              "  .colab-df-spinner {\n",
              "    border: 2px solid var(--fill-color);\n",
              "    border-color: transparent;\n",
              "    border-bottom-color: var(--fill-color);\n",
              "    animation:\n",
              "      spin 1s steps(1) infinite;\n",
              "  }\n",
              "\n",
              "  @keyframes spin {\n",
              "    0% {\n",
              "      border-color: transparent;\n",
              "      border-bottom-color: var(--fill-color);\n",
              "      border-left-color: var(--fill-color);\n",
              "    }\n",
              "    20% {\n",
              "      border-color: transparent;\n",
              "      border-left-color: var(--fill-color);\n",
              "      border-top-color: var(--fill-color);\n",
              "    }\n",
              "    30% {\n",
              "      border-color: transparent;\n",
              "      border-left-color: var(--fill-color);\n",
              "      border-top-color: var(--fill-color);\n",
              "      border-right-color: var(--fill-color);\n",
              "    }\n",
              "    40% {\n",
              "      border-color: transparent;\n",
              "      border-right-color: var(--fill-color);\n",
              "      border-top-color: var(--fill-color);\n",
              "    }\n",
              "    60% {\n",
              "      border-color: transparent;\n",
              "      border-right-color: var(--fill-color);\n",
              "    }\n",
              "    80% {\n",
              "      border-color: transparent;\n",
              "      border-right-color: var(--fill-color);\n",
              "      border-bottom-color: var(--fill-color);\n",
              "    }\n",
              "    90% {\n",
              "      border-color: transparent;\n",
              "      border-bottom-color: var(--fill-color);\n",
              "    }\n",
              "  }\n",
              "</style>\n",
              "\n",
              "  <script>\n",
              "    async function quickchart(key) {\n",
              "      const quickchartButtonEl =\n",
              "        document.querySelector('#' + key + ' button');\n",
              "      quickchartButtonEl.disabled = true;  // To prevent multiple clicks.\n",
              "      quickchartButtonEl.classList.add('colab-df-spinner');\n",
              "      try {\n",
              "        const charts = await google.colab.kernel.invokeFunction(\n",
              "            'suggestCharts', [key], {});\n",
              "      } catch (error) {\n",
              "        console.error('Error during call to suggestCharts:', error);\n",
              "      }\n",
              "      quickchartButtonEl.classList.remove('colab-df-spinner');\n",
              "      quickchartButtonEl.classList.add('colab-df-quickchart-complete');\n",
              "    }\n",
              "    (() => {\n",
              "      let quickchartButtonEl =\n",
              "        document.querySelector('#df-aa1b5384-c649-4bd9-ac77-cd781b980f9e button');\n",
              "      quickchartButtonEl.style.display =\n",
              "        google.colab.kernel.accessAllowed ? 'block' : 'none';\n",
              "    })();\n",
              "  </script>\n",
              "</div>\n",
              "\n",
              "    </div>\n",
              "  </div>\n"
            ],
            "text/plain": [
              "     event_time ifo   peak_time  peak_time_ns  start_time  start_time_ns  \\\n",
              "0  1.134216e+09  L1  1134216192     931639909  1134216192      832031011   \n",
              "1  1.129360e+09  L1  1129359781     558593034  1129359781       47851085   \n",
              "2  1.127425e+09  L1  1127425468     976317882  1127425468      960937023   \n",
              "3  1.132637e+09  L1  1132636755     365233898  1132636754      951172113   \n",
              "4  1.132036e+09  L1  1132035853     197264909  1132035852      933837890   \n",
              "\n",
              "   duration   search  process_id  event_id  ...  chisq_dof  param_one_name  \\\n",
              "0   0.18750  Omicron           0        21  ...          0           phase   \n",
              "1   0.94238  Omicron           0       107  ...          0           phase   \n",
              "2   0.04688  Omicron           0       218  ...          0           phase   \n",
              "3   0.82422  Omicron           0        88  ...          0           phase   \n",
              "4   2.00366  Omicron           0        16  ...          0           phase   \n",
              "\n",
              "   param_one_value gravityspy_id    label  sample_type  \\\n",
              "0         -2.72902    zmIdpucyOG  Whistle        train   \n",
              "1          1.10682    zWFRqqDxwv  Whistle         test   \n",
              "2         -0.83099    zKCTakFVcf  Whistle        train   \n",
              "3          0.76242    z14BdoiFZS  Whistle   validation   \n",
              "4         -0.31161    yyjqLCtAmO  Whistle   validation   \n",
              "\n",
              "                                                url1  \\\n",
              "0  https://panoptes-uploads.zooniverse.org/produc...   \n",
              "1  https://panoptes-uploads.zooniverse.org/produc...   \n",
              "2  https://panoptes-uploads.zooniverse.org/produc...   \n",
              "3  https://panoptes-uploads.zooniverse.org/produc...   \n",
              "4  https://panoptes-uploads.zooniverse.org/produc...   \n",
              "\n",
              "                                                url2  \\\n",
              "0  https://panoptes-uploads.zooniverse.org/produc...   \n",
              "1  https://panoptes-uploads.zooniverse.org/produc...   \n",
              "2  https://panoptes-uploads.zooniverse.org/produc...   \n",
              "3  https://panoptes-uploads.zooniverse.org/produc...   \n",
              "4  https://panoptes-uploads.zooniverse.org/produc...   \n",
              "\n",
              "                                                url3  \\\n",
              "0  https://panoptes-uploads.zooniverse.org/produc...   \n",
              "1  https://panoptes-uploads.zooniverse.org/produc...   \n",
              "2  https://panoptes-uploads.zooniverse.org/produc...   \n",
              "3  https://panoptes-uploads.zooniverse.org/produc...   \n",
              "4  https://panoptes-uploads.zooniverse.org/produc...   \n",
              "\n",
              "                                                url4  \n",
              "0  https://panoptes-uploads.zooniverse.org/produc...  \n",
              "1  https://panoptes-uploads.zooniverse.org/produc...  \n",
              "2  https://panoptes-uploads.zooniverse.org/produc...  \n",
              "3  https://panoptes-uploads.zooniverse.org/produc...  \n",
              "4  https://panoptes-uploads.zooniverse.org/produc...  \n",
              "\n",
              "[5 rows x 28 columns]"
            ]
          },
          "execution_count": 4,
          "metadata": {},
          "output_type": "execute_result"
        }
      ],
      "source": [
        "datos = pd.read_csv('trainingset_v1d1_metadata.csv', delimiter=',')\n",
        "datos.head()"
      ]
    },
    {
      "cell_type": "code",
      "execution_count": 5,
      "metadata": {
        "colab": {
          "base_uri": "https://localhost:8080/",
          "height": 430
        },
        "id": "wPgDxwArqlLQ",
        "outputId": "2d964e19-045d-4308-d139-54275903baaf"
      },
      "outputs": [
        {
          "data": {
            "image/png": "[encoded data removed]",
            "text/plain": [
              "<Figure size 640x480 with 1 Axes>"
            ]
          },
          "metadata": {},
          "output_type": "display_data"
        }
      ],
      "source": [
        "#Importo una muestra cualquiera\n",
        "n = 100\n",
        "sample_data = datos['duration'].sample(n=n)\n",
        "sample = sample_data.values\n",
        "plt.hist(sample,bins='auto')\n",
        "plt.show()"
      ]
    },
    {
      "cell_type": "code",
      "execution_count": 6,
      "metadata": {
        "id": "gnV_ZDAG9RXp"
      },
      "outputs": [],
      "source": [
        "#Defino la distribución empírica F_hat\n",
        "F_hat = stats.ecdf(sample)"
      ]
    },
    {
      "cell_type": "code",
      "execution_count": 9,
      "metadata": {
        "colab": {
          "base_uri": "https://localhost:8080/",
          "height": 260
        },
        "id": "rw7xTA0i9St_",
        "outputId": "7aedba6a-6de3-4f09-8e31-a2d7f93cdb42"
      },
      "outputs": [
        {
          "data": {
            "text/html": [
              "<div style=\"max-width:800px; border: 1px solid var(--colab-border-color);\"><style>\n",
              "      pre.function-repr-contents {\n",
              "        overflow-x: auto;\n",
              "        padding: 8px 12px;\n",
              "        max-height: 500px;\n",
              "      }\n",
              "\n",
              "      pre.function-repr-contents.function-repr-contents-collapsed {\n",
              "        cursor: pointer;\n",
              "        max-height: 100px;\n",
              "      }\n",
              "    </style>\n",
              "    <pre style=\"white-space: initial; background:\n",
              "         var(--colab-secondary-surface-color); padding: 8px 12px;\n",
              "         border-bottom: 1px solid var(--colab-border-color);\"><b>scipy.stats._survival.ECDFResult</b><br/>def __init__(q, cdf, sf, n, d)</pre><pre class=\"function-repr-contents function-repr-contents-collapsed\" style=\"\"><a class=\"filepath\" style=\"display:none\" href=\"#\">/usr/local/lib/python3.11/dist-packages/scipy/stats/_survival.py</a>Result object returned by `scipy.stats.ecdf`\n",
              "\n",
              "Attributes\n",
              "----------\n",
              "cdf : `~scipy.stats._result_classes.EmpiricalDistributionFunction`\n",
              "    An object representing the empirical cumulative distribution function.\n",
              "sf : `~scipy.stats._result_classes.EmpiricalDistributionFunction`\n",
              "    An object representing the complement of the empirical cumulative\n",
              "    distribution function.</pre>\n",
              "      <script>\n",
              "      if (google.colab.kernel.accessAllowed && google.colab.files && google.colab.files.view) {\n",
              "        for (const element of document.querySelectorAll('.filepath')) {\n",
              "          element.style.display = 'block'\n",
              "          element.onclick = (event) => {\n",
              "            event.preventDefault();\n",
              "            event.stopPropagation();\n",
              "            google.colab.files.view(element.textContent, 222);\n",
              "          };\n",
              "        }\n",
              "      }\n",
              "      for (const element of document.querySelectorAll('.function-repr-contents')) {\n",
              "        element.onclick = (event) => {\n",
              "          event.preventDefault();\n",
              "          event.stopPropagation();\n",
              "          element.classList.toggle('function-repr-contents-collapsed');\n",
              "        };\n",
              "      }\n",
              "      </script>\n",
              "      </div>"
            ],
            "text/plain": [
              "scipy.stats._survival.ECDFResult"
            ]
          },
          "execution_count": 9,
          "metadata": {},
          "output_type": "execute_result"
        }
      ],
      "source": [
        "type(F_hat)"
      ]
    },
    {
      "cell_type": "code",
      "execution_count": 10,
      "metadata": {
        "colab": {
          "base_uri": "https://localhost:8080/",
          "height": 472
        },
        "id": "IxelmLjlbfCs",
        "outputId": "76663290-a44f-47e2-b6db-be8f2b5c0f38"
      },
      "outputs": [
        {
          "data": {
            "image/png": "[encoded data removed]",
            "text/plain": [
              "<Figure size 640x480 with 1 Axes>"
            ]
          },
          "metadata": {},
          "output_type": "display_data"
        }
      ],
      "source": [
        "#Defino la distribución empírica F_hat\n",
        "F_hat = stats.ecdf(sample)\n",
        "\n",
        "#Para trabajar con la CDF invocamos al atributo cdf y graficamos\n",
        "ax = plt.subplot()\n",
        "F_hat.cdf.plot(ax)\n",
        "ax.set_xlabel('x')\n",
        "ax.set_ylabel(r'$\\hat{F_n}(x)$')\n",
        "plt.title('Función de distribución empírica')\n",
        "plt.show()"
      ]
    },
    {
      "cell_type": "code",
      "execution_count": 21,
      "metadata": {
        "colab": {
          "base_uri": "https://localhost:8080/",
          "height": 346
        },
        "id": "N4vbEmD9-o_4",
        "outputId": "63bdf192-e959-458b-ad5d-2bb0f3d2f544"
      },
      "outputs": [
        {
          "name": "stdout",
          "output_type": "stream",
          "text": [
            "[1. 2. 3. 4.]\n",
            "[0.2 0.6 0.8 1. ]\n",
            "0.6\n"
          ]
        },
        {
          "data": {
            "image/png": "[encoded data removed]",
            "text/plain": [
              "<Figure size 300x300 with 1 Axes>"
            ]
          },
          "metadata": {},
          "output_type": "display_data"
        }
      ],
      "source": [
        "x_ejemplo = [3,1,2,4,2]\n",
        "F_hat_ejemplo = stats.ecdf(x_ejemplo)\n",
        "\n",
        "x_ordenados = F_hat_ejemplo.cdf.quantiles\n",
        "F_probabilidades = F_hat_ejemplo.cdf.probabilities\n",
        "print(x_ordenados)\n",
        "print(F_probabilidades)\n",
        "\n",
        "plt.figure(figsize=(3, 3))\n",
        "ax = plt.subplot()\n",
        "ax.step(x_ordenados,F_probabilidades,where='post')\n",
        "F_hat_ejemplo.cdf.plot(ax)\n",
        "\n",
        "print(F_hat_ejemplo.cdf.evaluate(2.0))"
      ]
    },
    {
      "cell_type": "code",
      "execution_count": 11,
      "metadata": {
        "id": "KFN7_zA59_3O"
      },
      "outputs": [],
      "source": [
        "#F_hat.cdf tiene, a su vez, dos atributos:\n",
        "x = F_hat.cdf.quantiles #array con los (X_1,...,X_n) de la muestra ordenados de menor a mayor"
      ]
    },
    {
      "cell_type": "code",
      "execution_count": 12,
      "metadata": {
        "colab": {
          "base_uri": "https://localhost:8080/"
        },
        "id": "4fcGJeWA-Aue",
        "outputId": "5570ba4e-6bab-441f-8140-ff1e63b26a5a"
      },
      "outputs": [
        {
          "data": {
            "text/plain": [
              "array([ 0.02734   ,  0.03125   ,  0.04688   ,  0.05859   ,  0.0625    ,\n",
              "        0.06641   ,  0.08594   ,  0.09033   ,  0.09375   ,  0.125     ,\n",
              "        0.14061999,  0.15625   ,  0.1875    ,  0.25      ,  0.25781   ,\n",
              "        0.29236001,  0.29297   ,  0.3125    ,  0.375     ,  0.39453   ,\n",
              "        0.42774001,  0.43164   ,  0.4375    ,  0.5       ,  0.625     ,\n",
              "        0.67919999,  0.68848002,  0.70911002,  0.78223002,  0.78417999,\n",
              "        0.875     ,  0.88085997,  0.89844   ,  0.9375    ,  0.99219   ,\n",
              "        1.        ,  1.00781   ,  1.0625    ,  1.19921994,  1.25      ,\n",
              "        1.5       ,  1.625     ,  1.75      ,  2.        ,  2.01074004,\n",
              "        2.39404011,  2.54883003,  2.58643007,  2.8125    ,  3.        ,\n",
              "        3.30890012,  3.37987995,  3.56006002,  3.75      ,  3.78272009,\n",
              "        4.        ,  4.28710985,  4.58593988,  4.75976992,  4.76562023,\n",
              "        4.76758003,  4.98730993,  5.        ,  5.5       ,  5.8125    ,\n",
              "        6.        ,  6.60937977,  6.875     ,  8.125     ,  9.        ,\n",
              "        9.75      , 11.        ])"
            ]
          },
          "execution_count": 12,
          "metadata": {},
          "output_type": "execute_result"
        }
      ],
      "source": [
        "x"
      ]
    },
    {
      "cell_type": "code",
      "execution_count": 13,
      "metadata": {
        "colab": {
          "base_uri": "https://localhost:8080/"
        },
        "id": "OXUcE5ru-GHS",
        "outputId": "c0050c48-54fe-4995-eea3-1edd2707c8d9"
      },
      "outputs": [
        {
          "data": {
            "text/plain": [
              "array([0.01, 0.02, 0.04, 0.05, 0.06, 0.07, 0.08, 0.09, 0.1 , 0.11, 0.12,\n",
              "       0.14, 0.16, 0.17, 0.18, 0.19, 0.2 , 0.25, 0.29, 0.3 , 0.31, 0.32,\n",
              "       0.33, 0.37, 0.4 , 0.41, 0.42, 0.43, 0.44, 0.45, 0.48, 0.49, 0.5 ,\n",
              "       0.51, 0.53, 0.54, 0.55, 0.56, 0.57, 0.58, 0.6 , 0.61, 0.67, 0.71,\n",
              "       0.72, 0.73, 0.74, 0.75, 0.76, 0.77, 0.78, 0.79, 0.8 , 0.81, 0.82,\n",
              "       0.84, 0.85, 0.86, 0.87, 0.88, 0.89, 0.9 , 0.91, 0.92, 0.93, 0.94,\n",
              "       0.95, 0.96, 0.97, 0.98, 0.99, 1.  ])"
            ]
          },
          "execution_count": 13,
          "metadata": {},
          "output_type": "execute_result"
        }
      ],
      "source": [
        "F = F_hat.cdf.probabilities #array con la CDF para cada valor correspondiente de x\n",
        "F"
      ]
    },
    {
      "cell_type": "code",
      "execution_count": 23,
      "metadata": {
        "colab": {
          "base_uri": "https://localhost:8080/",
          "height": 472
        },
        "id": "-xPejJ1BeiGA",
        "outputId": "9dacf4c0-8fca-4b7a-ee05-10b8977acf55"
      },
      "outputs": [
        {
          "data": {
            "image/png": "[encoded data removed]",
            "text/plain": [
              "<Figure size 640x480 with 1 Axes>"
            ]
          },
          "metadata": {},
          "output_type": "display_data"
        }
      ],
      "source": [
        "ax = plt.subplot()\n",
        "ax.step(x,F,where='post') #manuealmente\n",
        "F_hat.cdf.plot(ax,ls=':') #automaticamente\n",
        "\n",
        "ax.set_xlabel('x')\n",
        "ax.set_ylabel(r'$\\hat{F_n}(x)$')\n",
        "plt.title('Función de distribución empírica')\n",
        "plt.show()"
      ]
    },
    {
      "cell_type": "code",
      "execution_count": 24,
      "metadata": {
        "colab": {
          "base_uri": "https://localhost:8080/"
        },
        "id": "YolD_PpKpZ0z",
        "outputId": "67168a94-acd1-4e39-f737-4138ada81540"
      },
      "outputs": [
        {
          "data": {
            "text/plain": [
              "array(0.71)"
            ]
          },
          "execution_count": 24,
          "metadata": {},
          "output_type": "execute_result"
        }
      ],
      "source": [
        "#Para evaluar F_hat en un valor arbitrario de x podemos usar el método evaluate(x)\n",
        "F_hat.cdf.evaluate(2.0)"
      ]
    },
    {
      "cell_type": "code",
      "execution_count": null,
      "metadata": {
        "id": "XJDXmtGHBpSB"
      },
      "outputs": [],
      "source": [
        "# np.random.seed(42)\n",
        "# sample = np.random.normal(loc=0, scale=1, size=100)"
      ]
    },
    {
      "cell_type": "markdown",
      "metadata": {
        "id": "VE1ItyzkDS-6"
      },
      "source": [
        "### Funcionales estadísticos"
      ]
    },
    {
      "cell_type": "markdown",
      "metadata": {
        "id": "8rNCuZdmAO0L"
      },
      "source": [
        "Llamamos $T(F)$ a un funcional estadístico de una distribución $F$. Es cualquier cantidad que se pueda calcular como función de $F$ (ej: promedio, varianza, cuantiles, etc.)\n",
        "\n",
        "Para obtener estimar cualquier $T(F)$ podemos usar el estimador \"plug-in\", que es simplemente reemplazar $F$ con $\\hat{F_n}$.\n",
        "\n",
        "Por ejemplo, la media de una variable aleatoria $X \\sim F$ es\n",
        "\n",
        "$$ \\mu = E(X) =  \\sum_{x}x p_X(x) \\hspace{1cm} \\text{(caso discreto)}$$\n",
        "$$ \\mu = E(X) =  \\int x f_X(x)dx \\hspace{1cm} \\text{(caso continuo)} $$\n",
        "\n",
        "Entonces, el estimador plug-in de $\\mu$ será\n",
        "$$\\hat{\\mu} = \\frac{1}{n}\\sum_{i=1}^{n}X_i$$\n",
        "\n",
        "es decir, el promedio muestral.\n",
        "\n",
        "Resumidamente, podemos estimar cualquier funcional estadístico por su contraparte muestral."
      ]
    },
    {
      "cell_type": "code",
      "execution_count": 25,
      "metadata": {
        "colab": {
          "base_uri": "https://localhost:8080/"
        },
        "id": "jxlJ0LziFHMf",
        "outputId": "7d31d1f3-b36f-450d-8b62-feee8d415f41"
      },
      "outputs": [
        {
          "name": "stdout",
          "output_type": "stream",
          "text": [
            "media = 1.9385826001502573\n",
            "mediana = 0.9179700016975405\n",
            "std = 2.3074025550886326\n",
            "25-cuartil = 0.359375\n"
          ]
        }
      ],
      "source": [
        "#algunas características muestrales\n",
        "\n",
        "#promedio\n",
        "mean = np.mean(sample)\n",
        "\n",
        "#varianza\n",
        "var = np.var(sample)\n",
        "\n",
        "#desvío estándar (sqrt(var))\n",
        "std = np.std(sample)\n",
        "\n",
        "#mediana\n",
        "median = np.median(sample)\n",
        "\n",
        "#cuantiles\n",
        "quantile = np.quantile(sample,q = 0.25)\n",
        "\n",
        "\n",
        "print('media =',mean)\n",
        "print('mediana =',median)\n",
        "print('std =',std)\n",
        "print('25-cuartil =',quantile)"
      ]
    },
    {
      "cell_type": "code",
      "execution_count": 26,
      "metadata": {
        "colab": {
          "base_uri": "https://localhost:8080/"
        },
        "id": "2k9qeM2LDBBx",
        "outputId": "a7c49f3c-be4b-419c-bf3b-abcd22d32565"
      },
      "outputs": [
        {
          "name": "stdout",
          "output_type": "stream",
          "text": [
            "asimetría =  1.783922425458854\n",
            "correlación con Y:amplitud = 0.39542136442423825\n"
          ]
        }
      ],
      "source": [
        "#asimetría: si es negativa, tiene una cola más larga a la izquierda; positiva, a la derecha\n",
        "skewness = stats.skew(sample)\n",
        "\n",
        "#correlación\n",
        "sample_id = sample_data.index\n",
        "sample_2 = datos.loc[sample_id, 'amplitude'].values\n",
        "correlation = stats.pearsonr(sample,sample_2).statistic\n",
        "\n",
        "print('asimetría = ',skewness)\n",
        "print('correlación con Y:amplitud =',correlation)"
      ]
    },
    {
      "cell_type": "markdown",
      "metadata": {
        "id": "gpAC1xYvxcUn"
      },
      "source": [
        "### Intervalos de confianza\n",
        "\n",
        "Podemos construír un intervalo de confianza de nivel $1-\\alpha$ para $F$ donde los bordes inferiores y superiores $L(x)$ y $U(x)$ son:\n",
        "$$ L(x) = \\max(\\hat{F_n}(x)-\\epsilon_n,0)$$\n",
        "$$ U(x) = \\min(\\hat{F_n}(x)+\\epsilon_n,1)$$\n",
        "\n",
        "con $ \\epsilon_n = \\sqrt{\\frac{1}{2n}\\log(\\frac{2}{\\alpha})} $\n",
        "\n",
        "Con estos valores, $P(L(x)\\leq F(x) \\leq U(x) )\\geq 1-\\alpha$ para cualquier $F$.\n",
        "\n",
        "**$\\hat{F_n}(x)$ es la función de distribución acumulada empírica**"
      ]
    },
    {
      "cell_type": "code",
      "execution_count": 27,
      "metadata": {
        "id": "yhomxAHLGLh7"
      },
      "outputs": [],
      "source": [
        "def confidence_interval_dkw(ecdf,alpha=0.05):\n",
        "  L = []\n",
        "  U = []\n",
        "  n = len(ecdf.probabilities)\n",
        "  epsilon_n = np.sqrt(np.log(2/alpha)/(2*n))\n",
        "  for i in range(0,n):\n",
        "    L_i = np.max([ecdf.probabilities[i]-epsilon_n,0])\n",
        "    U_i = np.min([ecdf.probabilities[i]+epsilon_n,1])\n",
        "    L.append(L_i)\n",
        "    U.append(U_i)\n",
        "  return L,U\n",
        "\n",
        "low,up = confidence_interval_dkw(F_hat.cdf,alpha=0.05)"
      ]
    },
    {
      "cell_type": "code",
      "execution_count": 30,
      "metadata": {
        "colab": {
          "base_uri": "https://localhost:8080/",
          "height": 490
        },
        "id": "u5bpXdgXgIDK",
        "outputId": "d115d79f-0f6d-46f5-d564-89f56267c8b0"
      },
      "outputs": [
        {
          "data": {
            "text/plain": [
              "Text(0.5, 1.0, 'Función de distribución empírica')"
            ]
          },
          "execution_count": 30,
          "metadata": {},
          "output_type": "execute_result"
        },
        {
          "data": {
            "image/png": "[encoded data removed]",
            "text/plain": [
              "<Figure size 640x480 with 1 Axes>"
            ]
          },
          "metadata": {},
          "output_type": "display_data"
        }
      ],
      "source": [
        "ax = plt.subplot()\n",
        "ax.step(x,low,'r--',alpha=0.5,where='post')\n",
        "ax.step(x,up,'r--',alpha=0.5,where='post')\n",
        "F_hat.cdf.plot(ax)\n",
        "ax.set_xlabel('x')\n",
        "ax.set_ylabel(r'$\\hat{F_n}(x)$')\n",
        "plt.title('Función de distribución empírica')\n"
      ]
    },
    {
      "cell_type": "markdown",
      "metadata": {
        "id": "qKpcrYpApZWg"
      },
      "source": [
        "### Ejemplo con F~N(0,1)\n",
        "\n",
        "Empecemos generando una muestra aleatoria $$X_1,...,X_{100} \\sim \\mathcal{N}(0,1) $$"
      ]
    },
    {
      "cell_type": "code",
      "execution_count": 31,
      "metadata": {
        "colab": {
          "base_uri": "https://localhost:8080/",
          "height": 452
        },
        "id": "PW9DCrV8abmy",
        "outputId": "4d142a9c-54cb-413a-c493-ae129aafa335"
      },
      "outputs": [
        {
          "data": {
            "image/png": "[encoded data removed]",
            "text/plain": [
              "<Figure size 640x480 with 1 Axes>"
            ]
          },
          "metadata": {},
          "output_type": "display_data"
        }
      ],
      "source": [
        "mu = 0\n",
        "sigma = 1\n",
        "n = 100\n",
        "\n",
        "norm_sample = stats.norm.rvs(size=n,loc=mu,scale=sigma)\n",
        "\n",
        "plt.hist(norm_sample, density=True, bins='auto')\n",
        "plt.title('Muestra N(0,1), n = {}'.format(n))\n",
        "plt.show()"
      ]
    },
    {
      "cell_type": "code",
      "execution_count": 34,
      "metadata": {
        "colab": {
          "base_uri": "https://localhost:8080/",
          "height": 490
        },
        "id": "B764ZgYrjXpB",
        "outputId": "ddaa2b31-00db-46c0-9c1e-1471bd90c71b"
      },
      "outputs": [
        {
          "data": {
            "text/plain": [
              "<matplotlib.legend.Legend at 0x7dca792f3a10>"
            ]
          },
          "execution_count": 34,
          "metadata": {},
          "output_type": "execute_result"
        },
        {
          "data": {
            "image/png": "[encoded data removed]",
            "text/plain": [
              "<Figure size 640x480 with 1 Axes>"
            ]
          },
          "metadata": {},
          "output_type": "display_data"
        }
      ],
      "source": [
        "#norm_sample = stats.norm.rvs(size=n,loc=mu,scale=sigma)\n",
        "F_hat = stats.ecdf(norm_sample)\n",
        "x = F_hat.cdf.quantiles\n",
        "F = F_hat.cdf.probabilities\n",
        "\n",
        "alpha = 0.05  #0.5\n",
        "low,up = confidence_interval_dkw(F_hat.cdf,alpha=alpha)\n",
        "\n",
        "\n",
        "ax = plt.subplot()\n",
        "F_hat.cdf.plot(ax,label=r'$\\hat{F_n}(x)$')\n",
        "ax.step(x,low,'r--',alpha=0.5,where='post',label='IC {}'.format(1-alpha))\n",
        "ax.step(x,up,'r--',alpha=0.5,where='post')\n",
        "ax.plot(x,stats.norm.cdf(x),color='g',label='F~N(0,1)')\n",
        "ax.set_xlabel('x')\n",
        "ax.set_ylabel(r'$\\hat{F_n}(x)$')\n",
        "plt.title('Función de distribución empírica')\n",
        "plt.legend()"
      ]
    },
    {
      "cell_type": "markdown",
      "metadata": {
        "id": "GOL6Q66g903J"
      },
      "source": [
        "### Ejercicio\n",
        "Repetir el experimento 1000 veces con un IC de nivel 0.95 y registrar en cuántos casos el intervalo de confianza contiene **completamente** la función de distribución verdadera."
      ]
    },
    {
      "cell_type": "code",
      "execution_count": null,
      "metadata": {
        "id": "JMUMz2haY-tB"
      },
      "outputs": [],
      "source": []
    },
    {
      "cell_type": "markdown",
      "metadata": {
        "id": "kPoBeJ86JzCN"
      },
      "source": [
        "### Error y desvío estándar de $\\hat{\\mu}$\n",
        "Particularmente para el estimador del promedio $\\hat{\\mu} = \\bar{X_n}$ podemos calcular su desvío estándar, ya que es el error estándar del promedio muestral.\n",
        "\n",
        "$$\\text{se}(\\hat{\\mu}) = \\sqrt{\\text{var}(\\bar{X_n})} = \\frac{\\sigma}{\\sqrt{n}} $$\n",
        "\n",
        "donde $\\sigma$ es el desvío estándar de $X\\sim F$.\n",
        "\n",
        "Por lo tanto, para estimar $\\text{se}(\\hat{\\mu})$, reemplazamos $\\sigma$ por $\\hat{\\sigma} = \\sqrt{\\frac{1}{n}\\sum_{i=1}^{n}(X_i-\\bar{X_n})^{2}}$, el desvío estándar muestral.\n",
        "\n",
        "También podemos estimar un intervalo de confianza de nivel $1-\\alpha$ para $\\hat{\\mu}$ como\n",
        "$$\\hat{\\text{IC}}(\\hat{\\mu}) = \\hat{\\mu} \\pm z_{\\frac{\\alpha}{2}}\\hat{\\text{se}} $$"
      ]
    },
    {
      "cell_type": "code",
      "execution_count": 35,
      "metadata": {
        "colab": {
          "base_uri": "https://localhost:8080/"
        },
        "id": "KNH6CgGCNGV5",
        "outputId": "96fa3430-4fc9-4f09-d2df-e8c97c163aa2"
      },
      "outputs": [
        {
          "name": "stdout",
          "output_type": "stream",
          "text": [
            "promedio = 1.9385826001502573\n",
            "error estándar del promedio = 0.23074025550886326\n",
            "IC =  [np.float64(1.4863400095693156), np.float64(2.3908251907311993)]\n"
          ]
        }
      ],
      "source": [
        "mean = np.mean(sample)\n",
        "se_mean = std/np.sqrt(n)\n",
        "\n",
        "alpha = 0.05\n",
        "low = mean - stats.norm.ppf(1-alpha/2)*se_mean\n",
        "up = mean + stats.norm.ppf(1-alpha/2)*se_mean\n",
        "\n",
        "print('promedio =',mean)\n",
        "print('error estándar del promedio =',se_mean)\n",
        "print('IC = ',[low,up])"
      ]
    },
    {
      "cell_type": "markdown",
      "metadata": {
        "id": "7VZYg6MBVwpC"
      },
      "source": [
        "### Ejercicio comparación de dos muestras\n",
        "\n",
        "Tenemos muestras de tamaños de cráneos masculinos encontrados en Egipto que corresponden a dos épocas distintas. Los datos vienen de [este repositorio](https://dasl.datadescription.com/datafile/egyptians/?_sfm_methods=Comparing+Groups&_sfm_cases=4+59943).\n",
        "\n",
        "Queremos saber si la media de los cráneos es la misma o cambió de una época a la otra. Para eso, hallar un estimador de $\\theta = \\mu_1-\\mu_2$ y proporcionar un error estándar y un interavalo de confianza para este estimador. Decidir si son distintos o no"
      ]
    },
    {
      "cell_type": "code",
      "execution_count": 23,
      "metadata": {
        "id": "XfrqCWLONxjy",
        "outputId": "92e63869-ece4-4d1c-dfe0-a5f111344619"
      },
      "outputs": [
        {
          "data": {
            "text/html": [
              "<div>\n",
              "<style scoped>\n",
              "    .dataframe tbody tr th:only-of-type {\n",
              "        vertical-align: middle;\n",
              "    }\n",
              "\n",
              "    .dataframe tbody tr th {\n",
              "        vertical-align: top;\n",
              "    }\n",
              "\n",
              "    .dataframe thead th {\n",
              "        text-align: right;\n",
              "    }\n",
              "</style>\n",
              "<table border=\"1\" class=\"dataframe\">\n",
              "  <thead>\n",
              "    <tr style=\"text-align: right;\">\n",
              "      <th></th>\n",
              "      <th>4000 BCE</th>\n",
              "      <th>200 BCE</th>\n",
              "    </tr>\n",
              "  </thead>\n",
              "  <tbody>\n",
              "    <tr>\n",
              "      <th>0</th>\n",
              "      <td>131</td>\n",
              "      <td>141</td>\n",
              "    </tr>\n",
              "    <tr>\n",
              "      <th>1</th>\n",
              "      <td>125</td>\n",
              "      <td>141</td>\n",
              "    </tr>\n",
              "    <tr>\n",
              "      <th>2</th>\n",
              "      <td>131</td>\n",
              "      <td>135</td>\n",
              "    </tr>\n",
              "    <tr>\n",
              "      <th>3</th>\n",
              "      <td>119</td>\n",
              "      <td>133</td>\n",
              "    </tr>\n",
              "    <tr>\n",
              "      <th>4</th>\n",
              "      <td>136</td>\n",
              "      <td>131</td>\n",
              "    </tr>\n",
              "  </tbody>\n",
              "</table>\n",
              "</div>"
            ],
            "text/plain": [
              "   4000 BCE  200 BCE\n",
              "0       131      141\n",
              "1       125      141\n",
              "2       131      135\n",
              "3       119      133\n",
              "4       136      131"
            ]
          },
          "execution_count": 23,
          "metadata": {},
          "output_type": "execute_result"
        }
      ],
      "source": [
        "import pandas as pd\n",
        "import numpy as np\n",
        "import matplotlib.pyplot as plt\n",
        "from scipy import stats\n",
        "\n",
        "datos = pd.read_csv('egyptians.txt', delimiter='\\t')\n",
        "\n",
        "datos.head()"
      ]
    },
    {
      "cell_type": "markdown",
      "metadata": {
        "id": "WYtCHxa6Nxjy"
      },
      "source": [
        "Hay que usar $$\\hat{\\theta} = \\hat{\\mu_2}-\\hat{\\mu_1}$$\n",
        "$$\\hat{\\text{se}}(\\hat{\\theta}) = \\sqrt{\\hat{\\text{var}}(\\hat{\\mu_2}-\\hat{\\mu_1})} = \\sqrt{\\hat{\\text{se}}(\\hat{\\mu_2})^{2}+\\hat{\\text{se}}(\\hat{\\mu_1})^{2}}$$"
      ]
    },
    {
      "cell_type": "code",
      "execution_count": null,
      "metadata": {},
      "outputs": [],
      "source": [
        "bce_4000 = np.array(datos['4000 BCE'].values)\n",
        "bce_200 = np.array(datos['200 BCE'].values)"
      ]
    },
    {
      "cell_type": "code",
      "execution_count": 21,
      "metadata": {},
      "outputs": [
        {
          "data": {
            "image/png": "[encoded data removed]",
            "text/plain": [
              "<Figure size 640x480 with 1 Axes>"
            ]
          },
          "metadata": {},
          "output_type": "display_data"
        }
      ],
      "source": [
        "plt.hist(bce_4000,bins='auto')\n",
        "plt.hist(bce_200,bins='auto', alpha=0.6)\n",
        "plt.show()"
      ]
    },
    {
      "cell_type": "code",
      "execution_count": null,
      "metadata": {},
      "outputs": [
        {
          "name": "stdout",
          "output_type": "stream",
          "text": [
            "theta:  4.2666666666666515\n"
          ]
        }
      ],
      "source": [
        "media_4000 = np.mean(bce_4000)\n",
        "media_200 = np.mean(bce_200)\n",
        "\n",
        "theta = media_200 - media_4000\n",
        "\n",
        "print('theta: ', theta)\n"
      ]
    },
    {
      "cell_type": "code",
      "execution_count": null,
      "metadata": {},
      "outputs": [
        {
          "name": "stdout",
          "output_type": "stream",
          "text": [
            "se_4000:  0.9207283751143658\n",
            "se_200:  0.7249265607759993\n",
            "se_theta:  1.171861450538953\n"
          ]
        }
      ],
      "source": [
        "# se(u) = sqrt(Var(u)/n) = sigma/sqrt(n)\n",
        "se_media_4000 = np.std(bce_4000)/np.sqrt(len(bce_4000))\n",
        "se_media_200 = np.std(bce_200)/np.sqrt(len(bce_200))\n",
        "\n",
        "se_theta = np.sqrt(se_media_4000**2 + se_media_200**2)\n",
        "\n",
        "print('se_media_4000: ', se_media_4000)\n",
        "print('se_media_200: ', se_media_200)\n",
        "print('se_theta: ', se_theta)                             "
      ]
    },
    {
      "cell_type": "code",
      "execution_count": null,
      "metadata": {},
      "outputs": [
        {
          "name": "stdout",
          "output_type": "stream",
          "text": [
            "promedio = 4.2666666666666515\n",
            "error estándar del promedio = 1.171861450538953\n",
            "IC =  [np.float64(1.9698604287394375), np.float64(6.563472904593866)]\n"
          ]
        }
      ],
      "source": [
        "# IC = [theta - z*se(theta), theta + z*se(theta)]\n",
        "alpha = 0.05\n",
        "low = theta - stats.norm.ppf(1-alpha/2)*se_theta\n",
        "up = theta + stats.norm.ppf(1-alpha/2)*se_theta\n",
        "\n",
        "print('IC = ',[low,up])"
      ]
    },
    {
      "cell_type": "code",
      "execution_count": null,
      "metadata": {
        "id": "reLjf-QpNxjy",
        "outputId": "737995fa-8b7d-4a5e-a707-af7d30cc2251"
      },
      "outputs": [
        {
          "name": "stdout",
          "output_type": "stream",
          "text": [
            "IC =  [1.9698604287394375, 6.563472904593866]\n"
          ]
        }
      ],
      "source": []
    }
  ],
  "metadata": {
    "colab": {
      "provenance": []
    },
    "kernelspec": {
      "display_name": ".venv_estadistica",
      "language": "python",
      "name": "python3"
    },
    "language_info": {
      "codemirror_mode": {
        "name": "ipython",
        "version": 3
      },
      "file_extension": ".py",
      "mimetype": "text/x-python",
      "name": "python",
      "nbconvert_exporter": "python",
      "pygments_lexer": "ipython3",
      "version": "3.12.5"
    }
  },
  "nbformat": 4,
  "nbformat_minor": 0
}
