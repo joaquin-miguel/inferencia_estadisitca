{
 "cells": [
  {
   "cell_type": "markdown",
   "id": "f1bd9977",
   "metadata": {},
   "source": [
    "En este ejercicio utilizaremos el dataset ‘wage1.txt‘\n",
    "de Wooldridge (2009), que es una base de datos de corte transversal de 526 trabajadores de Estados\n",
    "Unidos correspondiente a 1976. Este conjunto de datos contiene información sobre distintos atributos de individuos, incluyendo el logaritmo del salario horario (lwage), los años de escolaridad\n",
    "(educ), los años aproximados de experiencia laboral y su cuadrado (exper y expersq) y una variable\n",
    "indicadora que toma valor 1 para mujeres y 0 para hombres (female). Se pide"
   ]
  },
  {
   "cell_type": "code",
   "execution_count": 2,
   "id": "d70c97ee",
   "metadata": {},
   "outputs": [],
   "source": [
    "import numpy as np\n",
    "import matplotlib.pyplot as plt\n",
    "import pandas as pd"
   ]
  },
  {
   "cell_type": "code",
   "execution_count": 3,
   "id": "8a9f3e3d",
   "metadata": {},
   "outputs": [
    {
     "data": {
      "text/plain": [
       "Index(['clerocc', 'construc', 'educ', 'exper', 'expersq', 'female', 'lwage',\n",
       "       'married', 'ndurman', 'nonwhite', 'northcen', 'numdep', 'profocc',\n",
       "       'profserv', 'services', 'servocc', 'smsa', 'south', 'tenure', 'tenursq',\n",
       "       'trade', 'trcommpu', 'wage', 'west'],\n",
       "      dtype='object')"
      ]
     },
     "execution_count": 3,
     "metadata": {},
     "output_type": "execute_result"
    }
   ],
   "source": [
    "\n",
    "df = pd.read_csv('data/wage1/wage1.txt', sep='\\t')\n",
    "df.columns"
   ]
  },
  {
   "cell_type": "code",
   "execution_count": 4,
   "id": "153c6de8",
   "metadata": {},
   "outputs": [],
   "source": [
    "def get_betas(X, y):\n",
    "    return np.linalg.inv(X.T @ X) @ X.T @ y"
   ]
  },
  {
   "cell_type": "code",
   "execution_count": 5,
   "id": "c4acaf5d",
   "metadata": {},
   "outputs": [
    {
     "data": {
      "image/png": "[encoded data removed]",
      "text/plain": [
       "<Figure size 1200x500 with 2 Axes>"
      ]
     },
     "metadata": {},
     "output_type": "display_data"
    }
   ],
   "source": [
    "# Crear figura\n",
    "fig, axs = plt.subplots(1,2,figsize=(12, 5))\n",
    "\n",
    "# Histograma de wage\n",
    "axs[0].hist(df['wage'], bins=15, color='skyblue', edgecolor='black')\n",
    "axs[0].set_title('Distribución de Wage')\n",
    "axs[0].set_xlabel('Salario')\n",
    "axs[0].set_ylabel('Frecuencia')\n",
    "\n",
    "# Histograma de lwage\n",
    "axs[1].hist(df['lwage'], bins=15, color='lightgreen', edgecolor='black')\n",
    "axs[1].set_title('Distribución de Lwage')\n",
    "axs[1].set_xlabel('Logaritmo del Salario')\n",
    "axs[1].set_ylabel('Frecuencia')\n",
    "\n",
    "plt.tight_layout()\n",
    "plt.show()"
   ]
  },
  {
   "cell_type": "markdown",
   "id": "429a461d",
   "metadata": {},
   "source": [
    "(a) Ajustar el modelo lineal general\n",
    "𝑙𝑤𝑎𝑔𝑒 ∼ 𝛽0 + 𝛽1𝑒𝑑𝑢𝑐 + 𝛽2𝑒𝑥𝑝𝑒𝑟 + 𝛽3𝑒𝑥𝑝𝑒𝑟𝑠𝑞 + 𝛽4 𝑓 𝑒𝑚𝑎𝑙𝑒."
   ]
  },
  {
   "cell_type": "code",
   "execution_count": 6,
   "id": "c41a7c00",
   "metadata": {},
   "outputs": [],
   "source": [
    "regresores = ['educ', 'exper', 'expersq','female']\n",
    "\n",
    "X = df[regresores].values\n",
    "y = df['lwage'].values\n",
    "\n",
    "X = np.column_stack((np.ones(X.shape[0]), X))\n",
    "beta_hat = get_betas(X, y)"
   ]
  },
  {
   "cell_type": "code",
   "execution_count": 7,
   "id": "411adc20",
   "metadata": {},
   "outputs": [
    {
     "data": {
      "text/plain": [
       "array([ 0.39048305,  0.08413608,  0.03890997, -0.00068602, -0.33718676])"
      ]
     },
     "execution_count": 7,
     "metadata": {},
     "output_type": "execute_result"
    }
   ],
   "source": [
    "beta_hat"
   ]
  },
  {
   "cell_type": "markdown",
   "id": "24dca0ba",
   "metadata": {},
   "source": [
    "(b) Interpretar los coeficientes obtenidos"
   ]
  },
  {
   "cell_type": "code",
   "execution_count": 8,
   "id": "e8b149eb",
   "metadata": {},
   "outputs": [
    {
     "name": "stdout",
     "output_type": "stream",
     "text": [
      "Coeficientes estimados:\n",
      "intercepto : 0.3904830472699911\n",
      "educ : 0.0841360759837494\n",
      "exper : 0.03890996724500798\n",
      "expersq : -0.0006860225067380863\n",
      "female : -0.3371867592800123\n"
     ]
    }
   ],
   "source": [
    "print('Coeficientes estimados:')\n",
    "coef_names = ['intercepto'] + regresores\n",
    "for coef_name in coef_names:\n",
    "  print(coef_name, ':', beta_hat[coef_names.index(coef_name)])"
   ]
  },
  {
   "cell_type": "markdown",
   "id": "c4558e82",
   "metadata": {},
   "source": [
    "(c) Estimar el error irreducible del modelo 𝜎^2"
   ]
  },
  {
   "cell_type": "code",
   "execution_count": 9,
   "id": "1dc7c60d",
   "metadata": {},
   "outputs": [
    {
     "name": "stdout",
     "output_type": "stream",
     "text": [
      "Varianza estimada de los residuos: 0.17093784508103393\n"
     ]
    }
   ],
   "source": [
    "y_pred = X @ beta_hat\n",
    "residuos = y - y_pred\n",
    "\n",
    "# Obtener SCR (RSS)\n",
    "RSS = (residuos**2).sum()\n",
    "\n",
    "# Obtener sigma2_hat\n",
    "n,p = X.shape\n",
    "sigma2_hat = RSS / (n - p)\n",
    "\n",
    "print('Varianza estimada de los residuos:', sigma2_hat)"
   ]
  },
  {
   "cell_type": "markdown",
   "id": "83575dd7",
   "metadata": {},
   "source": [
    "(d) Realizar los test de significatividad individual para cada regresor. \n",
    "\n",
    "Seria h_0: beta = 0 (no tiene significancia). Se rechaza H0 si tiene significancia"
   ]
  },
  {
   "cell_type": "code",
   "execution_count": 17,
   "id": "69a0fbc0",
   "metadata": {},
   "outputs": [
    {
     "data": {
      "text/plain": [
       "(5, 5)"
      ]
     },
     "execution_count": 17,
     "metadata": {},
     "output_type": "execute_result"
    }
   ],
   "source": [
    "# Obtener la matriz de varianzas y covarianzas no-escalada\n",
    "XTX_1 = np.linalg.inv(X.T @ X)\n",
    "\n",
    "# Calcular la varianza de los estimadores\n",
    "var_cov = sigma2_hat * XTX_1\n",
    "\n",
    "# Coeficiente estimado y su desviación estándar para female\n",
    "#beta_female = beta_hat[-1]  # Último coeficiente (female)\n",
    "#se_beta_female = np.sqrt(var_cov[-1, -1])\n",
    "\n",
    "var_cov.shape"
   ]
  },
  {
   "cell_type": "code",
   "execution_count": 28,
   "id": "49a83edc",
   "metadata": {},
   "outputs": [
    {
     "name": "stdout",
     "output_type": "stream",
     "text": [
      "Coeficiente estimado para intercepto: 0.3904830472699911\n",
      "t estadístico: 3.82041316313688\n",
      "p-valor:  0.00014929512146699686\n",
      "\n",
      "\n",
      "Coeficiente estimado para educ: 0.0841360759837494\n",
      "t estadístico: 12.094070058461464\n",
      "p-valor:  0.0\n",
      "\n",
      "\n",
      "Coeficiente estimado para exper: 0.03890996724500798\n",
      "t estadístico: 8.066682478380237\n",
      "p-valor:  4.884981308350689e-15\n",
      "\n",
      "\n",
      "Coeficiente estimado para expersq: -0.0006860225067380863\n",
      "t estadístico: -6.388842011161477\n",
      "p-valor:  3.709945683993965e-10\n",
      "\n",
      "\n",
      "Coeficiente estimado para female: -0.3371867592800123\n",
      "t estadístico: -9.283424335473523\n",
      "p-valor:  0.0\n",
      "\n",
      "\n"
     ]
    }
   ],
   "source": [
    "from scipy.stats import t\n",
    "\n",
    "for i, coef_name in enumerate(coef_names):\n",
    "    beta_estimador = beta_hat[i]\n",
    "    se_estimador = np.sqrt(var_cov[i, i])\n",
    "    \n",
    "    # estadistico bajo h_0\n",
    "    t_estaditico = beta_estimador / se_estimador\n",
    "    \n",
    "    p_estimador = 2 * (1 - t.cdf(np.abs(t_estaditico), df=n - p))\n",
    "    \n",
    "    print(f'Coeficiente estimado para {coef_name}:', beta_estimador)\n",
    "    print(f't estadístico:', t_estaditico)\n",
    "    print(f'p-valor: ', p_estimador)\n",
    "    print('\\n')\n"
   ]
  },
  {
   "cell_type": "markdown",
   "id": "37775b25",
   "metadata": {},
   "source": [
    "(e) Estimar la variación esperada sobre el logaritmo del salario con una confianza del 95\n"
   ]
  },
  {
   "cell_type": "code",
   "execution_count": 29,
   "id": "3d402e74",
   "metadata": {},
   "outputs": [
    {
     "name": "stdout",
     "output_type": "stream",
     "text": [
      "Intervalo de confianza al 95% para el coeficiente: [np.float64(-0.40854111153979383), np.float64(-0.26583240702023075)]\n"
     ]
    }
   ],
   "source": [
    "# Intervalo de confianza al 95%\n",
    "from scipy.stats import t\n",
    "\n",
    "alpha = 0.05\n",
    "t_critical = t.ppf(1 - alpha/2, df=X.shape[0] - X.shape[1])\n",
    "beta_female = beta_hat[-1]  # Último coef\n",
    "se_beta_female = np.sqrt(var_cov[-1, -1])  # Desviación estándar del coef\n",
    "\n",
    "# Intervalo de confianza para el coef\n",
    "\n",
    "conf_interval = [beta_female - t_critical * se_beta_female, beta_female + t_critical * se_beta_female]\n",
    "\n",
    "print('Intervalo de confianza al 95% para el coeficiente:', conf_interval)"
   ]
  }
 ],
 "metadata": {
  "kernelspec": {
   "display_name": ".venv_estadistica",
   "language": "python",
   "name": "python3"
  },
  "language_info": {
   "codemirror_mode": {
    "name": "ipython",
    "version": 3
   },
   "file_extension": ".py",
   "mimetype": "text/x-python",
   "name": "python",
   "nbconvert_exporter": "python",
   "pygments_lexer": "ipython3",
   "version": "3.12.5"
  }
 },
 "nbformat": 4,
 "nbformat_minor": 5
}
