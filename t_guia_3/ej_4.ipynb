{
 "cells": [
  {
   "cell_type": "code",
   "execution_count": 2,
   "id": "422034b7",
   "metadata": {},
   "outputs": [],
   "source": [
    "from scipy.stats import uniform, norm\n",
    "import numpy as np\n",
    "import matplotlib.pyplot as plt\n",
    "import seaborn as sns\n",
    "import pandas as pd"
   ]
  },
  {
   "cell_type": "markdown",
   "id": "71a1c3d0",
   "metadata": {},
   "source": [
    "Este conjunto de datos\n",
    "contiene información sobre varios atributos de automóviles, incluyendo Millas por galón de combustible (MPG) y Caballos de Fuerza (HP).\n"
   ]
  },
  {
   "cell_type": "code",
   "execution_count": 5,
   "id": "bf20c984",
   "metadata": {},
   "outputs": [
    {
     "data": {
      "text/html": [
       "<div>\n",
       "<style scoped>\n",
       "    .dataframe tbody tr th:only-of-type {\n",
       "        vertical-align: middle;\n",
       "    }\n",
       "\n",
       "    .dataframe tbody tr th {\n",
       "        vertical-align: top;\n",
       "    }\n",
       "\n",
       "    .dataframe thead th {\n",
       "        text-align: right;\n",
       "    }\n",
       "</style>\n",
       "<table border=\"1\" class=\"dataframe\">\n",
       "  <thead>\n",
       "    <tr style=\"text-align: right;\">\n",
       "      <th></th>\n",
       "      <th>mpg</th>\n",
       "      <th>cylinders</th>\n",
       "      <th>displacement</th>\n",
       "      <th>horsepower</th>\n",
       "      <th>weight</th>\n",
       "      <th>acceleration</th>\n",
       "      <th>model_year</th>\n",
       "      <th>origin</th>\n",
       "      <th>car_name</th>\n",
       "    </tr>\n",
       "  </thead>\n",
       "  <tbody>\n",
       "    <tr>\n",
       "      <th>0</th>\n",
       "      <td>18.0</td>\n",
       "      <td>8</td>\n",
       "      <td>307.0</td>\n",
       "      <td>130.0</td>\n",
       "      <td>3504.0</td>\n",
       "      <td>12.0</td>\n",
       "      <td>70</td>\n",
       "      <td>1</td>\n",
       "      <td>chevrolet chevelle malibu</td>\n",
       "    </tr>\n",
       "    <tr>\n",
       "      <th>1</th>\n",
       "      <td>15.0</td>\n",
       "      <td>8</td>\n",
       "      <td>350.0</td>\n",
       "      <td>165.0</td>\n",
       "      <td>3693.0</td>\n",
       "      <td>11.5</td>\n",
       "      <td>70</td>\n",
       "      <td>1</td>\n",
       "      <td>buick skylark 320</td>\n",
       "    </tr>\n",
       "    <tr>\n",
       "      <th>2</th>\n",
       "      <td>18.0</td>\n",
       "      <td>8</td>\n",
       "      <td>318.0</td>\n",
       "      <td>150.0</td>\n",
       "      <td>3436.0</td>\n",
       "      <td>11.0</td>\n",
       "      <td>70</td>\n",
       "      <td>1</td>\n",
       "      <td>plymouth satellite</td>\n",
       "    </tr>\n",
       "    <tr>\n",
       "      <th>3</th>\n",
       "      <td>16.0</td>\n",
       "      <td>8</td>\n",
       "      <td>304.0</td>\n",
       "      <td>150.0</td>\n",
       "      <td>3433.0</td>\n",
       "      <td>12.0</td>\n",
       "      <td>70</td>\n",
       "      <td>1</td>\n",
       "      <td>amc rebel sst</td>\n",
       "    </tr>\n",
       "    <tr>\n",
       "      <th>4</th>\n",
       "      <td>17.0</td>\n",
       "      <td>8</td>\n",
       "      <td>302.0</td>\n",
       "      <td>140.0</td>\n",
       "      <td>3449.0</td>\n",
       "      <td>10.5</td>\n",
       "      <td>70</td>\n",
       "      <td>1</td>\n",
       "      <td>ford torino</td>\n",
       "    </tr>\n",
       "  </tbody>\n",
       "</table>\n",
       "</div>"
      ],
      "text/plain": [
       "    mpg  cylinders  displacement horsepower  weight  acceleration  model_year  \\\n",
       "0  18.0          8         307.0      130.0  3504.0          12.0          70   \n",
       "1  15.0          8         350.0      165.0  3693.0          11.5          70   \n",
       "2  18.0          8         318.0      150.0  3436.0          11.0          70   \n",
       "3  16.0          8         304.0      150.0  3433.0          12.0          70   \n",
       "4  17.0          8         302.0      140.0  3449.0          10.5          70   \n",
       "\n",
       "   origin                   car_name  \n",
       "0       1  chevrolet chevelle malibu  \n",
       "1       1          buick skylark 320  \n",
       "2       1         plymouth satellite  \n",
       "3       1              amc rebel sst  \n",
       "4       1                ford torino  "
      ]
     },
     "execution_count": 5,
     "metadata": {},
     "output_type": "execute_result"
    }
   ],
   "source": [
    "columns = ['mpg', 'cylinders', 'displacement', 'horsepower', 'weight', 'acceleration', 'model_year', 'origin', 'car_name']\n",
    "\n",
    "df = pd.read_csv('data/auto-mpg.data', sep=r'\\s+', names=columns)\n",
    "df.head(5)"
   ]
  },
  {
   "cell_type": "code",
   "execution_count": 7,
   "id": "f94c2083",
   "metadata": {},
   "outputs": [
    {
     "data": {
      "text/plain": [
       "mpg             0\n",
       "cylinders       0\n",
       "displacement    0\n",
       "horsepower      6\n",
       "weight          0\n",
       "acceleration    0\n",
       "model_year      0\n",
       "origin          0\n",
       "car_name        0\n",
       "dtype: int64"
      ]
     },
     "execution_count": 7,
     "metadata": {},
     "output_type": "execute_result"
    }
   ],
   "source": [
    "(df == '?').sum()"
   ]
  },
  {
   "cell_type": "code",
   "execution_count": 8,
   "id": "13500052",
   "metadata": {},
   "outputs": [],
   "source": [
    "df.replace('?', pd.NA, inplace=True)"
   ]
  },
  {
   "cell_type": "code",
   "execution_count": 9,
   "id": "b40ae9a9",
   "metadata": {},
   "outputs": [
    {
     "data": {
      "text/plain": [
       "mpg             0\n",
       "cylinders       0\n",
       "displacement    0\n",
       "horsepower      0\n",
       "weight          0\n",
       "acceleration    0\n",
       "model_year      0\n",
       "origin          0\n",
       "car_name        0\n",
       "dtype: int64"
      ]
     },
     "execution_count": 9,
     "metadata": {},
     "output_type": "execute_result"
    }
   ],
   "source": [
    "df = df.dropna()\n",
    "df.isnull().sum()"
   ]
  },
  {
   "cell_type": "markdown",
   "id": "6e849ede",
   "metadata": {},
   "source": [
    "Se pide ajustar modelos lineales simples para relacionar\n",
    "MPG con cada una de las demás variables de manera individual (o sea, un modelo simple por covariable)\n",
    "Ordenar las covariables de acuerdo al 𝑅^2 obtenido de la más importante a la menos importante."
   ]
  },
  {
   "cell_type": "code",
   "execution_count": 15,
   "id": "e0bd602d",
   "metadata": {},
   "outputs": [],
   "source": [
    "def r2_score(y_true, y_pred):\n",
    "    y_mean = y_true.mean()\n",
    "    TSS = np.sum((y_true - y_mean)**2)\n",
    "    RSS = np.sum((y_true - y_pred)**2)\n",
    "    return 1 - RSS/TSS"
   ]
  },
  {
   "cell_type": "code",
   "execution_count": 32,
   "id": "dc1a7492",
   "metadata": {},
   "outputs": [],
   "source": [
    "def linear_regression(x, y):\n",
    "    #np.column_stack((np.ones(n), x))\n",
    "    X = np.column_stack((np.ones(x.shape[0]), x))\n",
    "    \n",
    "    beta_hat = np.linalg.inv(X.T @ X) @ X.T @ y\n",
    "    return X, beta_hat"
   ]
  },
  {
   "cell_type": "code",
   "execution_count": 12,
   "id": "3deda324",
   "metadata": {},
   "outputs": [
    {
     "data": {
      "text/plain": [
       "mpg             float64\n",
       "cylinders         int64\n",
       "displacement    float64\n",
       "horsepower       object\n",
       "weight          float64\n",
       "acceleration    float64\n",
       "model_year        int64\n",
       "origin            int64\n",
       "car_name         object\n",
       "dtype: object"
      ]
     },
     "execution_count": 12,
     "metadata": {},
     "output_type": "execute_result"
    }
   ],
   "source": [
    "df.dtypes"
   ]
  },
  {
   "cell_type": "code",
   "execution_count": 28,
   "id": "6f976603",
   "metadata": {},
   "outputs": [
    {
     "data": {
      "text/plain": [
       "(392,)"
      ]
     },
     "execution_count": 28,
     "metadata": {},
     "output_type": "execute_result"
    }
   ],
   "source": [
    "df['mpg'].shape"
   ]
  },
  {
   "cell_type": "code",
   "execution_count": 48,
   "id": "f261e5b0",
   "metadata": {},
   "outputs": [],
   "source": [
    "## Predecir MPG \n",
    "y = pd.to_numeric(df['mpg']).values\n",
    "y = np.array(y)\n",
    "\n",
    "resultados = []"
   ]
  },
  {
   "cell_type": "code",
   "execution_count": 49,
   "id": "b7aaca9a",
   "metadata": {},
   "outputs": [
    {
     "name": "stdout",
     "output_type": "stream",
     "text": [
      "r2 (Horse Power) 0.6059482578894348\n"
     ]
    }
   ],
   "source": [
    "# mpg vs horsepower\n",
    "x = pd.to_numeric(df['horsepower'], downcast='float').values\n",
    "x = np.array(x)\n",
    "\n",
    "X, beta_hat = linear_regression(x, y)\n",
    "#X.shape, y.shape, beta_hat.shape\n",
    "y_pred = X @ beta_hat\n",
    "\n",
    "r2 = r2_score(y, y_pred)\n",
    "resultados.append({\n",
    "    'feature': 'horsepower',\n",
    "    'r2': r2,\n",
    "})\n",
    "print('r2 (Horse Power)',r2)\n"
   ]
  },
  {
   "cell_type": "code",
   "execution_count": 40,
   "id": "4c12394b",
   "metadata": {},
   "outputs": [
    {
     "name": "stdout",
     "output_type": "stream",
     "text": [
      "r2 (Weight) 0.6926304331206254\n"
     ]
    }
   ],
   "source": [
    "# mpg vs weight\n",
    "x = pd.to_numeric(df['weight']).values\n",
    "y = pd.to_numeric(df['mpg']).values\n",
    "\n",
    "x = np.array(x)\n",
    "y = np.array(y)\n",
    "\n",
    "X, beta_hat = linear_regression(x, y)\n",
    "#X.shape, y.shape, beta_hat.shape\n",
    "y_pred = X @ beta_hat\n",
    "\n",
    "r2 = r2_score(y, y_pred)\n",
    "resultados.append({\n",
    "    'feature': 'weight',\n",
    "    'r2': r2,\n",
    "})\n",
    "\n",
    "print('r2 (Weight)',r2)"
   ]
  },
  {
   "cell_type": "code",
   "execution_count": 50,
   "id": "4f0d828d",
   "metadata": {},
   "outputs": [
    {
     "name": "stdout",
     "output_type": "stream",
     "text": [
      "r2 (acceleration) 0.1792070501562546\n"
     ]
    }
   ],
   "source": [
    "# mpg vs acceleration\n",
    "x = pd.to_numeric(df['acceleration']).values\n",
    "y = pd.to_numeric(df['mpg']).values\n",
    "\n",
    "x = np.array(x)\n",
    "y = np.array(y)\n",
    "\n",
    "X, beta_hat = linear_regression(x, y)\n",
    "#X.shape, y.shape, beta_hat.shape\n",
    "y_pred = X @ beta_hat\n",
    "\n",
    "r2 = r2_score(y, y_pred)\n",
    "resultados.append({\n",
    "    'feature': 'acceleration',\n",
    "    'r2': r2,\n",
    "})\n",
    "\n",
    "print('r2 (acceleration)',r2)"
   ]
  },
  {
   "cell_type": "code",
   "execution_count": 42,
   "id": "ade1e83a",
   "metadata": {},
   "outputs": [
    {
     "name": "stdout",
     "output_type": "stream",
     "text": [
      "r2 (cylinders) 0.6046889889441246\n"
     ]
    }
   ],
   "source": [
    "# mpg vs cylinders\n",
    "x = pd.to_numeric(df['cylinders']).values\n",
    "y = pd.to_numeric(df['mpg']).values\n",
    "\n",
    "x = np.array(x)\n",
    "y = np.array(y)\n",
    "\n",
    "X, beta_hat = linear_regression(x, y)\n",
    "#X.shape, y.shape, beta_hat.shape\n",
    "y_pred = X @ beta_hat\n",
    "\n",
    "r2 = r2_score(y, y_pred)\n",
    "resultados.append({\n",
    "    'feature': 'cylinders',\n",
    "    'r2': r2,\n",
    "})\n",
    "\n",
    "print('r2 (cylinders)',r2)"
   ]
  },
  {
   "cell_type": "code",
   "execution_count": 51,
   "id": "10e27f35",
   "metadata": {},
   "outputs": [
    {
     "name": "stdout",
     "output_type": "stream",
     "text": [
      "r2 (displacement) 0.6482294003193044\n"
     ]
    }
   ],
   "source": [
    "# mpg vs displacement\n",
    "x = pd.to_numeric(df['displacement']).values\n",
    "y = pd.to_numeric(df['mpg']).values\n",
    "\n",
    "x = np.array(x)\n",
    "y = np.array(y)\n",
    "\n",
    "X, beta_hat = linear_regression(x, y)\n",
    "#X.shape, y.shape, beta_hat.shape\n",
    "y_pred = X @ beta_hat\n",
    "\n",
    "r2 = r2_score(y, y_pred)\n",
    "resultados.append({\n",
    "    'feature': 'displacement',\n",
    "    'r2': r2,\n",
    "})\n",
    "\n",
    "print('r2 (displacement)',r2)"
   ]
  },
  {
   "cell_type": "code",
   "execution_count": 52,
   "id": "4ace2012",
   "metadata": {},
   "outputs": [
    {
     "name": "stdout",
     "output_type": "stream",
     "text": [
      "r2 (model_year) 0.33702781330962295\n"
     ]
    }
   ],
   "source": [
    "# mpg vs model_year\n",
    "x = pd.to_numeric(df['model_year']).values\n",
    "y = pd.to_numeric(df['mpg']).values\n",
    "\n",
    "x = np.array(x)\n",
    "y = np.array(y)\n",
    "\n",
    "X, beta_hat = linear_regression(x, y)\n",
    "#X.shape, y.shape, beta_hat.shape\n",
    "y_pred = X @ beta_hat\n",
    "\n",
    "r2 = r2_score(y, y_pred)\n",
    "resultados.append({\n",
    "    'feature': 'model_year',\n",
    "    'r2': r2,\n",
    "})\n",
    "\n",
    "print('r2 (model_year)',r2)"
   ]
  },
  {
   "cell_type": "code",
   "execution_count": 53,
   "id": "2f75967a",
   "metadata": {},
   "outputs": [
    {
     "name": "stdout",
     "output_type": "stream",
     "text": [
      "r2 (origin) 0.3194609386689674\n"
     ]
    }
   ],
   "source": [
    "# mpg vs origin\n",
    "x = pd.to_numeric(df['origin']).values\n",
    "y = pd.to_numeric(df['mpg']).values\n",
    "\n",
    "x = np.array(x)\n",
    "y = np.array(y)\n",
    "\n",
    "X, beta_hat = linear_regression(x, y)\n",
    "#X.shape, y.shape, beta_hat.shape\n",
    "y_pred = X @ beta_hat\n",
    "\n",
    "r2 = r2_score(y, y_pred)\n",
    "resultados.append({\n",
    "    'feature': 'origin',\n",
    "    'r2': r2,\n",
    "})\n",
    "\n",
    "print('r2 (origin)',r2)"
   ]
  },
  {
   "cell_type": "code",
   "execution_count": 57,
   "id": "c5cb5c42",
   "metadata": {},
   "outputs": [
    {
     "data": {
      "text/html": [
       "<div>\n",
       "<style scoped>\n",
       "    .dataframe tbody tr th:only-of-type {\n",
       "        vertical-align: middle;\n",
       "    }\n",
       "\n",
       "    .dataframe tbody tr th {\n",
       "        vertical-align: top;\n",
       "    }\n",
       "\n",
       "    .dataframe thead th {\n",
       "        text-align: right;\n",
       "    }\n",
       "</style>\n",
       "<table border=\"1\" class=\"dataframe\">\n",
       "  <thead>\n",
       "    <tr style=\"text-align: right;\">\n",
       "      <th></th>\n",
       "      <th>feature</th>\n",
       "      <th>r2</th>\n",
       "    </tr>\n",
       "  </thead>\n",
       "  <tbody>\n",
       "    <tr>\n",
       "      <th>2</th>\n",
       "      <td>displacement</td>\n",
       "      <td>0.648229</td>\n",
       "    </tr>\n",
       "    <tr>\n",
       "      <th>0</th>\n",
       "      <td>horsepower</td>\n",
       "      <td>0.605948</td>\n",
       "    </tr>\n",
       "    <tr>\n",
       "      <th>3</th>\n",
       "      <td>model_year</td>\n",
       "      <td>0.337028</td>\n",
       "    </tr>\n",
       "    <tr>\n",
       "      <th>4</th>\n",
       "      <td>origin</td>\n",
       "      <td>0.319461</td>\n",
       "    </tr>\n",
       "    <tr>\n",
       "      <th>1</th>\n",
       "      <td>acceleration</td>\n",
       "      <td>0.179207</td>\n",
       "    </tr>\n",
       "  </tbody>\n",
       "</table>\n",
       "</div>"
      ],
      "text/plain": [
       "        feature        r2\n",
       "2  displacement  0.648229\n",
       "0    horsepower  0.605948\n",
       "3    model_year  0.337028\n",
       "4        origin  0.319461\n",
       "1  acceleration  0.179207"
      ]
     },
     "execution_count": 57,
     "metadata": {},
     "output_type": "execute_result"
    }
   ],
   "source": [
    "df_resultados = pd.DataFrame(resultados)\n",
    "df_resultados = df_resultados.sort_values(by='r2', ascending=False)\n",
    "\n",
    "\n",
    "df_resultados"
   ]
  }
 ],
 "metadata": {
  "kernelspec": {
   "display_name": ".venv_estadistica",
   "language": "python",
   "name": "python3"
  },
  "language_info": {
   "codemirror_mode": {
    "name": "ipython",
    "version": 3
   },
   "file_extension": ".py",
   "mimetype": "text/x-python",
   "name": "python",
   "nbconvert_exporter": "python",
   "pygments_lexer": "ipython3",
   "version": "3.12.5"
  }
 },
 "nbformat": 4,
 "nbformat_minor": 5
}
