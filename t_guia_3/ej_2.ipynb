{
 "cells": [
  {
   "cell_type": "markdown",
   "metadata": {},
   "source": [
    "Parámetros y estimadores.\n",
    "Supongamos que tenemos un dataset (𝑥1, 𝑦1), ... , (𝑥𝑛, 𝑦𝑛) ∈ R para 𝑛 ∈ N y hacemos un modelo de regresión lineal, donde 𝑦𝑖 = 𝛽0 + 𝛽1𝑥𝑖 + 𝜀𝑖"
   ]
  },
  {
   "cell_type": "code",
   "execution_count": null,
   "metadata": {
    "vscode": {
     "languageId": "plaintext"
    }
   },
   "outputs": [],
   "source": []
  }
 ],
 "metadata": {
  "language_info": {
   "name": "python"
  }
 },
 "nbformat": 4,
 "nbformat_minor": 2
}
