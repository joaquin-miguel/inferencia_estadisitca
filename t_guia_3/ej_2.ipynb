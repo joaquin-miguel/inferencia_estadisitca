{
 "cells": [
  {
   "cell_type": "code",
   "execution_count": 2,
   "metadata": {},
   "outputs": [],
   "source": [
    "from scipy.stats import uniform, norm\n",
    "import numpy as np\n",
    "import matplotlib.pyplot as plt\n",
    "import seaborn as sns"
   ]
  },
  {
   "cell_type": "markdown",
   "metadata": {},
   "source": [
    "#### Ruido y residuos\n",
    "Consideremos la función 𝑓 : R → R dada por 𝑓 (𝑥) = 2𝑥 − 1."
   ]
  },
  {
   "cell_type": "markdown",
   "metadata": {},
   "source": [
    "a) Sean 𝑋 ∼ U (0,1) y 𝑌 := 𝑓(𝑋).\n",
    "\n",
    "Fijemos 𝑛 = 100. \n",
    "Tomar muestras 𝑥1, . . . , 𝑥𝑛 de 𝑋 y aplicar la función 𝑓 a cada muestra para calcular 𝑦𝑖 = 𝑓(𝑥𝑖), con 1 ≤ 𝑖 ≤ 𝑛. \n",
    "Realizar un ajuste lineal de la forma 𝑌 = 𝛽0 + 𝑋𝛽1 + 𝜖 a partir de los samples (𝑥1, 𝑦1), ... , (𝑥𝑛, 𝑦𝑛) generados \n",
    "y calcular, para cada 𝑖 ∈ {1, . . . , 𝑛}, 𝜀𝑖 = 𝑦𝑖 − (𝑥𝑖ˆ𝛽1 + ˆ𝛽0).\n",
    "\n",
    "Describir la distribución empírica dada por los residuos {𝜀1, . . . , 𝜀𝑛}"
   ]
  },
  {
   "cell_type": "code",
   "execution_count": null,
   "metadata": {},
   "outputs": [],
   "source": [
    "# Crear estimadores del Modelo de Regresión Lineal Simple\n",
    "def simple_linear_regression(x, y):\n",
    "    \"\"\"\n",
    "    Estima un modelo de regresión lineal simple (MRLS) utilizando mínimos cuadrados ordinarios.\n",
    "\n",
    "    Parámetros:\n",
    "    - x: array de valores independientes.\n",
    "    - y: array de valores dependientes.\n",
    "\n",
    "    Devuelve:\n",
    "    - beta_0: intercepto estimado.\n",
    "    - beta_1: pendiente estimada.\n",
    "    \"\"\"\n",
    "    # Calcular las medias de x e y\n",
    "    x_mean = np.mean(x)\n",
    "    y_mean = np.mean(y)\n",
    "\n",
    "    # Calcular el numerador y denominador para beta_1 (pendiente)\n",
    "    numerador = np.sum((x - x_mean) * (y - y_mean))\n",
    "    denominador = np.sum((x - x_mean)**2)\n",
    "\n",
    "    # Estimación de beta_1 (pendiente)\n",
    "    beta_1 = numerador / denominador\n",
    "\n",
    "    # Estimación de beta_0 (intercepto)\n",
    "    beta_0 = y_mean - beta_1 * x_mean\n",
    "\n",
    "    return beta_0, beta_1"
   ]
  },
  {
   "cell_type": "code",
   "execution_count": 3,
   "metadata": {},
   "outputs": [
    {
     "name": "stdout",
     "output_type": "stream",
     "text": [
      "X: [[1.         0.32561984]\n",
      " [1.         0.32370927]\n",
      " [1.         0.63448515]\n",
      " [1.         0.76010391]\n",
      " [1.         0.05307121]\n",
      " [1.         0.53604233]\n",
      " [1.         0.61655799]\n",
      " [1.         0.82394932]\n",
      " [1.         0.22614664]\n",
      " [1.         0.64014881]\n",
      " [1.         0.38226328]\n",
      " [1.         0.21531696]\n",
      " [1.         0.83618235]\n",
      " [1.         0.90970411]\n",
      " [1.         0.63404371]\n",
      " [1.         0.77297035]\n",
      " [1.         0.70630441]\n",
      " [1.         0.85531851]\n",
      " [1.         0.53700725]\n",
      " [1.         0.58564912]\n",
      " [1.         0.18624891]\n",
      " [1.         0.47253416]\n",
      " [1.         0.84252008]\n",
      " [1.         0.58286062]\n",
      " [1.         0.70611655]\n",
      " [1.         0.26307779]\n",
      " [1.         0.43870305]\n",
      " [1.         0.41697435]\n",
      " [1.         0.8120052 ]\n",
      " [1.         0.92263198]\n",
      " [1.         0.41343625]\n",
      " [1.         0.83824376]\n",
      " [1.         0.29206797]\n",
      " [1.         0.73404602]\n",
      " [1.         0.50178505]\n",
      " [1.         0.16734938]\n",
      " [1.         0.33222406]\n",
      " [1.         0.0845108 ]\n",
      " [1.         0.67103764]\n",
      " [1.         0.92948994]\n",
      " [1.         0.29962094]\n",
      " [1.         0.75700304]\n",
      " [1.         0.82867987]\n",
      " [1.         0.86106545]\n",
      " [1.         0.31971566]\n",
      " [1.         0.33678626]\n",
      " [1.         0.19654595]\n",
      " [1.         0.77357888]\n",
      " [1.         0.87300569]\n",
      " [1.         0.83061636]\n",
      " [1.         0.32193972]\n",
      " [1.         0.66628492]\n",
      " [1.         0.27708361]\n",
      " [1.         0.22583866]\n",
      " [1.         0.45695879]\n",
      " [1.         0.80281331]\n",
      " [1.         0.9492322 ]\n",
      " [1.         0.94587196]\n",
      " [1.         0.13940757]\n",
      " [1.         0.55112644]\n",
      " [1.         0.79598662]\n",
      " [1.         0.01644773]\n",
      " [1.         0.14564974]\n",
      " [1.         0.19892914]\n",
      " [1.         0.00441627]\n",
      " [1.         0.7360005 ]\n",
      " [1.         0.11832807]\n",
      " [1.         0.91531692]\n",
      " [1.         0.08608308]\n",
      " [1.         0.56347777]\n",
      " [1.         0.07051013]\n",
      " [1.         0.51095703]\n",
      " [1.         0.24934409]\n",
      " [1.         0.54059793]\n",
      " [1.         0.76938989]\n",
      " [1.         0.34038264]\n",
      " [1.         0.37301708]\n",
      " [1.         0.51142558]\n",
      " [1.         0.68499506]\n",
      " [1.         0.57309431]\n",
      " [1.         0.038077  ]\n",
      " [1.         0.9655825 ]\n",
      " [1.         0.94283582]\n",
      " [1.         0.67758971]\n",
      " [1.         0.90265257]\n",
      " [1.         0.198272  ]\n",
      " [1.         0.18969126]\n",
      " [1.         0.16585912]\n",
      " [1.         0.08988762]\n",
      " [1.         0.32504058]\n",
      " [1.         0.9980978 ]\n",
      " [1.         0.82499256]\n",
      " [1.         0.44585185]\n",
      " [1.         0.42831289]\n",
      " [1.         0.06539861]\n",
      " [1.         0.42051856]\n",
      " [1.         0.60843159]\n",
      " [1.         0.15056018]\n",
      " [1.         0.72353425]\n",
      " [1.         0.55482505]]\n",
      "betahat: [-1.  2.]\n"
     ]
    },
    {
     "data": {
      "text/plain": [
       "'\\n# Generar Variables Aleatorias\\nX = uniform.rvs(size=n)\\nepsilon = norm.rvs(loc=0, scale=sigma, size=n)\\n\\nY = f(X) + epsilon\\n\\n# Estimar el MRLS\\nbeta_0, beta_1 = simple_linear_regression(X, Y)\\n\\n# Imprimir los estimadores\\nprint(\"Estimador de beta_0:\", beta_0)\\nprint(\"Estimador de beta_1:\", beta_1)\\n'"
      ]
     },
     "execution_count": 3,
     "metadata": {},
     "output_type": "execute_result"
    }
   ],
   "source": [
    "# Fijar parámetros\n",
    "n = 100\n",
    "\n",
    "# Generar muestras x ~ U(0,1)\n",
    "x = np.random.uniform(0, 1, n)\n",
    "\n",
    "# Aplicar f(x) = 2x - 1\n",
    "y = 2 * x - 1   # b_1 = 2, b_0 = -1\n",
    "\n",
    "# Ajuste de regresión lineal (y = beta0 + beta1 * x)\n",
    "X = np.stack((np.ones(n),x)).T\n",
    "print('X:',X)\n",
    "\n",
    "beta_hat = np.linalg.inv(X.T @ X) @ X.T @ y # (X'X)^(-1) X'y\n",
    "print('betahat:',beta_hat)\n",
    "\n",
    "# Predicciones - y_hat = b_0 + b_1 * x\n",
    "y_hat = X @ beta_hat\n",
    "\n",
    "# Cálculo de residuos\n",
    "residuals = y - y_hat\n",
    "\n",
    "'''\n",
    "# Generar Variables Aleatorias\n",
    "X = uniform.rvs(size=n)\n",
    "epsilon = norm.rvs(loc=0, scale=sigma, size=n)\n",
    "\n",
    "Y = f(X) + epsilon\n",
    "\n",
    "# Estimar el MRLS\n",
    "beta_0, beta_1 = simple_linear_regression(X, Y)\n",
    "\n",
    "# Imprimir los estimadores\n",
    "print(\"Estimador de beta_0:\", beta_0)\n",
    "print(\"Estimador de beta_1:\", beta_1)\n",
    "'''\n",
    "\n"
   ]
  },
  {
   "cell_type": "code",
   "execution_count": 7,
   "metadata": {},
   "outputs": [
    {
     "data": {
      "image/png": "[encoded data removed]",
      "text/plain": [
       "<Figure size 800x500 with 1 Axes>"
      ]
     },
     "metadata": {},
     "output_type": "display_data"
    }
   ],
   "source": [
    "# Graficar histograma de los residuos\n",
    "plt.figure(figsize=(8, 5))\n",
    "sns.histplot(residuals, bins=20, kde=True)\n",
    "plt.title(\"Distribución empírica de los residuos\")\n",
    "plt.xlabel(\"Residuos\")\n",
    "plt.ylabel(\"Frecuencia\")\n",
    "plt.grid(True)\n",
    "plt.tight_layout()\n",
    "plt.show()\n"
   ]
  },
  {
   "cell_type": "code",
   "execution_count": null,
   "metadata": {},
   "outputs": [],
   "source": [
    "# encontremos la recta que une los tres puntos del ejercicio en clase:\n",
    "x = np.array([0,1,2])\n",
    "y = np.array([0,1,0]).T\n",
    "X = np.stack((np.ones(3),x)).T\n",
    "print('X:',X)\n",
    "\n",
    "betahat = np.linalg.inv(X.T @ X) @ X.T @ y\n",
    "print('betahat:',betahat)\n",
    "\n"
   ]
  }
 ],
 "metadata": {
  "kernelspec": {
   "display_name": ".venv_estadistica",
   "language": "python",
   "name": "python3"
  },
  "language_info": {
   "codemirror_mode": {
    "name": "ipython",
    "version": 3
   },
   "file_extension": ".py",
   "mimetype": "text/x-python",
   "name": "python",
   "nbconvert_exporter": "python",
   "pygments_lexer": "ipython3",
   "version": "3.12.5"
  }
 },
 "nbformat": 4,
 "nbformat_minor": 2
}
