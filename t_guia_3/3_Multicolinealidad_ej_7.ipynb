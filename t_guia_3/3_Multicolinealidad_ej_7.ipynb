
<!-- saved from url=(0136)https://campusvirtualecyt.unsam.edu.ar/pluginfile.php/345265/mod_resource/content/1/Practica_3_Multicolinealidad_%28Ejercicio_7%29.ipynb -->
<html><head><meta http-equiv="Content-Type" content="text/html; charset=UTF-8"></head><body>{
  "nbformat": 4,
  "nbformat_minor": 0,
  "metadata": {
    "colab": {
      "provenance": [],
      "toc_visible": true
    },
    "kernelspec": {
      "name": "python3",
      "display_name": "Python 3"
    },
    "language_info": {
      "name": "python"
    }
  },
  "cells": [
    {
      "cell_type": "code",
      "execution_count": null,
      "metadata": {
        "id": "CYkDNoc76nRj"
      },
      "outputs": [],
      "source": [
        "import numpy as np\n",
        "import pandas as pd\n",
        "import seaborn as sns\n",
        "import matplotlib.pyplot as plt\n",
        "import statsmodels.api as sm\n",
        "import numpy as np\n",
        "from scipy import stats\n",
        "from scipy.optimize import minimize\n",
        "from numpy.linalg import inv\n",
        "from sklearn.linear_model import LinearRegression\n",
        "from tqdm import tqdm  # Para barra de progreso"
      ]
    },
    {
      "cell_type": "markdown",
      "source": [
        "# Multicolinealidad en Regresión Lineal\n"
      ],
      "metadata": {
        "id": "YHxhmPowNg3s"
      }
    },
    {
      "cell_type": "markdown",
      "source": [
        "# Ejercicio 7\n",
        "\n",
        "\n",
        "Vamos a generar un conjunto de datos sintéticos que presenten multicolinealidad entre predictores."
      ],
      "metadata": {
        "id": "rVxSLL7HRiyE"
      }
    },
    {
      "cell_type": "markdown",
      "source": [
        "Generar `n = 100` samples de $X_1 ~ U(0, 1)$, de `Z ~ N(0, 0.1)` y de `ε ~ Normal(0, 1)`; a partir de ellas generar $n$ samples de $X_2 := 0.5X_1 + Z$ y de $$Y := 2 + 2X_1 + 0.3X_2 + ε$$\n",
        "\n"
      ],
      "metadata": {
        "id": "wQaokiAaOFzB"
      }
    },
    {
      "cell_type": "markdown",
      "source": [
        "**Generación de datos**"
      ],
      "metadata": {
        "id": "j-rbWBW3Tdr1"
      }
    },
    {
      "cell_type": "code",
      "source": [
        "# Número de muestras\n",
        "n = 100\n",
        "\n",
        "# variables\n",
        "X1 = stats.uniform.rvs(size=n)\n",
        "Z = stats.norm.rvs(loc = 0, scale = 0.1, size = n)\n",
        "e = stats.norm.rvs(size = n)\n",
        "X2 = 0.5*X1 + Z\n",
        "\n",
        "Y = 2 + 2*X1 + 0.3*X2 + e"
      ],
      "metadata": {
        "id": "vnDcQ97RjI0K"
      },
      "execution_count": null,
      "outputs": []
    },
    {
      "cell_type": "code",
      "source": [
        "# Creación del DataFrame\n",
        "data = pd.DataFrame({'X1': X1, 'X2': X2, 'Y': Y})\n",
        "data.head()"
      ],
      "metadata": {
        "colab": {
          "base_uri": "https://localhost:8080/",
          "height": 206
        },
        "id": "YVAmutvNGTpX",
        "outputId": "afe5e46f-7aa3-41a9-c51b-ea992ea9c94b"
      },
      "execution_count": null,
      "outputs": [
        {
          "output_type": "execute_result",
          "data": {
            "text/plain": [
              "         X1        X2         Y\n",
              "0  0.886396  0.253879  3.980765\n",
              "1  0.663858  0.388403  2.976900\n",
              "2  0.184512  0.066769  2.942360\n",
              "3  0.359622  0.224473  3.537094\n",
              "4  0.794670  0.576027  5.346361"
            ],
            "text/html": [
              "\n",
              "  <div id="\&quot;df-f00c4060-fab9-4ba5-8023-f2d3e55b4819\&quot;" class="\&quot;colab-df-container\&quot;">\n",
              "    <div>\n",
              "<style scoped="">\n",
              "    .dataframe tbody tr th:only-of-type {\n",
              "        vertical-align: middle;\n",
              "    }\n",
              "\n",
              "    .dataframe tbody tr th {\n",
              "        vertical-align: top;\n",
              "    }\n",
              "\n",
              "    .dataframe thead th {\n",
              "        text-align: right;\n",
              "    }\n",
              "</style>\n",
              "\n",
              "  \n",
              "    \n",
              "      \n",
              "      \n",
              "      \n",
              "      \n",
              "    \n",
              "  \n",
              "  \n",
              "    \n",
              "      \n",
              "      \n",
              "      \n",
              "      \n",
              "    \n",
              "    \n",
              "      \n",
              "      \n",
              "      \n",
              "      \n",
              "    \n",
              "    \n",
              "      \n",
              "      \n",
              "      \n",
              "      \n",
              "    \n",
              "    \n",
              "      \n",
              "      \n",
              "      \n",
              "      \n",
              "    \n",
              "    \n",
              "      \n",
              "      \n",
              "      \n",
              "      \n",
              "    \n",
              "  \n",
              "<table border="\&quot;1\&quot;" class="\&quot;dataframe\&quot;"><thead><tr style="\&quot;text-align:" right;\"=""><th></th><th>X1</th><th>X2</th><th>Y</th></tr></thead><tbody><tr><th>0</th><td>0.886396</td><td>0.253879</td><td>3.980765</td></tr><tr><th>1</th><td>0.663858</td><td>0.388403</td><td>2.976900</td></tr><tr><th>2</th><td>0.184512</td><td>0.066769</td><td>2.942360</td></tr><tr><th>3</th><td>0.359622</td><td>0.224473</td><td>3.537094</td></tr><tr><th>4</th><td>0.794670</td><td>0.576027</td><td>5.346361</td></tr></tbody></table>\n",
              "</div>\n",
              "    <div class="\&quot;colab-df-buttons\&quot;">\n",
              "\n",
              "  <div class="\&quot;colab-df-container\&quot;">\n",
              "    <button class="\&quot;colab-df-convert\&quot;" onclick="\&quot;convertToInteractive(&#39;df-f00c4060-fab9-4ba5-8023-f2d3e55b4819&#39;)\&quot;\n&quot;," "="" title="\&quot;Convert" this="" dataframe="" to="" an="" interactive="" table.\"\n",="" style="\&quot;display:none;\&quot;">\n",
              "\n",
              "  <svg xmlns="\&quot;http://www.w3.org/2000/svg\&quot;" height="\&quot;24px\&quot;" viewBox="\&quot;0" -960="" 960="" 960\"="">\n",
              "    <path d="\&quot;M120-120v-720h720v720H120Zm60-500h600v-160H180v160Zm220" 220h160v-160h400v160zm0="" 220h160v-160h400v160zm180-400h160v-160h180v160zm440="" 0h160v-160h620v160zm180-180h160v-160h180v160zm440="" 0h160v-160h620v160z\"=""></path>\n",
              "  </svg>\n",
              "    </button>\n",
              "\n",
              "  <style>\n",
              "    .colab-df-container {\n",
              "      display:flex;\n",
              "      gap: 12px;\n",
              "    }\n",
              "\n",
              "    .colab-df-convert {\n",
              "      background-color: #E8F0FE;\n",
              "      border: none;\n",
              "      border-radius: 50%;\n",
              "      cursor: pointer;\n",
              "      display: none;\n",
              "      fill: #1967D2;\n",
              "      height: 32px;\n",
              "      padding: 0 0 0 0;\n",
              "      width: 32px;\n",
              "    }\n",
              "\n",
              "    .colab-df-convert:hover {\n",
              "      background-color: #E2EBFA;\n",
              "      box-shadow: 0px 1px 2px rgba(60, 64, 67, 0.3), 0px 1px 3px 1px rgba(60, 64, 67, 0.15);\n",
              "      fill: #174EA6;\n",
              "    }\n",
              "\n",
              "    .colab-df-buttons div {\n",
              "      margin-bottom: 4px;\n",
              "    }\n",
              "\n",
              "    [theme=dark] .colab-df-convert {\n",
              "      background-color: #3B4455;\n",
              "      fill: #D2E3FC;\n",
              "    }\n",
              "\n",
              "    [theme=dark] .colab-df-convert:hover {\n",
              "      background-color: #434B5C;\n",
              "      box-shadow: 0px 1px 3px 1px rgba(0, 0, 0, 0.15);\n",
              "      filter: drop-shadow(0px 1px 2px rgba(0, 0, 0, 0.3));\n",
              "      fill: #FFFFFF;\n",
              "    }\n",
              "  </style>\n",
              "\n",
              "    <script>\n",
              "      const buttonEl =\n",
              "        document.querySelector('#df-f00c4060-fab9-4ba5-8023-f2d3e55b4819 button.colab-df-convert');\n",
              "      buttonEl.style.display =\n",
              "        google.colab.kernel.accessAllowed ? 'block' : 'none';\n",
              "\n",
              "      async function convertToInteractive(key) {\n",
              "        const element = document.querySelector('#df-f00c4060-fab9-4ba5-8023-f2d3e55b4819');\n",
              "        const dataTable =\n",
              "          await google.colab.kernel.invokeFunction('convertToInteractive',\n",
              "                                                    [key], {});\n",
              "        if (!dataTable) return;\n",
              "\n",
              "        const docLinkHtml = 'Like what you see? Visit the ' +\n",
              "          '<a target=\"_blank\" href=https://colab.research.google.com/notebooks/data_table.ipynb>data table notebook</a>'\n",
              "          + ' to learn more about interactive tables.';\n",
              "        element.innerHTML = '';\n",
              "        dataTable['output_type'] = 'display_data';\n",
              "        await google.colab.output.renderOutput(dataTable, element);\n",
              "        const docLink = document.createElement('div');\n",
              "        docLink.innerHTML = docLinkHtml;\n",
              "        element.appendChild(docLink);\n",
              "      }\n",
              "    </script>\n",
              "  </div>\n",
              "\n",
              "\n",
              "<div id="\&quot;df-bc60310d-ca0d-4d6a-a004-5c6558f1b064\&quot;">\n",
              "  <button class="\&quot;colab-df-quickchart\&quot;" onclick="\&quot;quickchart(&#39;df-bc60310d-ca0d-4d6a-a004-5c6558f1b064&#39;)\&quot;\n&quot;," "="" title="\&quot;Suggest" charts\"\n",="" style="\&quot;display:none;\&quot;">\n",
              "\n",
              "<svg xmlns="\&quot;http://www.w3.org/2000/svg\&quot;" height="\&quot;24px\&quot;viewBox=\&quot;0" 0="" 24="" 24\"\n",="" "="" width="\&quot;24px\&quot;">\n",
              "    <g>\n",
              "        <path d="\&quot;M19" 3h5c-1.1="" 0-2="" .9-2="" 2v14c0="" 1.1.9="" 2="" 2h14c1.1="" 0="" 2-.9="" 2-2v5c0-1.1-.9-2-2-2zm9="" 17h7v-7h2v7zm4="" 0h-2v7h2v10zm4="" 0h-2v-4h2v4z\"=""></path>\n",
              "    </g>\n",
              "</svg>\n",
              "  </button>\n",
              "\n",
              "<style>\n",
              "  .colab-df-quickchart {\n",
              "      --bg-color: #E8F0FE;\n",
              "      --fill-color: #1967D2;\n",
              "      --hover-bg-color: #E2EBFA;\n",
              "      --hover-fill-color: #174EA6;\n",
              "      --disabled-fill-color: #AAA;\n",
              "      --disabled-bg-color: #DDD;\n",
              "  }\n",
              "\n",
              "  [theme=dark] .colab-df-quickchart {\n",
              "      --bg-color: #3B4455;\n",
              "      --fill-color: #D2E3FC;\n",
              "      --hover-bg-color: #434B5C;\n",
              "      --hover-fill-color: #FFFFFF;\n",
              "      --disabled-bg-color: #3B4455;\n",
              "      --disabled-fill-color: #666;\n",
              "  }\n",
              "\n",
              "  .colab-df-quickchart {\n",
              "    background-color: var(--bg-color);\n",
              "    border: none;\n",
              "    border-radius: 50%;\n",
              "    cursor: pointer;\n",
              "    display: none;\n",
              "    fill: var(--fill-color);\n",
              "    height: 32px;\n",
              "    padding: 0;\n",
              "    width: 32px;\n",
              "  }\n",
              "\n",
              "  .colab-df-quickchart:hover {\n",
              "    background-color: var(--hover-bg-color);\n",
              "    box-shadow: 0 1px 2px rgba(60, 64, 67, 0.3), 0 1px 3px 1px rgba(60, 64, 67, 0.15);\n",
              "    fill: var(--button-hover-fill-color);\n",
              "  }\n",
              "\n",
              "  .colab-df-quickchart-complete:disabled,\n",
              "  .colab-df-quickchart-complete:disabled:hover {\n",
              "    background-color: var(--disabled-bg-color);\n",
              "    fill: var(--disabled-fill-color);\n",
              "    box-shadow: none;\n",
              "  }\n",
              "\n",
              "  .colab-df-spinner {\n",
              "    border: 2px solid var(--fill-color);\n",
              "    border-color: transparent;\n",
              "    border-bottom-color: var(--fill-color);\n",
              "    animation:\n",
              "      spin 1s steps(1) infinite;\n",
              "  }\n",
              "\n",
              "  @keyframes spin {\n",
              "    0% {\n",
              "      border-color: transparent;\n",
              "      border-bottom-color: var(--fill-color);\n",
              "      border-left-color: var(--fill-color);\n",
              "    }\n",
              "    20% {\n",
              "      border-color: transparent;\n",
              "      border-left-color: var(--fill-color);\n",
              "      border-top-color: var(--fill-color);\n",
              "    }\n",
              "    30% {\n",
              "      border-color: transparent;\n",
              "      border-left-color: var(--fill-color);\n",
              "      border-top-color: var(--fill-color);\n",
              "      border-right-color: var(--fill-color);\n",
              "    }\n",
              "    40% {\n",
              "      border-color: transparent;\n",
              "      border-right-color: var(--fill-color);\n",
              "      border-top-color: var(--fill-color);\n",
              "    }\n",
              "    60% {\n",
              "      border-color: transparent;\n",
              "      border-right-color: var(--fill-color);\n",
              "    }\n",
              "    80% {\n",
              "      border-color: transparent;\n",
              "      border-right-color: var(--fill-color);\n",
              "      border-bottom-color: var(--fill-color);\n",
              "    }\n",
              "    90% {\n",
              "      border-color: transparent;\n",
              "      border-bottom-color: var(--fill-color);\n",
              "    }\n",
              "  }\n",
              "</style>\n",
              "\n",
              "  <script>\n",
              "    async function quickchart(key) {\n",
              "      const quickchartButtonEl =\n",
              "        document.querySelector('#' + key + ' button');\n",
              "      quickchartButtonEl.disabled = true;  // To prevent multiple clicks.\n",
              "      quickchartButtonEl.classList.add('colab-df-spinner');\n",
              "      try {\n",
              "        const charts = await google.colab.kernel.invokeFunction(\n",
              "            'suggestCharts', [key], {});\n",
              "      } catch (error) {\n",
              "        console.error('Error during call to suggestCharts:', error);\n",
              "      }\n",
              "      quickchartButtonEl.classList.remove('colab-df-spinner');\n",
              "      quickchartButtonEl.classList.add('colab-df-quickchart-complete');\n",
              "    }\n",
              "    (() => {\n",
              "      let quickchartButtonEl =\n",
              "        document.querySelector('#df-bc60310d-ca0d-4d6a-a004-5c6558f1b064 button');\n",
              "      quickchartButtonEl.style.display =\n",
              "        google.colab.kernel.accessAllowed ? 'block' : 'none';\n",
              "    })();\n",
              "  </script>\n",
              "</div>\n",
              "\n",
              "    </div>\n",
              "  </div>\n"
            ],
            "application/vnd.google.colaboratory.intrinsic+json": {
              "type": "dataframe",
              "variable_name": "data",
              "summary": "{\n  \"name\": \"data\",\n  \"rows\": 100,\n  \"fields\": [\n    {\n      \"column\": \"X1\",\n      \"properties\": {\n        \"dtype\": \"number\",\n        \"std\": 0.2760784636605514,\n        \"min\": 0.006489104255369416,\n        \"max\": 0.9552363407508705,\n        \"num_unique_values\": 100,\n        \"samples\": [\n          0.5770958947448741,\n          0.6968990040060921,\n          0.35670236439437697\n        ],\n        \"semantic_type\": \"\",\n        \"description\": \"\"\n      }\n    },\n    {\n      \"column\": \"X2\",\n      \"properties\": {\n        \"dtype\": \"number\",\n        \"std\": 0.17407783824275785,\n        \"min\": -0.2198988643274822,\n        \"max\": 0.6470590118559716,\n        \"num_unique_values\": 100,\n        \"samples\": [\n          0.1343944924964437,\n          0.5197629396703355,\n          0.12784800055035633\n        ],\n        \"semantic_type\": \"\",\n        \"description\": \"\"\n      }\n    },\n    {\n      \"column\": \"Y\",\n      \"properties\": {\n        \"dtype\": \"number\",\n        \"std\": 1.163757714140243,\n        \"min\": 0.7129079448095159,\n        \"max\": 5.526953036993624,\n        \"num_unique_values\": 100,\n        \"samples\": [\n          2.3212925036838286,\n          2.4092263106909995,\n          3.1442198222853937\n        ],\n        \"semantic_type\": \"\",\n        \"description\": \"\"\n      }\n    }\n  ]\n}"
            }
          },
          "metadata": {},
          "execution_count": 3
        }
      ]
    },
    {
      "cell_type": "markdown",
      "source": [
        "### Calcular la correlacion entre las muestras de $X_1$ y $X_2$ y graficar su distribucion conjunta."
      ],
      "metadata": {
        "id": "WHoj3FAKjBTu"
      }
    },
    {
      "cell_type": "code",
      "source": [
        "# Cálculo de la correlación\n",
        "corr = stats.pearsonr(X1,X2).statistic\n",
        "print(corr)"
      ],
      "metadata": {
        "colab": {
          "base_uri": "https://localhost:8080/"
        },
        "id": "WHJ3fQ4uVXAU",
        "outputId": "9025e816-e82a-412d-ebd7-7e2b3066a3e3"
      },
      "execution_count": null,
      "outputs": [
        {
          "output_type": "stream",
          "name": "stdout",
          "text": [
            "0.8017354464093105\n"
          ]
        }
      ]
    },
    {
      "cell_type": "code",
      "source": [
        "plt.figure(figsize=(6, 4))\n",
        "#plt.scatter(X1, X2)\n",
        "sns.scatterplot(x='X1', y='X2', data=data, color='#2ca02c', s=40, alpha=0.7)\n",
        "plt.title('Distribución Conjunta de X1 y X2', fontsize=12)\n",
        "plt.xlabel('X1', fontsize=10)\n",
        "plt.ylabel('X2', fontsize=10)\n",
        "plt.grid(True)"
      ],
      "metadata": {
        "colab": {
          "base_uri": "https://localhost:8080/",
          "height": 411
        },
        "id": "R5MjTB_OU1W-",
        "outputId": "f2c7e549-fe77-47a2-e3af-ccba8ed9ccac"
      },
      "execution_count": null,
      "outputs": [
        {
          "output_type": "display_data",
          "data": {
            "text/plain": [
              "<figure size="" 600x400="" with="" 1="" axes="">"
            ],
            "image/png": "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\n"
          },
          "metadata": {}
        }
      ]
    },
    {
      "cell_type": "markdown",
      "source": [
        "Hay una alta correlación entre las muestras de X1 y X2 ya que X2 está definida como una función lineal de X1 más un ruido.\n",
        "\n",
        "El gráfico muestra una nube de puntos con una clara forma lineal debido a la relación $X_2=0.5X_1+Z$. A pesar del ruido Z, la relación lineal subyacente sigue siendo visible.\n",
        "\n",
        "Esta correlación ilustra el concepto de multicolinealidad, que ocurre cuando dos o más predictores están linealmente relacionados y tiene implicaciones importantes para la interpretación de los coeficientes en modelos de regresión."
      ],
      "metadata": {
        "id": "aLEtPg7_jdtR"
      }
    },
    {
      "cell_type": "markdown",
      "source": [
        "### (b): Ajuste del modelo de regresión múltiple"
      ],
      "metadata": {
        "id": "lSaioIYVI7rE"
      }
    },
    {
      "cell_type": "markdown",
      "source": [
        "* Construimos manualmente la matriz de diseño (`X_intercept`) con una columna de unos (intercepto) y los predictores X1, X2.\n",
        "\n",
        "* Aplicamos la fórmula OLS directamente: $$β=(X^T X)^{−1} X^T Y$$\n",
        "\n",
        "\n"
      ],
      "metadata": {
        "id": "NY2X0zo2XWnQ"
      }
    },
    {
      "cell_type": "code",
      "source": [
        "X_intercept = np.column_stack((np.ones_like(Y), X1,X2))\n",
        "beta_hat = np.linalg.inv(X_intercept.T @ X_intercept) @ X_intercept.T @ Y\n",
        "print('betas originales = ', [2,2,0.3])\n",
        "print('betas obtenidos = ', beta_hat)"
      ],
      "metadata": {
        "colab": {
          "base_uri": "https://localhost:8080/"
        },
        "id": "TpVg8ECQWO2S",
        "outputId": "a87da955-b087-4e0c-b1f4-c33674dda2d1"
      },
      "execution_count": null,
      "outputs": [
        {
          "output_type": "stream",
          "name": "stdout",
          "text": [
            "betas originales =  [2, 2, 0.3]\n",
            "betas obtenidos =  [2.19645127 1.32357321 0.78302306]\n"
          ]
        }
      ]
    },
    {
      "cell_type": "markdown",
      "source": [
        "La multicolinealidad hace que sea difícil separar el efecto de $X_1$ y $X_2$ sobre $Y$.\n",
        "Es algo que surge de cómo funciona la regresión múltiple, la multicolinealidad en sí no tiene nada de malo. De hecho, funciona bien para predecir. Pero dificulta la interpretación.\n",
        "La predicción de $Y$ puede seguir siendo precisa pero los coeficientes individuales pierden interpretación directa\n",
        "\n"
      ],
      "metadata": {
        "id": "OBv8cFztjsiv"
      }
    },
    {
      "cell_type": "markdown",
      "source": [
        "### (c): Ajustes de modelos individuales"
      ],
      "metadata": {
        "id": "BE_giVPEI-Bx"
      }
    },
    {
      "cell_type": "markdown",
      "source": [
        "**Utilizando solo las muestras de $X_1$**"
      ],
      "metadata": {
        "id": "nPdK3TWkZ5F-"
      }
    },
    {
      "cell_type": "code",
      "source": [
        "#Solo con X1\n",
        "X_intercept = np.column_stack((np.ones_like(Y), X1))\n",
        "beta_hat = np.linalg.inv(X_intercept.T @ X_intercept) @ X_intercept.T @ Y\n",
        "print('betas originales = ', [2,2])\n",
        "print('betas obtenidos = ', beta_hat)"
      ],
      "metadata": {
        "colab": {
          "base_uri": "https://localhost:8080/"
        },
        "id": "KBgQtlGfYsch",
        "outputId": "92a5236d-2ba9-4157-9a06-eb9a074efd30"
      },
      "execution_count": null,
      "outputs": [
        {
          "output_type": "stream",
          "name": "stdout",
          "text": [
            "betas originales =  [2, 2]\n",
            "betas obtenidos =  [2.1851586 1.7194104]\n"
          ]
        }
      ]
    },
    {
      "cell_type": "markdown",
      "source": [
        "**Utilizando solo las muestras de $X_2$**"
      ],
      "metadata": {
        "id": "xCXsxp7eZ94f"
      }
    },
    {
      "cell_type": "code",
      "source": [
        "X_intercept = np.column_stack((np.ones_like(Y), X2))\n",
        "beta_hat = np.linalg.inv(X_intercept.T @ X_intercept) @ X_intercept.T @ Y\n",
        "print('betas originales = ', [2,0.3])\n",
        "print('betas obtenidos = ', beta_hat)"
      ],
      "metadata": {
        "colab": {
          "base_uri": "https://localhost:8080/"
        },
        "id": "7h6aMFmNZ__o",
        "outputId": "994e8ca7-64b5-4057-cf40-0db9fa87778b"
      },
      "execution_count": null,
      "outputs": [
        {
          "output_type": "stream",
          "name": "stdout",
          "text": [
            "betas originales =  [2, 0.3]\n",
            "betas obtenidos =  [2.44961463 2.46596099]\n"
          ]
        }
      ]
    },
    {
      "cell_type": "markdown",
      "source": [
        "$\\hat{\\beta_1}$ y $\\hat{\\beta_2}$ no son iguales a los coeficientes verdaderos, ya que parte de la información de $X_2$ se incorpora a $\\hat{\\beta_1}$ y viceversa."
      ],
      "metadata": {
        "id": "bZpceU3nj-WQ"
      }
    },
    {
      "cell_type": "markdown",
      "source": [
        "## (d)"
      ],
      "metadata": {
        "id": "IH-C-niVT7WQ"
      }
    },
    {
      "cell_type": "markdown",
      "source": [
        "(d) Repetir el ajuste del modelo 1000 veces con diferentes muestras y graficar la distribución conjunta de\n",
        "𝛽\n",
        "^\n",
        "1  y\n",
        "𝛽\n",
        "^\n",
        "2."
      ],
      "metadata": {
        "id": "EYdgrjb0Gk1A"
      }
    },
    {
      "cell_type": "code",
      "source": [
        "# Simulación para analizar variabilidad de coeficientes\n",
        "beta_1 = []\n",
        "beta_2 = []\n",
        "n = 100\n",
        "\n",
        "for _ in range(1000):\n",
        "    X1 = stats.uniform.rvs(size=n)\n",
        "    Z = stats.norm.rvs(loc = 0, scale = 0.1, size = n)\n",
        "    e = stats.norm.rvs(size = n)\n",
        "    X2 = 0.5*X1 + Z\n",
        "    Y = 2 + 2*X1 + 0.3*X2 + e\n",
        "\n",
        "\n",
        "    # Ajustar el modelo con X1 y X2\n",
        "    X_intercept = np.column_stack((np.ones_like(Y), X1,X2))\n",
        "    beta_hat = np.linalg.inv(X_intercept.T @ X_intercept) @ X_intercept.T @ Y\n",
        "    beta_1.append(beta_hat[1])\n",
        "    beta_2.append(beta_hat[2])"
      ],
      "metadata": {
        "id": "Ke-RFLDaUhzp"
      },
      "execution_count": null,
      "outputs": []
    },
    {
      "cell_type": "code",
      "source": [
        "# Graficar la distribución conjunta  de los coeficientes ˆβ1 y ˆβ2\n",
        "plt.figure(figsize=(7, 4))\n",
        "plt.scatter(beta_1, beta_2,color='#2e92a3', s=40, alpha=0.7)\n",
        "plt.title(r'Distribución Conjunta de $\\hat{\\beta_1}$ y $\\hat{\\beta_2}$')\n",
        "plt.xlabel(r'$\\hat{\\beta_1}$')\n",
        "plt.ylabel(r'$\\hat{\\beta_2}$')\n",
        "plt.grid(True)"
      ],
      "metadata": {
        "colab": {
          "base_uri": "https://localhost:8080/",
          "height": 428
        },
        "id": "gSkG8_4dkg7I",
        "outputId": "81626d58-3a29-4ae6-b2a0-cbe18932fc20"
      },
      "execution_count": null,
      "outputs": [
        {
          "output_type": "display_data",
          "data": {
            "text/plain": [
              "<figure size="" 700x400="" with="" 1="" axes="">"
            ],
            "image/png": "iVBORw0KGgoAAAANSUhEUgAAAnUAAAGbCAYAAACiUWY7AAAAOnRFWHRTb2Z0d2FyZQBNYXRwbG90bGliIHZlcnNpb24zLjEwLjAsIGh0dHBzOi8vbWF0cGxvdGxpYi5vcmcvlHJYcgAAAAlwSFlzAAAPYQAAD2EBqD+naQAA1nlJREFUeJzsvXl4XGd59/95zjKrRotled/tOIudPRTSEMKWBNMGkoIpCZCwtiWhhfKW9pe+LQ1LC4WXthRalpalLKHgQFIoSUggJWlCAiEbdmxH3hdZlmRts5/1+f1xzhnNSCNZsrVZej7XlcvRzJlznudopPnqXr63kFJKFAqFQqFQKBRnNNpML0ChUCgUCoVCcfooUadQKBQKhUIxB1CiTqFQKBQKhWIOoESdQqFQKBQKxRxAiTqFQqFQKBSKOYASdQqFQqFQKBRzACXqFAqFQqFQKOYAStQpFAqFQqFQzAGUqFMoFAqFQqGYAyhRp1AoFAqFQjEHUKJOoVAoFGcEn/nMZ7j33ntnehl1mc1rU8wfhJr9qlAoFIrZzrZt23jnO9+JaZrs2bOH1tbWmV5Shdm8NsX8Qok6hUKhUMxqLMvi3HPP5ZOf/CTf//73aWtr4/Of//xMLwuY3WtTzD+UqFMoFArFrObv//7veeyxx/jhD39IV1cX559/Pj//+c8577zzZnpps3ptivmHEnUKhUKhUCgUcwDVKKFQKBQKhUIxB1CiTqFQzDiWZfF3f/d3/OQnP5nppSgUCsUZixJ1CsU08vWvfx0hBAcPHpyRa91xxx0IIThx4sSUX/9ka6nmgx/8IN/+9rd58YtfPK3rmg6m83s+XUTvo8lGSslnPvMZzjrrLGKxGMuXL+fDH/4ws6FKaDavTaGIUKJOoTgNog/s6L9EIsGyZcu49tpr+ed//mdyudykXOcXv/gFd9xxBwMDA5NyvtnE9773Pe655x7uu+8+mpubp+Qa+/bt4w//8A9Zt24diUSCxsZGrrjiCj772c9SKpWm5JrTyVx5f3zoQx/iQx/6EFdeeSWf+9znuPzyy/nYxz7Gtm3bZnpps3ptCkUFqVAoTpmvfe1rEpAf/ehH5Te/+U351a9+Vf7d3/2dvOaaa6QQQq5evVo+99xzleNd15WlUkn6vj+h63z605+WgDxw4MC4X1PvWn/zN38jAdnT0zOh658uo+3b9335mc98puYeTTb//d//LZPJpGxubpZ/8id/Ir/85S/Lz3/+8/LNb36zNE1Tvuc975mya0t56t/ziXAq74/TIXofTSb79++Xuq7Lv/7rv648Ztu2bGhokH/6p386qdeaKLN5bQpFNcaMKkqFYo6wZcsWLrvsssrXt99+Ow899BC/+7u/y+te9zp27dpFMplE13V0XZ/StRQKBdLp9LRca7yMthYhBB/84Aen7LoHDhzgzW9+M6tXr+ahhx5i6dKlleduu+029u7dy49//OMpuz6MvndFLXfffTdSSv74j/+48phhBB9RyWRyppYFzO61KRTVqPSrQjFFvPKVr+Sv//qvOXToEN/61reA+vVVuVyOD3zgA6xZs4Z4PM6iRYu4+uqrefrpp4GgfulDH/oQAGvXrq2keg8ePFipbdq5cyc33XQTLS0tvPSlLx31WhEnTpzgTW96E42NjbS2tvL+97+fcrlcef7tb387a9asGfG60WqpOjo6eNe73sWyZcuIx+OsXbuW9773vdi2PepannnmGbZs2UJjYyMNDQ286lWv4oknnhj1mnv37uXtb387zc3NNDU18Y53vINisTjm9+BTn/oU+Xyer3zlKzWCLmLDhg28//3vr3lsPOuayJqG730i93Y81xnr/QFw6NAhbr31Vs4++2ySySStra1s3bp13DV+jz76KC960YtIJBKsX7+eL33pS6Me29HRwTvf+U4WL15MPB5n06ZNfPWrXx3XdX75y19yzjnn0NbWVnnsueeeI5/Pc8EFF4zrHPX4n//5H4QQ3H333SOeu/POOxFC8Pjjj8/I2hSKyUZF6hSKKeRtb3sbf/mXf8kDDzzAe97znrrH/NEf/RF33XUX73vf+zjvvPPo7e3l0UcfZdeuXVxyySX83u/9Hu3t7XznO9/hH//xH1m4cCFAzQfM1q1bOeuss/i7v/u7cRVuv+lNb2LNmjV84hOf4IknnuCf//mf6e/v5xvf+MaE93js2DF+67d+i4GBAf7gD/6Ac845h46ODu666y6KxSKxWGzEa55//nmuvPJKGhsb+fM//3NM0+RLX/oSL3/5y3n44YfrNky86U1vYu3atXziE5/g6aef5t///d9ZtGgRf//3fz/q2n70ox+xbt06fvu3f3tce5nouk5lTafCWNc52fvjySef5Be/+AVvfvObWbFiBQcPHuQLX/gCL3/5y9m5cyepVGrU627fvp1rrrmGtrY27rjjDlzX5W/+5m9YvHjxiGO7urp4yUteghCC973vfbS1tXHffffxrne9i2w2ywc+8IEx97h9+3Yuuuiimsc+/elPk0gkuPrqqyd2w6p4+ctfzsqVK/n2t7/NDTfcUPPct7/9bdavX8/ll18+I2tTKCadGU7/KhRnNFFN3ZNPPjnqMU1NTfLiiy+uOb669qmpqUnedtttY15ntJqpqLbpxhtvHHVt1a+Jjn/d615Xc+ytt94qgUpt2y233CJXr1494pz1aqluvvlmqWla3XsQ1ZENX8v1118vY7GY3LdvX+XYY8eOyUwmI1/2spfVveY73/nOmsdvuOEG2draOuKaEYODgxKQr3/960c9ZjjjXddE1jR87xO5t+O9zlg1dcViccRjjz/+uATkN77xjRHPVXP99dfLRCIhDx06VHls586dUtf1EWt917veJZcuXSpPnDhR8/ib3/xm2dTUVHcdEZZlScMw5Cc+8QlZKBTkE088IW+++WYJyA9/+MNjrnE83H777TIej8uBgYHKY93d3dIwDPk3f/M3Y752qtemUEwmKv2qUEwxDQ0NY3bBNjc388tf/pJjx46d8jX+6I/+aELH33bbbTVfR7VC995774TO4/s+99xzD9ddd11NTWFEvVSt53k88MADXH/99axbt67y+NKlS7npppt49NFHyWazI143fI9XXnklvb29dY8FKo9nMplx7eVU1jXRNZ0qp3Od6povx3Ho7e1lw4YNNDc3V1L89fA8j5/85Cdcf/31rFq1qvL4ueeey7XXXltzrJSS73//+1x33XVIKTlx4kTlv2uvvZbBwcExr7Vr1y5c1+WCCy7gM5/5DC95yUv4xje+wdlnnz0iPX4q3HzzzViWxV133VV57Lvf/S6u6/LWt751zNdO9doUislEiTqFYorJ5/NjCotPfepT7Nixg5UrV/Jbv/Vb3HHHHezfv39C11i7du2Ejj/rrLNqvl6/fj2apk3YS62np4dsNsvmzZsn9JpiscjZZ5894rlzzz0X3/c5cuTIiOeqhQVAS0sLAP39/XWv09jYCDBuW5lTWddE13SqnM51SqUSH/7wh1m5ciXxeJyFCxfS1tbGwMAAg4ODo76up6eHUqk04r0CjLhHPT09DAwM8OUvf5m2traa/97xjncA0N3dPeq1tm/fDsAFF1zADTfcwHe/+13+7M/+jI6ODl784hfX2M584Qtf4JJLLsE0Te64446T7h/gnHPO4UUvehHf/va3K499+9vf5iUveQkbNmwY87XjXZtlWbzzne9k1apVNDY28pKXvOSktXoKxWSjauoUiink6NGjDA4OjvnB8aY3vYkrr7ySu+++mwceeIBPf/rT/P3f/z0/+MEP2LJly7iuc7odeMMjaqMZy3qed1rXOR1G6yCVo9QQNjY2smzZMnbs2DFr1gSndm9P5ToRf/zHf8zXvvY1PvCBD3D55ZfT1NSEEII3v/nN+L5/0tePh+g8b33rW7nlllvqHjNWQ8GOHTtYsGABK1asYMWKFWzevJk3velNXHDBBdx888386le/4qqrrgKCyOkdd9zBnXfeOaE13nzzzbz//e/n6NGjWJbFE088wec///mTvm68a3NdlzVr1vDoo4+yYsUKvve973Hddddx8OBBGhoaJrRWheJUUaJOoZhCvvnNbwKMSFcNZ+nSpdx6663ceuutdHd3c8kll/C3f/u3FVE32e79e/bsqYnu7d27F9/3K12ZLS0tdY1sDx06VPN1W1sbjY2NExJObW1tpFIpXnjhhRHP7d69G03TWLly5bjPNxa/+7u/y5e//GUef/zxkxbDT9e6xntvJ8JY74+77rqLW265hc985jOVx8rl8kmNitva2kgmk+zZs2fEc8PvUVtbG5lMBs/zePWrXz2xxRNEw84///wRj0dCt7pz+frrrwcmXirw5je/mQ9+8IN85zvfoVQqYZomv//7vz9pa0un03z4wx8ecb0XXniBSy+9dEJrVShOFZV+VSimiIceeoiPfexjrF27lre85S11j/E8b0QKbNGiRSxbtgzLsiqPpdNpgEmbGPAv//IvNV9/7nOfA6iIyPXr1zM4OMhvfvObyjGdnZ0jbCE0TeP666/nRz/6Eb/+9a9HXKdeJEnXda655hr+67/+qybd29XVxZ133slLX/rSSur0dPnzP/9z0uk07373u+nq6hrx/L59+/jsZz87resa772dCGO9P3RdH/F9+NznPnfSqKuu61x77bXcc889HD58uPL4rl27Rszo1XWdN7zhDXz/+9+vK/B7enrGvNb27ds5fvx4zXvetm3+5V/+hYsuuoiNGzeO+frxsHDhQrZs2cK3vvUtvv3tb/Oa17ym0ik8FWvbs2cPfX19J03vKhSTiYrUKRSTwH333cfu3btxXZeuri4eeughHnzwQVavXs0Pf/hDEolE3dflcjlWrFjBG9/4Ri688EIaGhr46U9/ypNPPlkTWYn+0v+///f/8uY3vxnTNLnuuutOeb0HDhzgda97Ha95zWt4/PHH+da3vsVNN93EhRdeCARRhr/4i7/ghhtu4E/+5E8oFot84QtfYOPGjSMK3v/u7/6OBx54gKuuuoo/+IM/4Nxzz6Wzs5Nt27bx6KOP1h399fGPf5wHH3yQl770pdx6660YhsGXvvQlLMviU5/61Cnvazjr16/nzjvv5Pd///c599xzufnmm9m8eTO2bfOLX/yCbdu28fa3v31a1zWRezteRnt/pNNpfvd3f5dvfvObNDU1cd555/H444/z05/+lNbW1pOe9yMf+Qj3338/V155Jbfeeiuu6/K5z32OTZs21YhSgE9+8pP8z//8Dy9+8Yt5z3vew3nnnUdfXx9PP/00P/3pT+nr66t7jcHBwUqt4lVXXcUtt9xCqVTi29/+Njt37uThhx8+pXtSj5tvvpk3vvGNAHzsYx876fGnurZSqcRb3/pWbr/9dpqamiZt/QrFSZnBzluF4ownsquI/ovFYnLJkiXy6quvlp/97GdlNpute3xkPWFZlvzQhz4kL7zwQpnJZGQ6nZYXXnih/Nd//dcR1/rYxz4mly9fLjVNq5xjrLFfY1ma7Ny5U77xjW+UmUxGtrS0yPe9732yVCrVvP6BBx6QmzdvlrFYTJ599tnyW9/61qjjoQ4dOiRvvvlm2dbWJuPxuFy3bp287bbbpGVZo67l6aefltdee61saGiQqVRKvuIVr5C/+MUvRpx7tD3WO+dotLe3y/e85z1yzZo1MhaLyUwmI6+44gr5uc99TpbL5Zpjx7Ouiayp3mPjvbcTuU6994eUUvb398t3vOMdcuHChbKhoUFee+21cvfu3XL16tXylltuOem9e/jhh+Wll14qY7GYXLdunfziF7846vugq6tL3nbbbXLlypXSNE25ZMkS+apXvUp++ctfHvX8jz76qATku9/97srrVq1aJbdu3Trm+Lg//MM/PKkdyXAsy5ItLS2yqalpxPt9stZm27b8nd/5HXnTTTdN6Wg4haIeQspxVNoqFAqF4pT4yle+wrvf/W6OHDnCihUrZno5s44vfvGLvPe972VwcHBC6e0/+qM/YsmSJePugAVwXZdly5Zx3XXX8ZWvfGXS1+b7PjfddBOFQoG77767MkpMoZgu1DtOoVAoppDOzk6EECxYsGCmlzIr2bFjB8uXLx+3oHNdF9d18TwP13Upl8uYpjmu+br33HMPPT093HzzzVOytj/8wz+ks7OTn/zkJ0rQKWYEFalTKBSKKaCrq4u77rqLT3ziE6xevZrHHntsppc0K7nqqquIx+M88MAD4zr+jjvu4CMf+UjNY1/72tdqaiOH88tf/pLf/OY3fOxjH2PhwoXjrl2cyNoOHTrEmjVrSCQSNQLzvvvu48orrxzX9RSK00V1vyoUCsUUsGvXLj70oQ+xYcMGvv71r8/0cmYtO3bs4Lzzzhv38XfccQdSypr/xhJ0EBgWv/e972XRokUTmm88kbWtXr0aKSWlUol8Pl/5Twk6xXSiInUKhUKhUCgUcwAVqVMoFAqFQqGYAyhRp1AoFAqFQjEHUO05w/B9n2PHjpHJZCZ9NJNCoVAoFArFcKSU5HI5li1bhqaderxNibphHDt2bNLmTioUCoVCoVCMl9P1s1SibhiZTAYIbuxkzZ88XRzH4YEHHuCaa67BNM2ZXs60ovY+//Y+X/cNau9q7/Nr7/N13zBy79lslpUrV1Y0yKmiRN0wopRrY2PjrBJ1qVSKxsbGefnGV3ufX3ufr/sGtXe19/m19/m6bxh976db9jXnGiXuuOMOhBA1/51zzjkzvSyFQqFQKBSKKWVORuo2bdrET3/608rXalyLQqFQKBSKuc6cVDuGYbBkyZKZXoZCoVAoFArFtDEnRd2ePXtYtmwZiUSCyy+/nE984hOsWrWq7rGWZWFZVuXrbDYLBPlux3GmZb0nI1rHbFnPdKL2Pv/2Pl/3DWrv1f/OJ+br3ufrvmHk3ifrHsy5MWH33Xcf+Xyes88+m87OTj7ykY/Q0dHBjh076naV1BsODXDnnXeSSqWmY8kKhUKhUCjmMcVikZtuuonBwcHTatKcc6JuOAMDA6xevZp/+Id/4F3veteI5+tF6lauXMmJEydmVffrgw8+yNVXXz0vO4TU3ufX3ufrvkHtXe19fu19vu4bRu49m82ycOHC0xZ1czL9Wk1zczMbN25k7969dZ+Px+PE4/ERj5umOeveZLNxTadCb7HEk0e7yNk2mViMF61YTGsqOeZr5sreT4X5uvf5um9Qe1d7n1/M133D0N4na/9zXtTl83n27dvH2972tpleyrzH9X22bW/nvvaDZC278vidz8XYsnENW8/fiHEa41EUCoVCoZjPzLlP0D/7sz/j4Ycf5uDBg/ziF7/ghhtuQNd1brzxxple2rxn2/Z2vrd9D67vs7yxgZVNGZZnGgKxt2MP27a3z/QSFQqFQqE4Y5lzou7o0aPceOONnH322bzpTW+itbWVJ554gra2tple2rzmRKHEfe0HSZo6rakkWuiarWmC1lSShKFzX/tBeoulGV6pQqFQKBRnJnMu/fqf//mfM70ERR1+3dFF1rJZ3thQ9/mWZIKObJ4nj3bxmo1rpndxCoVCoVDMAeZcpE4xO8nZQQ2dNspcu+jx6DiFQqFQKBQTQ4k6xbSQicUA8Edx0PF9iaw6TqFQKBQKxcRQok4xLVy2fDGN8Rj9pXLd5/vLZZrigb2JQqFQKBSKiaNEnWJaWJhOsmXjGsquR2+xVInY+b6kt1ii7Hps2bjmpH51CoVCoVAo6jPnGiUUs5et528E4L72g3Rk8wBIoCkeY+vmdZXnFQqFQqFQTBwl6hTThqFp3HjhOVxz1urKRInGeJzLli9SETqFQqFQKE4TJeoU005rKqlsSxQKhUKhmGRUTZ1CoVAoFArFHECJOoVCoVAoFIo5gBJ1CoVCoVAoFHMAJeoUCoVCoVAo5gBK1CkUCoVCoVDMAZSoUygUCoVCoZgDKFGnUCgUCoVCMQdQok6hUCgUCoViDqBEnUKhUCgUCsUcQIk6hUKhUCgUijmAEnUKhUKhUCgUcwA1+3Wa6S2WKsPsM7EYL1qxWA2zVygUCoVCcdooUTdNuL7Ptu3t3Nd+kKxlVx6/87kYWzauYev5GzE0FThVKBQKhUJxaihRN01s297O97bvIWnqLG9sQBMC35f0l8ts27EHgBsvPGeGV6lQKBQKheJMRYWGpoEThRL3tR8kaeq0ppJoQgCgaYLWVJKEoXNf+0F6i6UZXqlCoVAoFIozFSXqpoFfd3SRtWxakom6z7ckE2QtmyePdk3zyhQKhUKhUMwVlKibBnJ2UEMXReiGEz0eHadQKBQKhUIxUZSomwYysRgAvpR1n/d9iaw6TqFQKBQKhWKizGlR98lPfhIhBB/4wAdmdB2XLV9MYzxGf6lc9/n+cpmmeGBvolAoFAqFQnEqzFlR9+STT/KlL32JCy64YKaXwsJ0ki0b11B2PXqLpUrEzvclvcUSZddjy8Y1yq9OoVAoFArFKTMnRV0+n+ctb3kL//Zv/0ZLS8tMLweAredvZOvmszA0jY5sniODOY7m8hiaxtbNZ7H1/I0zvUSFQqFQKBRnMHPSp+62227jd37nd3j1q1/Nxz/+8TGPtSwLy7IqX2ezWQAcx8FxnEld1xvPW88r1y7n6Y5u8o5NJhbn4mVtLEgmkJ6H43l1XxetY7LXcyag9j7/9j5f9w1q79X/zifm697n675h5N4n6x4IKUep3j9D+c///E/+9m//lieffJJEIsHLX/5yLrroIv7pn/6p7vF33HEHH/nIR0Y8fuedd5JKpaZ4tQqFQqFQKOY7xWKRm266icHBQRobG0/5PHNK1B05coTLLruMBx98sFJLdzJRVy9St3LlSk6cOHFaN3YycRyHBx98kKuvvhrTNKf0Wq7vc8/OvTy49zC5qnFmmXiMqzes4vrzNkzrOLPp3PtsY77ufb7uG9Te1d7n197n675h5N6z2SwLFy48bVE3p9KvTz31FN3d3VxyySWVxzzP45FHHuHzn/88lmWh63rNa+LxOPF4fMS5TNOcdW+y6VjTXc/t5nvP7ydp6ixqzNSOM9u5HzR9RsaZzcbvx3QxX/c+X/cNau9q7/OL+bpvGNr7ZO1/Tom6V73qVWzfvr3msXe84x2cc845/MVf/MUIQaeoZfg4s4honFlvMXj+mrNWq05dhUKhUChmGXNK1GUyGTZv3lzzWDqdprW1dcTjipFE48yWNzbUfb4lmaAjm+fJo128ZuOa6V2cQqFQKBSKMZmTliaKU0ONM1MoFAqF4sxlTkXq6vHzn/98ppdwxlA9zqyesFPjzBQKhUKhmL2oSJ2ighpnplAoFArFmYsSdYoK0TizvO2wv2+AjmyenkKRsuuqcWYKhUKhUMxy5nz6VTF+XN/HlxLH8+ktliszajUhWJhK8JaLzlHjzBQKhUKhmKUoUaeosG17O3ft2EtLMs6Kpgaylo3j+liei65paEJMq/GwQqFQKBSK8aNEnQKo71GXMIbeHsqjTqFQKBSK2Y0KuyiAIY+6lmSi7vMtyQRZy+bJo13TvDKFQqFQKBTjQYk6BaA86hQKhUKhONNRok4B1HrU1UN51CkUCoVCMbtRok4BKI86hUKhUCjOdJSoO4PoK5W5v/0g23a0c3/7QXqLpUk7d+RRV3Y9eoulSsTO96XyqFMoFAqF4gxAdb+eAbi+D8DtP3mUPsupPH7nczG2bFzD1vM3TorVSORBd1/7QTqyeQAk0BSPsXXzOuVRp1AoFArFLEaJujOAe3buJUUg7pY3NqAJge9L+stltu3YA8CNF55z2tcxNI0bLzyHa85azZNHu8jZNo3xOJctX6QidAqFQqFQzHKUqJvlnCiUeHDvYV4fgwXJJF7YhappgtZUckr841pTSV6zcc2knEuhUCgUCsX0oGrqZjm/7ugiZ41uI6L84xQKhUKhUIASdbOek/nCKf84hUKhUCgUoNKvs56T+cLNJf+43mKpUsuXiQX2KY2meosqFAqFQjEe1CfmLOey5Yv5XjwG1I/EzQX/ONf32ba9nfvaD5KtSjXf+VyMLRtWkprBtSkUCoVCcaag0q+znIXpJFdvWAVAX2lu+sdt297O97bvqXT3rmzKsDzTgOv73LNz30wvT6FQKBSKMwIl6s4Arj9vAxBYjnRk8xwZzHE0l8fQNLZuPuuM9o87UQi6d5OmTmsqWakRjLp744YOBMbLCoVCoVAoRkelX88AImPhT1z7Up453jun/ON+3dFF1rJZ3thQ9/nmRALI83RHN1saM9O7OIVCoVAoziCUqDuDWJBMzDn/uKhrN4rQDUcTAiTkHdXdq1AoFArFWChRp6hLvU7UqYgKRl27vpR1hV1UQ9hgnvndvQqFQqFQTCVK1ClqGLMTdZQ5s6cjAC9bvpjGeIz+UrnuawbKZUjAJcsXjet80yVGFQqFQqGYbShRp6gh6kRNmvpJ58yeigAczsJ0ki0b17Btxx56iyVakomaa3quBwSp57GYjLUoFAqFQnEmo0SdosLwTtSI0ebMTkQAjkXUvXtf+0E6snkAJNAUj3Hdeevh8N6TnmOy1qJQKBQKxZmKEnWKCifrRG1JJujI5nnyaBeXLV88IQE4FoamceOF53DNWasrqdOou7fRNLj3JKJuomJUoVAoFIq5yJzLR33hC1/gggsuoLGxkcbGRi6//HLuu+++mV7WGcG4OlHD4yIB2DJKWrQlmSBr2Tx5tGvc129NJXnNxjVs3byRaycgwKZiLaPRWyxxf/tBtu1o5/72g/QWS6d9ToVCoVAoJoM5F6lbsWIFn/zkJznrrLOQUvIf//EfvP71r+eZZ55h06ZNM728Wc1JO1Gr5sxORABONdOxFlWzp1AoFIrZzpwTddddd13N13/7t3/LF77wBZ544gkl6k7CyTpRq+fMRlGv8QjA8VKvc7XRPPlbdCJi9FRRNXsKhUKhmO3MOVFXjed5bNu2jUKhwOWXX173GMuysCyr8nU2mwXAcRwcx5mWdZ6MaB1TvZ6mmMGWDSu5Z+c+BotFmhNhJ6qUDISdqNedt55G0+Cixa0siJvkSiUWJEcKwMFyida4ycVLWk+67mDG614e3HuYXFUU7HvPxbh63QpSjL33yVxLPXqLZR5sP0DG1Ia6cKVEF7AomaCvVOLB9gO8cu3yk3bpToTp+r7PNubrvkHtvfrf+cR83ft83TeM3Ptk3QMhZejuOofYvn07l19+OeVymYaGBu68805e+9rX1j32jjvu4CMf+ciIx++8805SqdRUL1WhUCgUCsU8p1gsctNNNzE4OEhjY+Mpn2dOijrbtjl8+DCDg4Pcdddd/Pu//zsPP/ww55133ohj60XqVq5cyYkTJ07rxk4mjuPw4IMPcvXVV2Oa5rRcs69U5umObvKOTSYW5+JlbSOiUPUibBJojMe4esMqrj9vw6h1ZtH5j+eL/GjXfhKmxqJ0esRx2VKR1yc8LrvyZSzK1O/KPd21nIx7du3le79pZ/kYs2c7sjnedMFGrj93wyldox5jfd9Hi25mJmG/M81MvN9nC2rvau/zae/zdd8wcu/ZbJaFCxeetqibk+nXWCzGhg3Bh+ull17Kk08+yWc/+1m+9KUvjTg2Ho8Tj8dHPG6a5qx7k03nmhabJlvGEDEAJnDjxZu45ux1I6xIRutcHd5wULAd+ksWCUOn7MOyTBpRVRfXkEgCeX7T1ceWBS2TupbxkkkkcRA41G/G8H2JjSCTSE7J96fe9/2u53bzvef3kzR1FjVmamv8du4HTT/ja/xm48/gdKH2rvY+n5iv+4ahvU/W/uekqBuO7/s10TjF5BJZkYyH4Q0HXfkiWctGAp25AkDFJ8/2PPLlMiThyY7j/NbqZScVaBNZy3iZSAPJdKB8+RQKhUJRjzMzPzMGt99+O4888ggHDx5k+/bt3H777fz85z/nLW95y0wvbd4zXIxoQmBoAiEEpq6hCUF3voTlunRk8zzf1ceRgWDCxONHjvOnP36Y7zy3G9f3p3Xd0SizsuvRWyzhhxULvi/pLZYoux5bNq6ZNgE1nb58CoVCoThzmHORuu7ubm6++WY6Oztpamriggsu4Cc/+QlXX331TC9t3lNvYkVTIo6p5XE8H1PTKHseB/uz5GwHTQi0MNu5pjnDoO3OmH3IWKPMtm5eV3l+Kvjp3sPkPa9i8zKbPAIVCoVCMXuYc6LuK1/5ykwvQTEK9cRITNdpS6fozBVwfB8pJQNlGyNUc1EXT1w3aE2ZM5ZaHGuU2VSsw/V97trRTgr46lM7cAjux53PxVjT3IiUU+vLp1AoFIozjzkn6hSzl9FMgpc1Bl2v3fkCjhekVoXQiGmCJekUQ9Kudv7sZNfOjYepqNmrx7bt7dz9/D7ekoGlmQakplUaIZ493oPr+bOmxk+hUCgUswMl6hTTxmgNBwLB8sYGDE3QUyghgSUNaZoSMZKaBjJXOfZMTC3u6e3nBzv20l+2aEnE+b3NGzirdfRO3qj2MGHqgIsmBB5DjRAA/SWLvB2YVbYkEzXdr2XXY+vmdapJQqFQKOYZStQpRlBvXNdkCISo4WDbjj30FksjxIjrS65cvZzfdJ2gNRU8xzAbxalOLU7m3suuy1898BiPHe6sRCAB7tm1jytWLeXj11xBwhj5IxjVHq7KpIH8iOdbkgkKtsOFS9o4OJCd9ho/hUKhUMxOlKhTVJiOofUnazh45bqVfOj+/5321OJU7P2vHniMnx/oQNcE6ZiBJjR836fsefz8QAd/9cBj/L/XXjXidTW1h3WswTURdAyfv3Qh77/i4mmp8VMoFArF7EeJOkWF6RhaP56Gg+po3sJEYAztS0lvaepSi5O99/aefh473ImuCVJVppKappHSNIqOw2OHO9nT2z8iFVtde1iP6mjldNX4KRQKhWL2o0SdAph+Q9uxxEh1NK8zl4cMHMvlScXjU5JanIq9371zL47nk47V/xFLGDoF2+UHO/by7hdtrkn5rlvQRGM8xkC5DHWs6FQjhEKhUCjqoUSdAqjvIVfNdHadVkfzfnXoGHb7Dt592fm8aNXSKUktnmzv6ZjJgf4sn3v8WV6ycum46uz6y8EEE03UT9lGjz97vJs//fHDNSnfxniMRekkh/sGIBFG7IY1Qrx248opqXtUKBQKxZmLEnUKoL6HXDUz0XXamkry6g2ruLd9B69av3LKZgOOtneJ5Fi2QE+hSMnxeORgB8929oyrzq6lkjb26wo73/fxpOToYJ6VTZkRKd99fVk2tjSBO0hnLo+DQAKNMZN1LY08fLCD3BTVPZ4KU9Vco1AoFIrxo0SdAhjdQy5ithnaTqaIGG3vx7IFOnMFBEH0sC2dZGEyOa46uxvO28A9u/ZRdj1S5kiRVXJdkJK2dHLUlG9PsQQxeOelm8l7Ho3xOEcGsvz4hYNTWvc4EaajuUahUCgU40OJOgUw+4bWj8ZUiIh6e7c9j55CsSLydAGe79NVKGJowczasersNra1cMWqpfz8QAdFxyFh6DXdr64viRsGSzOjp7u7szmIwas3rMI0TU4USnz72V2nXPs3FdG06WiuUSgUCsX4UH9CK4DZN7R+NCIR4fo+yxsbgtRlpiEQezv2sG17+4TPWW/vg2UL2/ORSCzXw/E8jmYLHM3mOTiQ41g2z5HBPL88cnzU8378mit4+drlaEJQsF1ylk3BCcyEz2ptZnFD8qTp7mqi2r+WZJ3uCQIhmLVsnjzaVfO46/t857nd/OmPH+aLv/oN3352N1/81W/40x8/zHee243r+3XPdzKGN5hEa45EZsLQua/9IL3F0imdX6FQKBQTQ0XqFBVmcmj9eDjdLtWxIlXD9561bDxfht7HEkPTiRk6AoGUEsf3yVk2P99/lNeevbbuehOGwf977VU1EyUWJBPcsGk9+3oH+eKvfkPZDcSe60sMTdCUiBPT9Uq6u5pTrXucqmjabGquUSgUCoUSdYoqpnto/UQ5VREx3pRt9d6fONLJIwc6KLsOQhjEdL3yOiEEpqZhC49dPX30Fktj3p+zWlv4i6teVPNYJhbDdj22Hz8BVSLN1PK0pVPEDZ3GeAywa17j+ZKufAFfUiMCYWTdY2+xxEP7jvDNZ3cjkCxqSOL6PoNlqyIiT5ZGHovZ2FyjUCgU8xkl6hQjmGlD2+qIWkOVmJqOSFW098uWL+apjm5ytk06NrJKwfF94roOyFOKRP3P/iOUXQ9PSkxNENOCfdqex5HBHI3xGO++5Fw4vBcIhOmRwRwniiVc30cP6wYjEbisMV2pe7x4WRvfeW4397Uf5FiuwEDJQhfQUygjCEQp4S00BJi6wS+PHB814jgaZ1pzjUKhUMx1lKhTzBrqRdRMJG/NwF072mlMpoCJiYhTTdkuTCc5d1ELnbkCjudjahpCDKVefSlZmknjS1k3EjVWqjda0+KGJM1enO58ibLnVV6rC0FM17lgyUL2Ht7LPbv2sr2rn2c6e2iMm2QtB00IDCFwpeRYNk/BdkjHTLZuXsdD+45URGxjPEbedhAy7LgFkqZBwjDGnUYejTOluUahUCjmC0rUKWYN9SJqwveBPPfs3MfVG9dOWEScTt3XVWsCg1/H82tElyE0lmZSLEmn6MgXakTkeFK91WvShKAtnWQgTImamqAhZrKvb5C/fvAJbmmC7zzbztF8EU3A0kyalGnSUyhjhQ0OnpRkLZutm8+qzM6NRGx3oYiUQbNHJIRtzyOm62gTTCMPJ2owiUa6tSQTNVHQqRrpplAoFIr6KFGnmBWMGlELh9rHDZ1HDnbwsjXLuTfsqByPiDiduq8Xr1zCyqYMZddFCFERXVEdW2+xNEJEjifVa+hazbVjus6idKpyjo5snpzl0GAYgEYqpiNEEF08ni+yNJNm0+IFFSGoC0HJcVjRlOGZzp4aEdscD0yQJUEEEAIR6Po+MV0/7TTybG+uUSgUivmEEnWKWcHJImrNiQSHcwWWNTawdfNZ4xYRp1P3VR2JShgaC0MLkmqbl2oROd5U73XnrBt1Tbbr0Z0vIgQ0JUzAw/MlQgjiuoHteXTnS7SlkzVC8MhgrkaYVgSjodMQM7FcD1/KqJQO3/exwvRrYzxGyfU4ni/UvfdjMRuba9R0C4VCMV9Rok4xKxhvRK3gOBMSEadb9zWRSNRYwtQODYeP5/M8391L0jDqrmnAsrA8j7iu0ZSIA0V0TYTXlZiaRtnzGChbFVFXT5hWC8bWVIKBsoWU4EOQjvV8IBCLOcvGl/D9HXuJ6/opGTjPdHMNqOkWCoVCoUSdYlZw0oiarBUu4xURp1v3NZFIVD1hKqXkWK5Ad76EK31cz+eRgx0kdJ2y6yGlZEEqsBrpL1p05vN4vqQ1k8LUdJDQlIhjakHDRmRf4vpDLnbVwlRKRojYlkSCpFHEkz6eL/F8HyHA1PQwreyjawJTF2f0FAg13UKhUMx3lKhTzApOFlEbOI1Oysmo+xqPiKwnTI/lgvmxmhDEwyjRwlQCXdOw8kUGShbH80UKthsI11C8nigWSWhAQyC+2tIpOnMFLNeF0KNuNGE6XMTGDJ22VIKjuTzIQHQKAZbnEWlDXRN05UsYQvDNZ3ZhaBqvXL/yjElbnq4xtUKhUMwFlKhTzApGjaiF48os1+P6zetP6QN5uuq+hgvToD6uhBZalNieh6mJQGjpOgLoLZbRhGBBKkHKNPCkT2e2gOV6dOYK0BCkWJc1pgE4ls3jSyjaDkddr64wrSdifSQLU0lKjsugZSNDNResTQMJRcfBl5C1Hb705HZ+tHv/GZO2VNMtFAqFQok6xSyinhgxkJCB689bf9qdlFNd9zVcmLq+xJU+cU3D9oJGhcUN6UoKNR0z2ds7yMJUnIRpVFK0vgzSq5YMbFRsz0VoBglDZ1FDiouWtHH+0oWjCtOxROx3nnuBrz31PLquYWg6ph6srex5CAS6CFLGadOozNOF2Z+2VNMtFAqFQok6xSyinhjJGAbWC9t54+bZES06WWdltTA9ns/jeoGXnKkJFjekKxE3IGxQkJRdn/5ykKJN6DrC0Ck5LoTeeDu7+2hKp2iKx7jxgrPrRs5GW9dwEVuwHYQQJE0DTWj4oYedIBA+Ukp8wPH8WZG2HG8nq5puoVAoFErUKWYh1WLEcRzufWH7uF43lVYWUWflD3ftp6dYqoiHtlSS1527riK0qoXpvz+5g5/sPcTCVJKWZLxmfiyA7flIKSk4Doam1TyfNE0MM/jxNHWNt110Lq9Yt2LEfiba8bkotGVxfUlMD8adVXvYRe0XMSNYy0ymLe/a0c59e4+Ma19TNd1C2aMoFIoziTkn6j7xiU/wgx/8gN27d5NMJvnt3/5t/v7v/56zzz57ppemmCKmw8riu795ga/8+nmKjgOEs1Ml5C2bf3tyB76UvOWicyvHt6aSvOuyzTzf3Vsx+h2OFY7tAjDrrC+KNxl64DVXT0ycrOOzJ1+k5Hr0ly1aEnEWNaRIxwyKjhuMO/P9SnQOAtsUXRMkjKAGcLBskbVsnjjSOemC5mSC6e7n92GYxrg6WSd7uoWyR1EoFGcic07UPfzww9x222286EUvwnVd/vIv/5JrrrmGnTt3kk6nT34CxRnHVFtZnCiU+Nazu8nZNjFdHzEHNmfbfOvZ3bxm45oR82PHEhq6ppGOmZTCiRXDccIxYEndqFsLNlbHZ0siznPHe/ja0zvRNG1IIGoCzw8mSkiGInNeaExsaIK4oVNyPDqyvdheYIPy6KFj7O8bnBRBczLBdOWqpQAkTJ1kPFapTzTCaR5g100JT+Z0C2WPolAozkTmnKi7//77a77++te/zqJFi3jqqad42cteNkOrUkwV02Fl8T/7j3CiWAqCc6GQMzSt0tUqkfQWyzy078gI4TCW0LjxgrN5vruX+9sPYbkuMUNHMCQWjVByaVr9WrCxOj539fSTt10kkNAECdPE933yjlPxuEsZOggoOV5lXQAJw6hMl/BlELlbkUljT1LjxMkE0wtdJ7gYKDsuBwbzOFWefKaWZ2EqiS8ZkRKerC5nZY+iUCjOVOacqBvO4OAgAAsWLKj7vGVZWJZV+TqbzQJBLZfjOFO/wHEQrWO2rGc6Odnenzx8jJJlsTTTgCbliOcXJuJ05vL86tAxXr1h1YSv7/o+9+7ahxZGzSKLFV8EM1sTho6p6+Q9h11dPTjnrB1xjjeet55Xrl3O0x3d5B2bTCzOxcvaWJBMcOWqpWzv6Ka/XMYPGyMgEGJLQsGwIG5y8ZLWEffgeDaH7Tj05QvolSgWdOWLFMpl4gKEgLgmiAnww3+NMGwX00AiELqGF+7P0ARlyyIysNMIxMzh/ixt6QRpXePB9gO8cu1yFiQTJ71/faVyZd8NZoy1LY082H6AjKkNvV5KdAGLkgn6SiWe7+zh4maN/mIJA0HSrBW7fYUiScPgeDbHfbv2Vc59yfJFLEgmaDQNXrV2ec06JvKzM9XvqbFQP+tq7/OJ+bpvGLn3yboHQso6v7XmCL7v87rXvY6BgQEeffTRusfccccdfOQjHxnx+J133kkqlarzCoVCoVAoFIrJo1gsctNNNzE4OEhjY+Mpn2dOi7r3vve93HfffTz66KOsWLGi7jH1InUrV67kxIkTp3VjJxPHcXjwwQe5+uqrMU1zppczrZxs7z/de5ivPrUjiKqMMl7sWC7POy7ZRNayeHDvYXJVdVyZeIyrN6zi+vM21LEJKfOXDzxKT75ET6EIgFZ1jC8lQkBM0/AkfOCKi3j9uRsmvEfX97ln596atUmCCN3vxByueuUruW/v4crzOcsha9lIJJ5/8h9fQaWvg+qjY7rGisYGjHDOrOP5/OZ4D1IG3bemrtXcUzv0smtOxLjxorP53bPXjVg3BPe0LZXkQP8gCdOgOTFkJH2gf5DeYpmVTQ0szdQ3Ct53oo93t5r8U2eBsi+p/g0lBMEMWylZnE6xdkFT5dwD5TJlx2VtSxM9xdK4v8/V9JXKfOPpnfxs/xEWJOO0JBPBuLYqovfUuy7dPCWROvWzrvY+X5iv+4aRe89msyxcuPC0Rd2cTb++733v47//+7955JFHRhV0APF4nHg8PuJx0zRn3ZtsNq5puhht7y9atYzv7NjDibJVt76pt1QmFY/TWSjx4xeCOqlFjZnaOq6d+0HTR9SJPdvVQZ/lsKQ5Q1fJwvY8NH/IB00Cnicpex5NiTgXLl9ySt8fE7jx4k1cc/a6mlqwixYv4In/eYj79h7me8/vJ2nqNKdTHC/24UiJE3qvjZfqCR0AluuzdyCPrgkEOQyhUfZBD1O1BddHBglaTF1DCI2S66G5HplEknt2H6isq/qedheK7DjUSUsyzuKmxuA+AQhBKhHneLFMR75Iczo1oivY9yVREqLo+tiVsWZB+tUL9yyAeDyG1LTKuZtSKbpO9PE/hzpZ05IZ9/cZaps3+kpl+soOvWWbRK5IWzrFssY0Imw3id5Tv7V62ZT9PKqfdbX3+cR83TcM7X2y9j/nevKllLzvfe/j7rvv5qGHHmLt2pE1Toq5Q9RhWnY9ekP/OAjEQW+xRNn1eNma5TxysKNS+B6JsqjwPWHo3Nd+kN5iqebcUcdpwjBY3pjG0DSkDDpHg/9kJfolkHzsoV/yned24/o+p0Lkz7d180auPWt1pebs3vaD2J6L7fkcHcxjux6eHH16wkRwfR/H8ym7HjnHCQSYhMGyTdFxKLseJdclZ9mUXQ/X9zCE4HiuwLee3YXtuWTisZp7qmkCiaRg29hVdYIAzfE4cV3H8nwGy9aI9fSXy8T14G9NXQvEnE/QneszZPNST8zarkfBdpEEwnu832cYat5wfZ/VzY2saGrA0DRsz+dYNs+xbKHmPbVlWKezQqFQzAbmXKTutttu48477+S//uu/yGQyHD9+HICmpiaSSfVLeC5yMiuLxnj8lOaCVk8pWN7YgBCCrnyRkuNWLEAAFqWTbFjQzIBlTardRSQOD/RlcQAhLFzPrzw+UU03vNKikpKt2kt1ilYCRhghk0Ap9NUrux7fem43AyULQ9MYLDssakiyLJNGhMbGutBwJQyWLdrSQ7WpsXDU2eGBHANlm0w8Rs6ysT0fy3XRNY1NbS3gDBAzdEyh43hDEUNfBgK03tYHLAs3NIV266SlR/s+1+t2XZYJ7I+68yUsz+XoYA7b81mQjE/YHmUuo8yZFYrZxZwTdV/4whcAePnLX17z+Ne+9jXe/va3T/+CFFPOyawstu1oBwKRNFi2ajzPYro+6lzQ4VMKljc20BSPsbO7L7QbEZi6YO2CJjwkvpQUHZc7n3uBy1Ys5qzWltPa1z0795IiMAROGAaOH9TwVeTKBKtho8OH19dJgqhfTNPCGbBDj7u+P8JDL6ZrgagVQ//fmQssUJY3NmBogTlzENUcucgl6RT9xaD+7bnOE5XoqiYEralERTzaro+LJGHo6JqOlJKi41eOHY7rS5AghAjWMIzRvs/1rGGEECxvbKAtnaS/ZHGiWOLKNct492WblWhBmTMrFLOVOSfq5nDfh+Ik1Jt1CpA2TQbLNicKRdyqt4ep5WlLp1jSkKo7F7SeeXAxNArWhUACixvS9BSCRgrHl5W6rw/++BFuurD+nNZ6DI94rFvQxIN7D/P6WNAYkC3bYWhuaAMne6dXH60B6biJ7XqkYzHKrkvJCXzs4rpOwjSCCKDnVWrWBMGkC0PXcD0POzxZf5g2dTwfz3eIGzqaCKJabekkzfE4HSKP5ft1xdWAZZEMR6ClYwZxwyCmazTETI4M5vnV0eO8YnkDvpTYvo/leegCTF2v3Esp5YhzG5rAkz5xTavYu1RTdl3ytsPzXb1kYgcrUaVI5NUTijFdZ3FDCtvzWLegSQm6EGXOrFDMTuacqFMohtORzYeD7CFpGjWeZ525AgXbYXFDqu5c0OGp3axl4/o+SVOvpBU7cwU0EYzWEghKjovje6N+uFULuLRpciyb55GDHTURD8+X2I4NC2N44fQHDRBCA+kz0ao9Q9NY3JCiI1uo+cNHFwJdE9iuS7mq/i06wvZ9fCSyKuIWzanN+UEHbtn1iGkCH58D/VlaknGSpo7t+fhSUg5r8qIUa1CBCC3JeI1I6sjmgzq7cH3VaWFPQlIINi1ewKGBLP0lG1/Kygxe35fYrofvS4QhGChbNIeRWInkWLbAsWweX8JTHV0829lTiSpFAjA613D8sHayngF0xHxKQypzZoVi9qJEnWLO0lss8dC+I9yzcy8JIyh6dzy/MubL1DRKrkt/yWLr5rPqfgANT+0+caSTxw4dY01LI5oQ7OzurUyWgDBSLKApEUcXoubDbXjKyvN9eosWluuSjhlsXNhC0jTxfcm+voGwkSBWSZV6UkIkPMYZkdaFCCN2gTWIITRsz6t0kfpSUnK9mq5YQdCkEKWphRBIIRFhajNqQogbOmXXDYSbF7y+t1DiRKEEUtLWkGSwbHOwP1eTYg3MhGFty1Dbvu159BSKeL4k6oeVhNcL11lwXA70D9IQi3H+4oV0F0p0ZPNIKcmGjRyxcMTZ/r5B4npQv+f5PsfC9PCKxgZWNGVqokpbNq6pSbMPp79cpikeqyv652MacqxJJjB67aJCoZh6lKhTzDmqP2iP5QphQb/Al+C5Hq42VCdmahqmro3qmRYRpXYvW76Y/X2DFGwHP7QVSRhDthyO72MIjeZEHEPTaj7copRVwghmsfaVLEphx2nWcvjN8V5WNDWwLJPG9X2qy9GqU6n+OASdBrSlk6xuydBbtDg6mGOgbGHqgqwVRLSGzl17PkkQKdQEpEwTy/NwZHReGYqUKJo27N6H0TVNCLrzwWi1dNwkpgcND6YeiOuS43A8X6wIg8GyFcyZlRI96lqtatIg1LEDZZvfP/9s3n7pJgbLFk8e7eKh/Yd59tgJ2pqSLEwnOZ4r0p0vYHkehwey+DKo/VvWGNxb2/MYCGsrLdfloX1HeNX6ldwbdsYOn9Fbdj22bl5XV/DNxzTkWOnq6sfrzStWKBRTixJ1ijlH9QdtYzxG3nZI6DqO7+P5Ppl4jMZEHDNslujKFym64xvRUl1nV3TcMEU4lM71pWRpptZ/LWfbNSmrsutxPF/EDwWLoQVjuhzP41g2T3+xzIBlMdy1KBJL0esEgVhJGAYFx0EXGlrYSGFoGmsXNBHTdZY2GNiezxWrltJbKvGrI12VqFJkYTKcoCsWio5TUZNBBC8wJC67LmXXHbWuL6ZrWK6HRyBYBbX3VwJHB/MsTCeI6wauLwPbktC6BALxGolGQxPoAtIxkxVNGQxNozWV5LLli/mPp3di6gJPBobRbekkbekkg2WLzlyBvO1wTlsLDbEYx3IFuvMlXOlXFtJTKLN+QRNv2LSBn+w5VLeDul6363xNQ1Z3hZ9qulqhUEwNStQp5hTDP2ijSRCEs1ptggH26xYkiOn6KX0ARR/wdz73Ap4vKTkuiCC1uTSTqthhVJ87Slm1pZMcHsgHhrpQiRjqWtBF6vg+5bIVph6HrjnUqVpV2yYEmqaxqCFFV74QRqSCLtFyGI1alE7RXy6zIBmnLZ3kV0e7yMRNyq6LLgSO5+OMEvkTUEnTQhDVBCiF/nX1MDUNX0qssOGiev2GJhAEzQxSguV5HOzLcnbbgqDJoY6ZcvS140s0gnRyFAFyfZ9//sUz7OsbDMSFCBo4OkShYrFiez4F26XkemStwlD9o65XDI0LjsPjRzrZtLiVf/ydq+p2UNdjvqYhh3eFD2esdLVCoZha5laxh2LeE33QtoTGvU1hRM7xgsiMqWm40mcg7OA8lQ+gqM7uM699GUszaZqTMdY0Z9i0eEHFz274uSMhkrVsXDlU11fL0NivQPCNvHZ1SlbTBKYW2IC0pVNBt6jnVRx6S7bL/r4BuvJFljSk+Nm+IyRNnaRpomkaCdMkk4iTrEofa0JgaEHEz9S1mnqwyKi45HojRo7B0C+TIJo48vlIO+pCqzRA9JbKlF2XlGnWTStX3wIfcDyvIsC3bW/nscPHQssXnaRhkAgbIzpzBY6FAs6Xku58kY5sPoxu6jX3Xte0ijExUGMAPVaEbb6mIcdj+K3MmRWKmUFF6hRziuEftDE96FLtzBWwPQ9TD6SH4/qVD6DR6qVOxsaFLdx04dls27GnIoZsz6O/VCZrOfi+5E3nBw0YkRCJxKWoEk9RGkvWEUIQpl0Zes7QBI4fpCrbwlFbyxqD6GBPoUjRdnA8n45cHl0EViFPd/aQLdssb0wTC+9BZOhbrR4jKxMIonReldA6Wcdt1MwxmidyJASru299X3KgP1v3+HrnKbke61ubKhHZhKFTcLTKwSJsWrE9l6OD+WDkmZT0l6zKOSWEdZACx/cxNcGyxgZ6CqUJRdWi72nOsujOl8JzaSzOpGiIxeZ0GvJkht/KnFmhmBmUqFPMKerV+1QLnpLj4vmSrG3TEE+f9gdQ9Np72w+ys7uPgm3jhyO80jGDhw8cJR0zecW6lSRNg+O5Aq7nY+Fi6joxXQ/Hb/kjBF0UlYuaDCAQRJ4MUpEtyURlb47nE9ODOrPjYYSqLZ1iZVMDCcOo2IUczxdpSycr0cuYrteIJ09WC7mJeT4OF2wR1ZMr3DrPBynrBh47dIyCM1R7Vx0NjM5hahr7egeBQbKWzbLGBrKWXdlLZR9+ELU0tEDk+TIY6yaECFLHMoh0+lKyuCFNwgh+FU4kqnb+4lb6CiUODhOlx/MFmhMJFjUk52wa8mSG3wqFYmZQok4xp4jqfXoKxcq4KEMTleL5o4M5JIJ3XrqJV6xbcdofQNGHW8F2+O72dhakEjTG47Qk4xhCo79c5nvb23mqo4uBkkW2bOOF82N1z8MMRdVYUTAhIBOPYbsulufTEDO5cMlCOnIFesPJDCeKpaB71Pdx/KBDNWUaxMPUakzX0DUNIaCvaLEglaCnUML2vFOeVTtexpKIQgi6ciXWNjcRM3Rc3ycWRd0YSkMLAhuVlGnWCK+EYYyIxEoJthftSbC8KU3BcuipShWWXJd0zGRpJs2yxvQpRdX+8bGnyYcGzhpBGleGzR5RWvmPL79oTouc0Qy/FQrFzKBEnWJO0ZyMsyid5JGDxyqD3YUQGCJHOhYjZZq86fyzeOPmsybtmicKJR452EFbOjniA7w1laT9RB+PHDzG6uYGEs0Zjg7mcfwgcuT6bji5IVin4/loQpCJmxCKLSuMLPlSEjd0br74XN568bnc/fxevvnMLroLJYQIatV0oYEmiekanbkCni8rHbcy7CZ1hU/SNFiaSXN0MF8lgKaPKDqYNHWakzH29A2Q0HVy0kaEdXxmxfsvShVDzNBqhJcvZU0ktux6eL5fiWYuSMZZnmnASfkUHBfX90Ox77M0k2Zp2NTSVy6NK6oWmQzv7R3g4YMdGJogrulBp28UhRQCISW253PJsrZJu2cKhUJxMpSoU8wptm1vZ2/vIC3JGAXbDdJ9Eizfxy5ZnL+4ddLrfcbqgrRdj4LtIpHomsaSTIq2dJID/VkGw7ShL4PnTE0nE9MoOg6uL0mHUTZD0zAMnbiu86bzN/LuF50PwNUbVvPDXfsRAhKmiakJCrZDZ76IDK99aCBL3AgaAzw/GLsViEePhakUhwfq17OdLrUDzYYeg6G0qiGCMWtt6RRHB3NkQsuRUihmbc/DGubV150v8dC+w7zz0k0j5vJGNiYnimX6S2Viuk4mEaMzX8QIG0p6CoF3npSSgbJFNGnM9eWYtZXDTYZ7w8hoFKHLxM3KmDhNBPYrRcfjnp37+YurWivnmU+TJxQKxfSjRJ1izhAVz6diBiubMzUms2ZYP9VdKDFYtib1g3SsLsgTpRJlL4iS9ZcsmhJx4obBOW0LsD2PA32D9BTLLEgmWJJJUbRdeouBbUfJ8YkmSjTETN560blsPX9jRRg8caSTnmKJtS2NxHU98GArlHA9H9cbqtFzwpRtQtcp2DaOLzmeK9GVLwVWIQJimhZEDk9zdnKDaSIF+L6PGzYOBBMnamsGA887vRKBy1o2eeGQNg0c1617bklg7vzA3sM8crCDlkQC2w/Sx9HINtvzyVs2ri9BehwdzA/ZxoQnKbkuPtBXLDNQsjB1jStWLeWGTRsq97YzX6A7V2RxJsWShjRHB3P8+IWDFZPhgu2Qs5xKjV4g5qK5tITRRq8yJ3c+Tp5QKBTTjxJ1ijnD8IhZTNdZFH7YQ5CqmwrfsHrNGVJKjuUKHM3mccP0Zl+pTN52SJkGmXgMU9doTMToK1nYnsfe3oHKvFQpwQs1YlMyzjsu3cT1522oEQZZyyZbttnl9BPTgwifLobPhwiaH7KWTdI0iBk6mi/JxEyKbnB8Jh5DE0GUz/Xq+8+NFykgruug65Qcl2TMYHkmzY7u3soxhqaR0HV84HiuiOv6wX0xjEpDyJjXIOiCLeWD0V/9JYvDA7nKRIoIV0o81yNpGsR1jYLtYodRQEMEHa9JwwAh2deX5a8eeIyufJGj2TwF28WTPhDYxnhS0pyIs7ypBYGoePYRGkGXXA9NDK297Abvgab4kP3KfJs8oVAoph8l6hRzhpnyDatnxnosFxjdQiBCdBEU0xdth4Lt0FcqY+o6eljf1VcsY+pBtCwcwFWZ9OC4HpsXt/LRnz3BY4ePkTB0ljU2BHYetoMvffpKduB9p9ffuwSKjoupaaxsaiBnO4DA1LWKo4lW/6UTwnJdYqHg8aRPQtc4ni8yVG4WNK8UpUtM19EEdIbGyUXHwfFlpVFivHjh/Np6RPt2PA1nWEPIQLmMmQ7MovecGOCRg8dojJuUHA+JDJsnJG74sp5C0Ghx7qIFLM6kOJ4v1EzjkFWiPmrISMcM2k/0c+dzL2C5LparUXRcEoZOUyI+YvJEo6l+JSsUilNH/QZRzBlmanxR9eiw3mKJdMyszD01RDQgS2CHlhpBTVeQ8oxGbUmC1GE0ikvKIfu4nGXzxz/6OYNlG4mk4GgMlh0WpEJj5dD7xJMS13Hr1rMFKwj+a0snGbRsDC1wwLNdDxGa9J4uri/J2TaGpiEQZOJx9vUNVtYppUQI8Hwo+S6mJipCtp5h8WRRLegEEDd0fEmlmSSwopHkLAcfWbE/iUR3NJatr1jmyECeVc0ZGuPxSnoVhnz6IjIxk/vbD3F/+yE688VKVA9A1wRJQ2dRQ5olmRTHsgWePNrFq9Yun7Q9z1T9nqobVChmDiXqFHOGmRxfVG3GeqA/G4zh0gQxXaM5GWegZIEATYS2FxDUYhFEyCpaQIgaYQCBWOgtljE0QTpmggxESk+hRNIwKLt2KIpkdIqhyBhUxmFFDRMDJTsUvQKhQd6yKqJlMnB9ifQ9rli9jH39gxA2ibi+h0/VXgE7HP81FWJuuLiNBHM0Ozeu69iex/EwjSsAV/r4oaCL/jDQqr4nksCHbkkmVTGyrocmghRtd6GEEQpmXYjKXn0psVy/Es2FyYsgV9fv9ZfKlFwPX0oSus7mxa1cunwxTYn4pIstVTeoUMw8StQp5gzDI2YtyURN7dLpTI84GdVmrJ97/FkeOdjBonSKpkSMgZIVRICqjH2DiJWkMR5joGjhIkmYOhpaZdJDMkylVneNBhMgwjm2nofteTQl4vQVSww5swXUeKcJgS40fCRZ26ItlaSvVGaw6GDqWtCFO4n3oyFucuWa5ew60V+Z84oQaFXiKPrXr/r/yaTu+SLhG94lU9cCy5jw7spw6G51pLda7EZdxL3FMlnLqvjoSRm8B3QhiBk6nu8zYNnBfF0ZRGCjcwqCqKQnJQbQnS/QnExOWgR52/Z2vvubdkquQ8F2A/scz6cvrPN89NAx2tKpSRdbqm5QoZh5lKhTzClmenxRayrJS1Yu5dnOHlpTiUqUx9A14npgruv7Pq6UrGjKYGoaAyUbZCDk4lVzWL2waSGaxuD54Eu/0mVpahplz2NxMkbJcSi5HoLAkNeTfuCd5g+NJdNF0Anr+5JXrl/JD57fGwpIrTIj9VQxtCAyFUTkfAxdZ2dPX9B1jMSXIJBTll4dL5Godn0fxwrm5Eb3KGZoSC8wD64ZnRaqNglha2uQEo/m9EoJSdOoTKWAYKKFH45M0wSV+1sj7MJ/rTDtPp4I8slSm1EHeMl1yFpO4NMYXitaQ8lx8UMD7MkSW9F1k6Zesx5NEyPqBlUqVqGYOpSoU8wpZsP4ouFpYCPsQBBRhA2II1gYrkcTjEh/ShmMuYrwARF2sSYMg4RRPZQ+6GB1/DIa4HguUexJDp2QvO0QNwKvu8UNacqOgyaCebX1POXqPWZU1fBVP+6HUxxiDE1/AMJjg7PNtKCrvr5Vp8s3iGwKPK92pUHqFDRE0FErg0idG94HU9PCWbLV1xpKheuahhlan0TCLhCKge2LlHDuohZaU0mcqjFpMCTiBssWz3f1sqdvgJIzZPkyPNr2644u+kplCrZbmUdcCusstTAC6fo+3YUiyxrbAHtSxNZYXo0QjLSbis5zhUJRixJ1ijnJTI4vGp4GzsRjmJrAcgKx5UtJSyIOBCKvKRGnp1AKRmTJaD6pi19V3G9owQe05XqVD/W4roOEsuOQMk3OX9zKr452MWjZlaaIanniA7oI6vIeOXiUnO0SN4IO1Ki+L6I65UvV/5u6juPX+sgNNX8EXagxPRA5mxa18sSRzklpwJgMRmsgiZ4rh/Yn0bg1LbSHiYSYI4cic74c+t7Yvk/WskmbRuC9J2Ulipc0DFwpg+8VVCZPRDNyg2YSg6vWrKxZj+v73PXc7kpdXG8xKB/QhGBZJs2qlgzSpya1ec1Zq/n5gaN058P3kj5UP1idXA0aVWTFr3EyxNZMdZ4rFIpalKhTKKaA6jRwd76E4w3ZbmjAYNliR1cvugiii0saUvQWyxQcBw2B5XnEq2agxnSdhKGjhYKv7Lg4XjAdojEe53XnruOV61by/v/+OSCHpmlAJQWniUAsfOvZXRRsFyGCmrJq0RUJn+r6Oq3q63o+csNFm+352K7HVWuX88Nd++jMFU/vZp4muhDh3utLOjOciev5Es/3iesa5dAvUCO4J8ObV4YLRNeXZC0HQ/OCzl8RjH5rSyc5USzh+D4JwyCm6zi+j+N5SBnUHsZ1nZ5ikW072mkIxd89O/fy3R37KLmByXExFPK+lBwZzFFwHM5dtIDWVHD+bzyzi68/tZMTpXJllm/0fhNQGb0WjYrzGTLDhtMXWzPVea5QKGpRok6hmAKiNPAr16/k/9z7CEcHvYoQkAR1VFYokGKaYFFDigWpBGU3EGuaLzDDRgk9FAlSBvVypiYohF5nr1y/kvf/9sW0ppLc336QsudxdtsCdnb34ngSXROBWa6uBdEoz6PouBQcB1PTKsKwHlETgEbQPRulX71wE2M1VuRth0898muOZQtjHDVxNBGkesciilKKMCq5efEC9vUO0l0o1T2+xr/OhwuXLKQhbvJ8dx+e5zNo1QqeemsYimxKYrqgOZlkY2sz+/uzpEyTgVI5nOtLjUnyiWIZAfzzL54lYeg0mgbvXWjy1aeeRwpBwfHwom7ccE+e9GusVcqOy/F8MbBq0TU8f2SE1fH9GnHuSxmmaYNGmZRhjn1TT8JMdp4rFIohVH+5QjGF/HDXftpPDGCE1ibNidiISIbjS/pLZQCaEnE2LGimORlnTUsTACubGhAETREl18X2JbrQ+O3VS/nwK19S+RDtzBfI2w6HB3JYnk/C1EkYRphiFRXxpomgy7MhFguibNWTMKrWZYSC0IuaBMJol38SQQeB4e/P9h2h6DonOXJijCXool9m0VrXtTTSmkpgaDqZRDwUuGNbt3hSsqOrl6Z4nC9d/ypesW4lepj61kRwT6I11NRAVv2/40ted846Pn7NFbxh04YgdesHNZKlMP3KsNd6UlJwXPrC98Fg2aanaOH6PnqlJjMU+UKrWKsUbIfuQgkpJYYmSJjmiPq+yr1jaN2BT56B4/sUbJfOXH6Mu3JyopKDsuvRWyxVore+L+ktlii7Hls2rlFNEgrFFKMidQrFFNBbLPHQviPc+dxuPOmTNkwEQep0RCpPgOsH808bidEvLdKmyYJkAsizNNNAczpVmWOrIyi6Dq9ctwoj7Dbdtr2dH+zYG/jhEaRZ875TSdtGXnUQpHIBGmIGDXGTnkIxaPasWlaQ8tVwvCEbFkNoldTeyYgikkXn9MaOTYSomzRawIliCSE0FqYdevKFUdOvw7F9n3vbD7Kvf7AibA1NYHlUauXCS1QwQtG8IBnM9l3RlCFhGIFfna6xqCGF7br0lawJNYzYVeluGdZbwlBdXGeugBXOyo1sSZKmEXT31tlvFME0dR0vFPONiRiPHOzgqnUr2Nc7eMqmwTPdea5QKJSoUygmlWoD1mO5AgNlGxl2nsYqnmi1jQhSBpGTYP6qjR6Po2saA+UyJILjqufY9hZLLDATlVRWtT9YwtBw/GC0lZSSsuuGRfM6EokhNBalk5wolrE8j7ULmvB8ie0V8KVfibBIoOB4VanM0Jh32u7kqRMJymACBzzdUcabiJIiiJwdHcxhu34oZMVJ076GrrEglaBgOzxxpJPOXIEfPL+XouOQtx1sz59wB7BgqI4xsiWJTFGECNKq0bpMXa+8qiEWC6K6nlezbkFQY4gETYPFDWkWNyTZ3dPPB3/8SCUqCBM3DZ4NnecKxXxHiTqFYhKpFliN8RgDZSuocZJyRIdpNVHdW9n1sH2fS5a0cqh3AKDim1bPRHm4P5jrSzoGczV2Jo7vV+rGGkyDouOwMJVA1zT2nBhgsGyFH9qSsjsyNQhBanOiwmgmGN7tC6e+7oLtgohq0sY+iSsluudTsB2O50s8eugYjx06Rk+hdFpWLsNr43x/yMg4EHxexQ/P8Tx0TcMLZ9bqQiNtahQcFyklixtSZOJBo4KhaTQlYsR0nY5snpzlEDcMVjU3nbZp8Ex2nisU850pqakrlUp0dHSMePz555+fisvV8Mgjj3DdddexbNkyhBDcc889U35NhQJGGrDG9GDCQJTyGq2WK+pCFWFDgi8lV61ZyfXnrQegM5fnyGCOo7k8hqaxdfNZlVRW5A/WkgxCessa06RjsVGvlXdc9vVlObethd85ey1Zy8aTEsv1KLtDcbjhrx8ujCZrpNhsxtAEqVHq0+ph+T4d2QK6gLUtjaG4mhyiLlwYqsGzPJ+8FdQs+kDBcclaNgXHoeS4lNygIQYpMXWNVc0ZlmbSLM2kaUsnA89E16M7H6Tfq+s9I9PghKFzX/tBeov1m0ymmt5iifvbD7JtRzv3z+A6FIozhUmP1N1111184AMfYOHChfi+z7/927/x4he/GIC3ve1tPP3005N9yRoKhQIXXngh73znO/m93/u9Kb2WQlHNcAPWpkQ88ArzZcVeJKL6q5iuh80LgaBLmyYvWbWERtPg3sN7eeelm8l7Xt1U1nB/MMf1sT2flGlQrirKj4Rl1BSxp3eQhliMhakEpq5zdDBX0zU6vO5vOEOWwnOXwI9uYvLVk5JF6RSaEJX5p5Nxn0ZLe7thlG44AiCcMawR+OUV7GDCxGBYmxkYSfuBfY6uVexNqknHTA70Z/nc48/ykpVLJ31e7GioObIKxakxIVH3ne98hxtvvHHMYz7+8Y/z1FNPsXjxYp566iluueUW/vIv/5KbbrqpUqg9lWzZsoUtW7ZM+XUUiuEMF1gxXactneJYNg8+eFA7zZ6gwD5pGKFxr4tA8Ppz19VMF3j1hlWYZn3LiUwshuf7dOWLeFJStB0c3yOu6wjhBQPkZdD0YOo6uhDYvo8vfZ461gVAKfS8q6Rsp+Hn9EwQhI7vj7sxpJqS69JbLOOFBsWnuk+dkZ6B9ah3/ug1cV2nJRlHAJ25Avv7BgNBHv4R4fk+noSVTelKA01wTsmxbIGeQpGS4/HIwQ6e7eyZNlGl5sgqFKfGuETd8ePHufXWW2lubj6pqHMch8WLgwLuSy+9lEceeYQbbriBvXv3juqHNZNYloVlWZWvs9ksEOxj+MiemSJax2xZz3RyJu29QdcxkYhwGgHAykwKE8mJYgnL9XC8ociZHs5K9T0PT/qYCK5YvZS3XLCx5v032t5d36ejf5BsqUxfoRjMXfV88AMfNCPqlhSQiZlDVirSJ61rdBdKlF0XJJjT/KM5lqiLidp/zxSi5ebLZXLFEmb1g+Okeu966IenjSNyOhxNBFG2RekUzck4+3oHwfPC84twXQJXBALQkD561TU6c3l680V0IKVrLE0naE0mGSiXuWdHO/geb9w8ud2s0fu8K5vnwfYDZEwt7AAHwlFti5IJ+kolHmw/wCvXLh96/gznTPo9N5nM133DyL1P1j0Qchzhs49+9KM8+eST/OhHPzrpCV/xilfw2c9+lgsuuKDymG3b3HLLLWzbtg3Xdcd49eQihODuu+/m+uuvH/WYO+64g4985CMjHr/zzjtJpVJTuDqFQqFQKBQKKBaL3HTTTQwODtLY2HjK5xmXqBsYGOD9738/+Xye73//+2Mee/ToUUzTrETrqnnssce44oorTnmxE2U8oq5epG7lypWcOHHitG7sZOI4Dg8++CBXX331qGm4ucps37vr+9yzcy8P7j1MzrLJWQ5Zy8bQBEsaUizNNCCBgXIZy/W4/rz1vHHzRvpKZZ7u6Cbv2GRicS5e1jYi6lC9d6HrNddxfUlPoYQmYGkmDQS+bLbn47heJf2WMHSSpkEUG8vbThDNY/amP2MCPrQiw6eP5rBn6yKHMVnp5Mnce9I0iOs6RSewU1mYTrKxtaXyvOMHRsFduSJFx6UxEWNDazM5y+bQQA5dC0yqo/dxhC8lnbk877x0M6/esOr0FllF9H63V6/nezv2sbwxM+qxHdkcb7pgI9efu2HSrj+TzPbfc1PFfN03jNx7Nptl4cKFpy3qxpV+bW5u5j/+4z+49957ax6/9957ee9730sul+Piiy/mQx/6EK95zWv46Ec/yi9/+Ute+tKX8q53vYtFixYBTKugGy/xeJx4fGSBsGmas+5NNhvXNF3M1r3f9dxuvvf8fpKmzqLGDIsFHB3MczxXYP9ggZ6yTWMiTlM8xvWb11dqkRabJlvG+NCqxjRN7tq5r+Y6J4ol3EIZDTicK7I0k2ZDWyuDZYsTxRL9RStI2fkSXQb1UwXHCUZVEaTcTleEROepHj8FkydwbAnWNIk6UwgMXavMS50o4xlfNhbDs7QuArvKM/BU0GUw4s2Swb3sKVkk8wVakwl6CiWODuZx/CHvvHLJ5kRHTzAKzpckTYPFDSnaMmm86tIZIXAQ5D1vSn4mG+JJHAQOjDpH1kaQSSRn5e+E02G2/p6baubrvmFo75O1/wlVur72ta+t+frP/uzP+L3f+z2+973vcfHFF3P99dezdetWPvWpT7Fq1Sp+9KMfcfHFF9Pe3j4pi1UoZhPDLUwC7zDByqYMFy5tY3FDkqRp8raLzuUff+cqbrzwnFMqLu8tlkdcx/UlCIiHUwt6CkUA2tIpzmlbwOqWRnQtGE+Vt21K4UxZweQIOqiaIzrs8TMkuFbB1ARx08A+RUEHoYH0adQMV/sKAjUm0Ke+puB7H5kXO57PoYEczxzr4WB/Fif0vKtetS8ltheYUMuw0WO44vRDq5ZMLHYaqxudi5ctqsyRrYeaI6tQjM5pWZocOnSI97///axZs4ZXv/rVnHPOOfzhH/4h//AP/8D73/9+AD7wgQ/wf//v/2Xbtm2TsuCTkc/n2bt3b+XrAwcO8Oyzz7JgwQJWrZq8VIFCMdzCpJqYrrOmpYmObJ6GmHlaNhDPHOsecR0jdP73fB8poeR6HB7Isao5Q0zXWdqQxvY8FqdTHM8XGLRsrDHMj+czji8RpyHoIIxOTkLXcNVAh9P+XtmeX5kJ60aeeb6sRADHuoYELNenM1cAqHnvTYao6i2WKlMnopFkjWbwcdSaSrBl4xq27dhDb7FESzJR0/1abb6tUChqOS1Rt2bNGn71q1+xZs0aAN7ylrfwB3/wBzVp1ltvvZWrrrrqtBY5EX7961/zile8ovL1Bz/4QQBuueUWvv71r0/bOhRzn+EWJsOJHo+OO1XyTvB61/crHmNS+ni+T85xIbSn6CmUyNs2bekUcUNnQTLBp7ZcCcCn//fXPLj3MIamIeCU04wnQwus8GrEwplgX2KfgnVJNZM1Pi1K4UYRtFO5b4YQ4bgvEYpEgesHDWrOBISnKyV4Ht35Am3pJIbQ6C+XydsOFy1p46H9R8acEbunt58f7NhLf9miJRHnletX0p0v8fDBI+zq7geojCW787kYWzasJGpNU3NkFYpT47RE3Yc+9CHe9a53sXv3brZs2cKFF17Io48+yjnnDPkHFYtFCoXCaS90vLz85S+fFj88hSJKP/mhoe9wJitNlTJMBss2JwpFoilejudVBtRr4Ud/TA9GRB0ZzNEQM7ly9fLKB2/CMMJjBa6cLAkyEl1oI85/Jvw0nq7w1E/BdmQsJOFotgm+ztAEMV0nE4uRtW2QEsvzajKo411lYKkiKbk++/oGSZsmjhdEe58+1sUvjnRWzLJff+463n7pJgxNo+y6/NUDj/HY4c5K6teTkv/8zQvhz4lE0zTiusaihjRLGlIMlC3u2bmPmxqifag5sgrFqXBaou7tb387mUyGf/zHf+SjH/0ouq5zzjnncMkll3DJJZdw7rnn8tGPfpTLL798starUMwaLlu+uFL7U++DZrJqfzpzBQq2gxBBR6OUYLteRYiEo2ErosLzJQNli/891MGzx3sQCPpKJVxf4vlTZykkCMadGZqYskjgVHE6cswQAk0TeOMcMmsIMWLCSD0iaawzVAcZTR6p92pB8IdEOmHQEDMYtKxAVIVvkKSh4/rBxJGTIYCEYeCFI8YuW76YmK7xTEc3tu+Rs9xgDxJyls2Xn9zB7p4+PvmaK/mrBx7j5wc60DVBOmZgez6uE7zvXCnRBGRME8evTe8OFouAS1+pzOKwaFzNkVUoJsZpjwl7wxvewBve8Aby+TzPPfcczz77LM8++yzf+MY3eP755ymXyyxbtow3vOENXHDBBVxwwQXccMMNk7F2hWJGWZhOTkvtzy8OH6MlGSNrBd2r0Ye6LgQ+EimhNZkIrFNKVkXcBdYnPqamBcPpofK6elElwVCxvyYEqZhBwXKQYUo1eo0RHuNViQstPIEANE3DEOGECilJmUYwVP607sLsxZMSd5yCDhiXoIMhoRnJ4+D7A4auh8Is/H5oWmXOrCQQ9CXXwwkbHgQQr8wWHvcyMXUdz3WJ6TqXLlvEj3bvx/Y9slYwbiyh65XJFCXX5ZGDx/j0I7/mscOd6JogZZph44VXiWR7UuKH76WYrmN7Hj2FIm3pJM2JBJDn6Y7ucXeGKxSKWiZt9mtDQwNXXHFFTT2d53ns3r27IvQeffRR/vVf/1WJOsWcYTpqf3KWzfoFzRzPF+nOl7A8L5gTG3bb6poIZnpaNj4SXQgkYGo6ni/JWxaGJipRPRiZboxpGnFDJ2EYDJQtFqTibGhtwfV9+osW/eUyfcUyLckE61ubGChblB2Xjmy+IihE9GGtCVY1Zyg4DjnLYUEqiVcoTlr0ThOBkBlPxGk6mE6x6vgSxw/Gv1VP6IkZOgLCsWYiTMUH90gTInzPjP/+R7WXUXoVoK9UpmC7aELUjBQTQpA0g9my/737ALbn0xALPlpc38eXI/+QsFwPI6Zh6hpl12OwbLEklQQ5VEOqUCgmzqSJunrous6mTZvYtGkTb3nLW6byUgrFjDBdtT+6prG8sYG2dJLDAzl6CqXKPNey6zJYGXouKoJNCIEQwf97MhBulueja4K4CFJxkU9ZlGZb2pjmoqUL6coXa0Tq0kyaC5csZF9flpxlszC0VvF9SUeuAEjShsmSxjQtyXiYLha8afNGmhJxvvbU8xQcB9eXlBz39OrPZLDLmWrAGH7dmViHDxWF7nkSQrsaCFPxvg6hyJ7ovRZA0tBrZhEjoOx6uFKSqBJ0Q68J/rCwwz84NBFY91TXNw+3ToleB+D6svJYgzk1VikKxXxgSkWdQjFfmOran6gZI6brrGrKkLMcJLISTQEqHniSofo2x/Mqwk7TNPRwHqwUoGkCgyCCsqQhxS2XbOLVG1bSmkrSWyzx0L4jPN/di0CwafECrlyznIf2HeG+9oMcHcyRtWzyYa2fQFD2AluV3mKJFY0NbN18FlvP38hP9x4mZuisXdCE6/sc6MvSXSieXmOCJibeRTBJTLeAG69ZdFBzF2i9nGWfckeuoWmUPQ+B4GVrlvH2Szfx072HA+86XxLEgyUCgalrlTo/IQSaBo7rU3YdIDAxlmFNnxCiIkSjdKysvHcFA+UyJOCS5YtOceVnHhVrl3KJGNTUEyoUp4ISdQrFLCczrBkjZugsakjSmSuE0ZRhH5IC4npgShyk6IaeM3WdZZkUOcth0LLDCEtg6fHjF/bjS58bNm3ggT2HuK/9INkwAvhMZzc/3LWfLRvX8P+2XMnnH3+Oxw4fY1E6xbLGNJoQ9JfKZC0H35dctXYFN14YdMFXW79EabvTFUbLG9MMlmy6i6XTPNPsZyLizJdDwg5q3eWrGy1GmwCiC0ibBk2JOK+r6mi9eGkbnu8HnbRV9i9lN/Bk1AToBOLNAkqOV0kPS4I0bLU5sy6C96Pj+xhhl60VptOHj8ubbOp55E13R63r+2zb3l75GTORvDUDt//kUa7euLYyeUahmChK1CkUs5yrN6xi2879Nc0YS9IpCrZNf8nG1HUs10PXgpSrIQQJIxBP1bVRPhATGq4fzIA1NQ0pJLomWNvSSMF22LZjD091dLGvL0vS1Fne2FDT/LFtxx7ytsPBgSyLG1I1H4aLG9Isbgg+NB852MENmzbQmkrWWL+4vk/BcU7rfgQiQdKcjNFfLuOcznyu0yRl6Ni+X7GXmQ1UL0UIiOkGtheENasnV+ih+NO0IJQbVkYiBDWCDuCh/UeGRJqUGJpWadgpuy6GJkgYQadrOmaQt11EGEmOrhs1iCR1HV3TKDgOUgZ/tCQMgy0bVsLhIeP4yWa4kIq487kYWzaumVYhtW17O9/bvqfyM2YCyFywxh17ACp/FCkUE0GJOoVilnP9eRtA00c0YyxuSLN180Ya4jG++cxOIKi96ymUcMKuV02I0G8s+DBuScboK1o1H7Zt6RQJwyBhGHTlCzx2uJOVTQ01gk3TRCUt+8Nd+wFY1Vy/Q7ElmaAjm+fJo128ZuOaGusXz5eUndOzVZFAf6mMlEGUqCmu01uypj0tGgubT/xZJOiG48ug8zVu6JVu2LIb3H8ttFbRhUYqbiAQWK5L2fX44e79pGMmN154TmUc3tJMGl0I+oplXN9HhMbGwTQNsDyPBckEG1qb2d3TR2+xXDfKaPs+cUNncTrFeYtaefm6Fbx45RIaTYN7p1DUDRdSw/9YgekRUsPHCwKV0OqCZBK3FIwFvOas1cqTTzFhlKhTKGY542nGkFKybcce4rqG3pCipxBYqnjSRyJojJukYyYlx6XsuuiaIKYJFjekWdaYrrleYBhbf0pGSzLB8XwRXYhxT9Kotn7pKRTHbekxFgU7iA7Znj+t48+iWkUpJZ4E1/MmbZrEVCCBrGXTnIxj6hqlUFAHnbLBXdNF8D03NI2YrlP2PDzfrwiL6nF4jfEY+xhgoGxX6jw1Laidi+k661ub0ISgKRFnoGRVvtdREYAWdmZ7UnL9eet594vOr6zVOc0Ibj2iVGtnLs8Pnt9XK6So/WNluoTUWOMFYeQfRQrFRFCiTqE4QxirGaPaWqXkerQkY5Rcj7iucenyxdz2kgsxNI3PPf4sjxzsYFE6RVMiVmNNAUOpu9E6JrVQzAV+Y+OfpLH1/I0UbIcvPbl94huvQ6Iq8jRRQVcdpTwVBJBJxBgs2ad8jqj5AYZS5IYm0KdgGo4P9JWsUfcdWM0EDTVGGN2NGwZZy678EQGBCXZPoYjjByl7IakIONv10DSBLjRsz6MrX6zY61R71MUMPYgQ+j4/23+kkqKvpq9U5pkDHXVr3ioiLV+gO1dkcSbFkob0iLq44anWvO0wULJIGEH5wbLGdKXzFqZXSE3XeEHF/ESJOoViDjBea5WXrFzKs509tKYSdT9UooHy+igfOL4viRs6GmJCkzQMTWNppoGEoZ+Sv1wU5YnEpuN5aJqG8OqLs3q2IynToOi4VcLUZ6KZUwlYno9Xskc0HIx3H0nTwNQEOdslYegsSMZZ0ZTB1DT2neirHDfZjLbV6HEpqXxvcpZNyjQqwmqwbFNyHHRNI2HooZFx0OiQLVtoQiOlG/hSMli2whq+IUEnKxG7oGPW9X16CqUaEeWGDRi3/+RR+qyhqN2dz8W49qzVANzffpCj2TwF2w3/qIB0LMaKpgZeW1UXNzzVejxfJG85SETNFIuI6RRS0zVeUDE/UaJOoZhDnMxa5WSjzSBIL44mAXqKRTQE6xc0srO7H9f3aUunxjVJ4+GDRyg5bk2U6mRoIpgnGwuFgOfJULAFhfmO5+P7I882fPWGJliSSXGoP4crhzzRThVPysDKRU4s4icI6gAdz8PQNK5cvYy9fYPkLJuSE/kNmkMdzacgHE92/fGst6dQImkEXnfrWpoou8FEkOGmwzFdp+j7+NKnJRmnv1TG9eWIyRXVNjuCoCvbl7JGRN2zcy8pAnE3vObtq089j5Rg6sEIOlPXKuPWSo5Dd75YqYu7esPqETVrhhaMOzE1Dcf3K1Msov1Mp5CarvGCivmJ6plWKOYRUX1b2fXoLZYq4sb3Jb3FYD7sFauW4oZfR897nk/7iT4O9ufI2w4H+rM4vseRwTw7u/s4MpjjaC6PoWkVf7pqThRK7OruDyJjo0QBI6JnE4ZOTNcxdA2fQEREEcToX3OUbsVo5NmQoYtgsBQ4rEFtF+ipIAmbT07hdWXXxfF9FqYS/J8rL2Xr5rNwPJ/Dgzn8KIoZdjAnTbNu1C4QhxrGBEN6o6X86q2z6Hp8b0c733p2FwldrzEXhiD6Fo0AS5oG5y5cQNn1KDkO0R32fB/PD9Lk1Z52MoxSRSLqRKHEg3sPA0GzQLROTRNk4jEKthNOKHHRQzGphTWAQggGyxZ5y+bO517gR7v3k7VsWqqsUZrjcQwRCDpT13D8IKIYMZ1CarSfQYC+Uomy67Fl4xrVJKE4JVSkTqGYZ5xstNkNmzZw9/N7ua/9IAf6B8lZDiUnSHe1JOOc3daCLjR8X9JTLDJQstjY2sKrNqwadZLGrzu6Kh/uQgTzY71R6uEyieCD/vwlC+kt27h+YKERGBcPAkMjsoSoP1kiYRroQlB0AhNcX0oGLRtD03DC0VmnUo83GThe4NnWmozz490H2N3TR3ehGHy4VzRXKLalX3eN0Wg4Z4IbiGbBjvdlgyWLxw4fA4KpIt35EmVvyPXZEBpLMyk832fT4lbOXbSA/9q1n85ccURq2/E8ymHqWwBt6WRFRP26o4ucZUOdQNlg2QpFtMSTHg2hOa+UkrLrYXte8JxvIbH4RtgJvqIqvVrt7RjNT3Z9OWZ0eSr97Ib/DJpIyBD+UbR+UsYLKuYnStQpFPOM8dTf3bBpA784dIxdPX3Bh2D42r6SxQs9/ZzTtgAt7J41NI3j+cKYo9Fyth0YzWpa2JFLjddZJLASukZjLA4Es2vb0qnKOWzP42B/FqQM0mmEqeJhTZNBylYMTdgIz21oGumYQdn1sMI5tKc74mt4rV/1OUcbJxaN7tre3cf27mE1dJUaNCg5biXSWH0eQwSR1bI/8ZEaE91rf6lMOmaSsx1aUgnOWthE1rLJhTVvmbjJgkSC7mKJpkSc12xcQ0++yP6+Qbwq8aeFeyo6QaStJRnndecMiaixatlcP5yCEqrESNCXXS8wQw6PM3Wt0sBTsIO5xCuahmx3lmWCLu/ufBHPlwyULRzfHzGneTQ/u/94xuCsBc1sWtxKUyJ+WiJvxM9guQQH2vnEtS9lcWN9qyCFYjwoUadQzFPGqr/7qwce4/Ejx9E1QdLUKbs+AolE0lsss7unj/MWtQLj6xzMxGJ4MuiaNEVghjtcCGlCYOg6TQkTcOgrlcgkh2bM5iybhrhJtmxjeR7JMFoV1zXKYdqych5NhFMMhkRk3NAYGnbv4/pBirfkuFSbuEw4pTqsgEwISIQTPczwWnnbGfO8Q80Koc2IJsCTFXFYjTuN4UXblzjloMv3YP9gKJQDGxMI7FI6BvO0JBOsbErz5/c9ws/2HRnRPT18gsWbz99YE40aq5bN0KIxZGFSNxTpdijoIpsUCARfWzqF5ebozBVY1JCq1M0JIVje2IChCUqOxxs2b2BppmHEHyPDmyyEgKODeQ70DbLnxAD/e6iDpkR8UkyLo59Bx3G490D7lE/TUMx9lKhTKBQ1tPf089jhTnRNkDLNKrPa4IPLw6evZFGwHdIxc1ydg5ctX0zaNMlZNknTIKbruGE61vV9XC+IsJQdl+P5IsRN+ooWR3OloI4LaE7EuemCs9nd08f/HjoWpOuCyVS181Fl0KFqCGhNJchZDmXXwfF8So4XGOcSGDXbVVFIU9eCNK/nY9dpvqhHvdo8X4LlucQ0rTJaa7w6LDquekLFTFsb1+uOTQg9nCDhYfuB0H/n9x/E8vwR0cnoHBrBPU/HDFY2N9YIocuWL+Z78Rgw8j3UlIhXxJse1sVJOXTOqAsWwNQErakEnu9zZDDP0cEca1qaapouXF9y04Vn1zUarmcM3JHN05UvomsamiZxPElbKknBcdT0B8WsQzVKKBSKGu7euRfH8yujxiI/ryiKFBW7R9YQ4+kcXJhO8vpz1yEQlbRiTNcDWwwvSscKEqZBJhbUTPUUivSVyhQcl5Lj0p0vcvfOfYHAi4e2EIAXCqCErtEUj9GUiJOJmTQnkyxuSPHq9StZlmmorC9u6DQmYmTisWBUWrhGPyzgd8Yp6EbDDMdulT2f8gQE3WwnbCAFwHI9Sq4bdLoisTyPsjey/i/oiwkaXIJuWY2S49GZL9QctzCd5OoNq4CgWaC6gSdn2aRjJklDx9CCa1ueC2HEToZ+eJJgOkpM11neFBglQyDKTtbIExEZA0dNFrbn0VMoVuYWxzQdV/pkbZvWVJKEEUx62dPbz/3tB9m2o5372w/SOw9mEitmJypSp1AoaugPuwKjyJypa5TdoTqxqDUhEj/j7Rx8+6Wb2N3TxyMHj1FwnEo3ZWS868ugmP5otgCZdCUKFtcESdOsmNp25YssTCdYlklXRqL5vsT2fExdsralkd9evYwVTRkuW74IKeGP//t/ONE3WLHUsL0gnVwdB3N9iXsKdWrVaCKIRulCVlLCE7FwmSpOt3YQAnGWiZm4ftD1Gtd1LM/D98duvvDDGshgVF3wdXeuOOK468/bwAOH92JoWqWBJ4iqBlMfunMFirYb1M1FL5ISU9OCRoh0qjIdRfpBw83bLjqHhlhsVN/G4Qw3Bh4sWzi+HPoDJ3w8iqQ2J+Ls6unjgz9+JEiZh8zEPFmFApSoUygUw2hJBI0KvvTRhFaJUlhhl2H08W0IQW+xNKov3XAMTeOTr7mSrz/1PP+1az99pTKOF1hMBIIx6Ar1vVphZXk+muYR03VKrouU0F+y0ZD4sjbFl7cdnj1+gs5cgbddfC5NiTiGprG+pYnd3X3hwYEEiVJ4p8pwIaMLwcqmDKYuOJ4rVkSdqWlYpxn9O10mI1ooZShYNfBkkFYOEEG92xidtVE01ZU+moDFmdSIYyLx84lrX8qvj53gwb0H2d7VS9FxsVwvqMc0dFIiCBnmLAcELEglWNvSWOOhF/2h8Yp1KyfUzDDcGLjsBul6yw3+mIkadKJ/j+eL5CyHuGGwqrk2zatSs4qZQIk6hUJRww3nbeCeXfsoux4pM/igjSIVgX1EcJymiTCdta4mnTWWFYShabz7Redzw6YNlZFlC5LxMJVrBJ2ww0SdCK8rq4SY7dWPqAlAR9JXKvOd37xAwXZoSsR56lh30Awhg3TdZDC8dqw5EUPT4HiuRDGcsQqMuz5vthMZ/ZqhLQwEDR3VjSKj3dnocdvzSRoGi9IjRV1EYzzG/e0H+MXhTnwYSsV6Qaq+FF43mjnbWyyzujnoGC27LseyecquxxWrlo0498lsSiJj4L5iCcvzOZ4r4HqB114k4w0RpPlt16M7X0SI8Htf5a033fNkFYoIJeoUCkUNG9tauGLVUn5+oIOi45AwdDShEdc1fBl0jW5sbeYdl22uSWeNZgVRLxXVmkpWRpYFliCQMLSK1QhU23wEkR7PH70+LYoQScBHoBF4rH3xV9vxfZ/orJNV36ZVfEuC7tuoduzoYD4YHzYFM1xnAyXXo8zQ98jzJr7Psuty3wsHuOas1RiaNiS0yiViwJ/d+zCPHe0e8bpKhytB1DBtGpRCI+ed3X3EdZ28HVitpGMGzx3v4U9//DBbNq6p8V4c670ZGQP/25M7yNk2pqaFTRii0nUrBZwoljF1DcsL5is3hdHtaqZznqxCEaFEnUKhGMHHr7mCv3rgMR473EnBHoo6mbrGy9Ys5ePXXEHCqP31MdwK4mSpqCgq0l0IisorDRnh8xW5IIfq+cZiyAfOR/pB6myqpFUUrRRhY4WGoLdYrnu9uSLvqjuMI/PoiRL57j1x9Di3/+RRhIBd3f0AJDR4awae7OiudLaOdj+D7zNk4nGy5TKWG5hjp2MGq5szZOLxmvfeUx1d7OvL1rw3y47LsVyef//1DnZ19/H+Ky6mNZXkFetW8s1ndlF0BD5Bbanr+wgBScNAE4HXXco0kBIWNaRrUr+V+zWN82THYipNlBWzDyXqFArFCBKGwf977VXs6e3nBzv20l+2WJBMcMOm9ZzV2jLi+HpWEDB2KiqKinztqZ14nk9JOtieP+KX0niSl3LYF+40RcoEUdH8XJFuoxN9HwRBVHK4P1/03Mn8+IL0uc+Dew+jiyCNGtc1FiUTVEv3sb7vQTTUp+T4eDLyrgtE/J7eQdKmEXQ360Fk+LHDnaxsaqA1lURKSUc2T3e+hCuD1Or9ew6xp2+A152zjqZEnJihc/6ShfSXymTLNkXXxXYDCx5fguf7xHSdTDzGkjr1gTC982TrMZHIuWLuoESdQqGoS2+xxL7eQda1Np30L/zICmJ51WimakZLRW09fyMF2+GLv9pOKUy9jjbPdDyySRtFbEwVpq7jeN6Md7dONYGQCwSK5XnEDZ2c5QyZAsvR5+lG305diJoauej4tGni+D7HcnloGv80haBbeejORxY5RdelYDv0lsqYuo7v+zh+UI8JcCxXoDNXQBOChK5DaECdLVts27GHDQuakTKo1YuEH+H+BZCOBfN4b9i0gV8eOc5Ayar7czGd82TrMdHIuWJuMCdl+r/8y7+wZs0aEokEL37xi/nVr34100tSKM4YXN/nO8/t5k9//DBf/NVv+Pazu/nir37Dn/74Yb7z3O6aD9KI4VYQwzlZKqpaiI2VZh3rOY3Jse6YCOmYQdzQK79II5PcuUYgloP/F0KQNAziukbSNBCIygxeXQhMTat8nyr/DhN0EdF4OEPTRsyKPRle+D6M7rftRWPDRGW9sXAChi+D5hnb9TieC8aE+TKwwZEy3JNpkjB0dvX0MVC26MjmsX0Pwk7YuK6jaxpFJ7BVWb+gmS0b11B2PXqLtd56UVf4lo1rZiTVOTxyPryJI/LXU356c485J+q++93v8sEPfpC/+Zu/4emnn+bCCy/k2muvpbt7ZOGtQqEYSfQXvuv7LG9sYGVThuWZhiCds2MP27a3j3hNtRVEPUZLRW3b3s53t7ejCUHS0NGrBFFUfxUR0wSZeAxDC81sh1+DoLPVGCaqxlOLdypoAgbLNo4vK2OzYPR7cCbjheKr7LqY4fcBIYgbQQoyYegYmsaShhTnL2klpg3VR0oI05b174vr+6N2M4/FUG1daJfiB6nRKA7oS0nJDUyKAXKWzd6+AYqOg+P7lEMD5Zxl43geuggiyo7nkrMcLNfD8Xwsz6fkuORtp7KPsuuxvrWJredvZOvmsyreeuM1OZ5qhpsoD6clmSBr2Tx5tGuaV6aYauZc+vUf/uEfeM973sM73vEOAL74xS/y4x//mK9+9av8f//f/zfDq1MoZjenUhsHQ00P/aXyuFNR0bV0TUPXtSD6Y0hEmO6KGTo6Aicc22XqgXCI6UG6bDTp1BCPkbPscRXyCwK7FjdM0enAROSFJwNH3UiAzj05V4vrS1akU7SmEnTlCzheUFumCUHCMFjZnCGm6xi6juW7Jz2fJIjSRqPbxoMAUqZBwal//mrxGFmvQOB36BTLQBjVDVP1wSSRoLNXE4Ks5VQiiBpDKX1PSoqOiwY0JuLs6x3krNYWbrzwHK45a3WlGWE8JsdTzelGzhVnLnNK1Nm2zVNPPcXtt99eeUzTNF796lfz+OOP132NZVlYllX5OpvNAuA4Do7jTO2Cx0m0jtmynulE7X169/7k4WOULIulmQa0OqJoYSJOZy7Prw4d49XhWCeAppjBlg0ruWfnPgaLRZoTiaCGR0oGymU81+O689bTaBqV/UTXWhA3KFoWppAIITBF0EnYaBrkXI+kqZOzfTTpYwqJL8AXIwWUJoIGj6tWLyFtmtz1/N6T7tcABBJD01iUNOkrWeOKtEWzY33fn9R6upio/Xe2oQtIGxpxIViWTtKZK+C6PoYQLGlIEheCE7k8mpQkNU6aUhUEe/WlrNRSnmzvmhB4rktcDH0d2Y3UO78I1bZf9fpI1PgEB+iaIF+yKCbK+J5HUg8Nt8Ou2mjv0Tld1+HhfYe4avVSDE2j0TR41drlNdeeyM/tZP+sN+g6JhLh+3WFnS8lBpIGXZ/R363q9/vk3wMhp7OqeIo5duwYy5cv5xe/+AWXX3555fE///M/5+GHH+aXv/zliNfccccdfOQjHxnx+J133kkqNbpBpkKhUCgUCsVkUCwWuemmmxgcHKSxsfGUzzOnInWnwu23384HP/jBytfZbJaVK1dyzTXXnNaNnUwcx+HBBx/k6quvxjTNmV7OtKL2Pr17/+new3z1qR1BpG6Uv/CP5fK869LNNZG6avpKZZ7u6Cbv2GRicS5e1saCOrU91dfqyhc4ng8Gp6cMjT9ojfGlHotBx6U5EWfzolb29g2St22yZZu4YWBogVeaLyVLGlIszTTgS0lnLs87L93MpsULePtdD1QMaSM0IBUzSZkmMUPnz6+8lC8/uR3XD2qnDg/kwmliQVtnvUhcZOsR3ZPJIibgQysyfPpoDnsW/rmtCUFzMl5JXaYNk5evXc7aBc2UPIdMLM7xfIH/2rmPnkJpQrVyE9m7JoJuV7sqvTr8+yAI0qSaEBRsO0gVGzpxXafouOiaqBhrSykphNMyYrqO68tgFFrYkV39s+D5wXlWNjWQMAw+ce1L676/J8JU/KzftaOde3buI27oIyLnlutx/XnreePmman5i1C/34f2HmUJT5c5JeoWLlyIrut0ddUWf3Z1dbFkyZK6r4nH48TjI93ATdOcdW+y2bim6ULtfXr2/qJVy/jOjj2cKA/ZNNiex0DZwvUlZcehMR7nt1YvG3VNi02TLY0nt6aovlZbYwMOgp5CkZwTfJAOOi6+0Lhh80beevG53P38Xr757G4cAisNvGBk06KGFG2ZNJ4QIAQOgrznsfPEII2pJKsWNNOVL+L4PjFdY0lDmnTMxA/9yh4+1Emf5bC8sQFblnDDDz8hAeqb7MZ1DUPXw3o/L5yKMXkqzJZgzUJRh5TEXJ+GmIlpaBRcj3vaD3LpssW8cv1KXrRiMU8e7aLfcsi5Jxd09eoQx7N3ISFu6iBFOEJuZKrX1ASOBMfzsCVIoeFIwaJ0kkZJ8F5zfcAP0rdScM7CBZwolvGlT0e2ELwPCGpKBVHDBzTF4rSk03Rk8zxzvHfSJkZM5s/61gvPBS3ocj2cKwDBvW6Kx7h+8/pZ5VOnfr9P3v7nlKiLxWJceuml/OxnP+P6668HwPd9fvazn/G+971vZhenUJwBRIbA23bs4UShSNn16CmUcX0/mNQQ9AXwwJ5Dp/2hUH2tvmKZpZk0bekkuVIJ8GlOJLhh81m8+0XnA4GnlqFpfOnJ7TTGY8TC8UzVbv7VXbZREXgmHgu6NYcRRV/6y1bl66ZEnKShY7l+peNzuPDQhSBpGjiej1MRFLNRgY2PiTZ4DFo2g1VmtgL42f7D7OzppSWZoClmMlC2Rj/BKGuY0PECHOmTNANLGcfzcXyvJnIHUPY8TE2wLNPAiWIxMLfWNBalU7SlkwyGf6yUHJfGRIw/u/JS/s+9j9BbLAWzhgm7d8NGDhFGCNcuaJz1zQaGps3KJg7F1DKnRB3ABz/4QW655RYuu+wyfuu3fot/+qd/olAoVLphFQrF2EQ2DN94Zhc9hRJCEHY3Bh2xSdOYNPPS6Fr3tR+kI5sHwAglxlsvOjuINlTxinUr+dHu/bi+f9Iu28iuwQ99xoYTCcCWcG5nJMxSpknZtdA1gSFEaOUxNHJMEwLL84MPeiEQZ7Cgg0qW+ZSRBLN5LcfjuFtge6E0bpGoiZM3U1QT+QDGdA3H8xF4mJpG3NAxfIHr2fgEY8xWNGVIGAZNiRgxXafoOFiuRV/RQkpJSzJBazJJf7mM7QnOWtDM155+nsGyhQ+Ymobj+5UxdcF4NI0VTQ3EdH3GJ0aMl9ZUUs2enUfMOVH3+7//+/T09PDhD3+Y48ePc9FFF3H//fezePHMuHorFNPBZM53NDSNqzes5oe796MJSJomhqZVPhyj69WzNjmVaw2PJmQMA+uF7bxx88hIYHV0r7dYoiWZqHHKL7seWzevozWVHLfNyg2bNrCj6wR7e/sp2F5lgoDr+zgyED2GptGciFF2PRpiJqmYSVe+iKEFXmgTNc6dTUzW2ntL5QmnoCORNt7XaeH34so1y3ny6HEKjovlepU/PHRNIH1JyjSCrlgknu/T3p9lsGxjaILBskV/qYwmsqRjgccewK+OHqenUBoxYi6qnxQEfxy0pYP30kxPjFAo6jHnRB3A+973PpVuVcwLpmq+4687uig5LmtamupGuUYb+3WqVEcTHMfh3he2j3psveheVCu0dfO6yvPjFYAbF7awuCHFrp7+SvF80jDwfI+i4+FLyTltLfzDa1/Gz/Yd4b72gxzLFbBcD10TxDQdx/cntabuTKPaBHgieBLqm5HURwhBayrBWa3NPN/VS8F2Kz5zAknS0EkaQST1UH+2JjXemopz9sIFeFLSX7TI2ha5soMvfRKGTn/JrjszOPLSa4wZOBL6S2UMTav5A2Iymcw/0BTzjzkp6hSK+cJUzXeczealE6kVGo8APFEo0VUo0ZpKBCk6LyieB0iaOinTRAiBXnXdzz3+LI8c7GBROkUmbgYCYxQz3MlgrhobT3RPhqZxbtsC7ms/RHMyzvKmBnKWje359BZLFGyHBck4zck4PYVSOPM1mijhcjxfZFkmzeJMihY3znOlHspW0OVqnaRTN2e7GJrGiWKZFY0NNX9ATBZ37Wjnvr1HJvUPNMX8Qok6heIM5VSnP4yH6rFfY9WjzWQ90XhqhcYjAH/d0UXOstnQ2ozr+5Xi+SjlHI2AiqKSrakkL1m5lGc7e2hNJejMFXDCQvrxiJSkqWO7E4vszUVBdyqsbGqgp1Csec8nDAPb8+gpFNE1jf6Sja456JqGJsLxZFLieB7HQmG/vLGBAcsiaKKWiHHkoCXB9JFrz1rNuy/bXPkZq46qrW9tYl/v4ClH2e5+fh+GaUzqH2iK+YUSdQrFGUo033F5Y0Pd508nRXoqY79mM2MJwOqoZEzXaUvXNx2vjkpG96enUKSnUMTQtMqQ+Gp5oDFUZA9BAb/t+hPultWFoCUZJ6YJjuXn7xD2wbLNMbtAYyJG3NBpCP+o6C0G6XQNguYGoZEMJ0JAMP3DCz0Hu/Ml2tLJwIuOaG7s+OaCSAnvvmwzTYk433lud03Zw2DZpuy6JAydxngMIcS4o2y94fiyhKnTNMl/oCnmFyqWq1CcoUxlijSqRyu7Hr3FUkWE+L6kt1ii7HpsCaNWZzrVUcl61ItKRvdnoGRTdj1iemBaW/2tiCJ3kS0KBFEhOUr0k6rjxLDHdE1Qdj1OFC1iszgFN9XTzboLJQqOy/Fckec6e3i+q5ejgzmODOawPZ+y5yMB2/MpOg5umH4NvrcSDXClz0DZwtCGZs2N8u0YQSZu0ppKVsoeXN+vRNVKTjAztux66JrG8kxDUPO6Yw/btrePed5njnUD0Jyob2LckkyQtexKR7dCMRoqUqdQnKFMdYp0vA0JZzqnGpXcev5Gnuns5uf7O7A8H8nQ90EToipKJ7lwyUKe6+zBk0DYlVkPOexfXcDCVJK87VB0HHwZdmMy/pTsdNTjRXuN1jaZ83DrEZkN95bK9JXK6HXe/+Uq8+Mo1e1JiY7A9SULkwmiOzNeMbp2QdOIsofq1G8w5cKrRANHi7INT9seLxRZQNgJXOe6s90TTzF7UKJOoThDmeoU6XwxL52ITUo1hqbxynWr2NXdR9I08aTE1ASGptFbLOP4PobQEEJy9sIFHOjPUbRtJIH1huW6gcgbhcDuQwuEnBCIUJ5NRKBNdeQMgpTyuYsWcKAvi+W5GLpG2fGmREhWC9Tqf8dbn+h4PlIDHUHOtmmITKpl9RnrowHvvHTTiLKHwbKF40viuobtefi+jyslJ4ollmUaasogXr1hVd1udc2X3NIEnvRB6COuPRtqWBVnBrM3jq9QKMZkulKkUT3a1s0buXaO1vRsPX8jWzefVWmKODKY42guj6FpbN181qhRycuWL6YlmcDQBEsbUtiez8H+HP1li7zt0FsqMVC26czlaYybLG/KEDe0mpRsPaLpBa7vV6YzJAxj3CLNCA882XUmAyklL1uznFtfcgFt6RSO649L0NWLrp30WmM8Pp6zSYKau+5CASnhPS/azFVrVoxrvQtTCS5etmhE2YPj+bieH0ZTXcqej+P5HB3M0ZHNV1K7OdsekbZd2ZRheaYBUw8Oer6rl+5CccTM3DOthlUxc6hInUJxBjNfUqRTzalGJaujfHt6+xm0HHQhiGta4HkmBI3xGDu7+3F8j/MWtVbGU50olDlRDJoeomHrkdDRNQ3hS3xkZXi9LyXCJfRkG13gRIa+hHNLpzz1KgT/s/8on3/dK3jNxjV8+n////bePEqus77z/jx3qbWrWq1WqyW1ZK2WNwnbGGxsTPCKWQ7ETKxkIBA4YZghL8zBCWcynndCwEnmAOcwyUmAA8wQ7DcBsxgHD4PBIDA2YTGxZUtItixZsvat1Wvtdbfn/ePeqq7urm51t7rVrerf5xwdS9W37n2eul2ub/2W728Hvzh8gnTMJmlb+IHmTKEYWcWEKeW5GK02nb0WHI+qH87s/dgbXs0Lvf316OpE507YFg/v3k9HMqx7C7TGC4LIOiXsfq7dv0AptFaczBXIVxxcHfCj/Uc4nstjKsXytmTdHPlUochwqQxtCQqOS65/iIRlsbwtxYp0iqFqdc488YTWQ0SdIFzELJYU6YViJiOVtm3dTMFx+eqOF/CDAKJOS9tQdGfbWJVN01socWy4wNliie62NF3pFF6U3g10GO1SQCyabhAEQX3Sgxk1RoR1eorgHCnYWnNGNmZjmQa5qoPS4M6RObKvNQcGhvj7Xz7PX97+Om5Zv5oXzvRHhr5V8o6D32AZ0phyNpXCNo0wZTTFDtSJmM7u3CDglYFhPvfrnew500fSttjS3cneswP1LmYIX/O4ZeDrUMT9cP9h/uLWG8jEbA70D1JwPIqOW7++F93HUFhD1fcpl8ooYMeJM+hoz8MVh6WpBBXXY6BcJWGEYtAyDHzC5x0dyjNYrrCmPSNf0IQpI6JOEFoAme84f1iGwZr2DMtSSZK2SaAZN1atK53ibLHCULmKZRj1lK0ZjZ/ydWS7EQkbzcj4rMYmGNNQeJMV4hEKivZEnD++7irKrsc/7ngB1w8wIkuP2SYg7DZ9/OUj9GTTGIZBX6lM1fPHWbyMXWcmbmOoULRWo7Rm0rYwAk3Zm9wMeCzTrTVUCoqux08OHqO7LUXF81BK0Ra3ovrFEcqeR9yyyFUdXhkYrk8gqVGLtNbWoRg9L7jWwewGGk9rio5LIRKDAF50PY1mRaaNpG0xVHGwTYOP33YDl3Z2TOu1EBYvIuoEQRAmYSpjm/KOg2koutvSTc9hKEV7Isbmzg5OF4qcyBWi6JUK6/EySSqeT7mheL5W/O8FAXYkCFQk8BpnpjbKj5qIeNPGS/iDV12GZRiUHJfvvPAyRUfPesqzkarv8+VndpNNxEnbFqVzTNjQQNFxScdike3IiOSsTFPQzQSDMP1Z8XxyVafuIzdW0NUmUtimQdXzOZUv1ieQDFWqeNGyG9O/Y8WzBryGaGXjzy1j5IpBoCm5HpcsydKZSnIiV+Bg/7CIOmHKiKgTBEFownTm6k7VXua2jWt47eruukh85vhpdpzoZahSpez5pM3wfJZhoCLPtYrn4weahGWRjcfw/ErodxfV25nKwAtGmhOUgl8cPcXq3+4D4JmTvWhU07mms4kiTK0Ol6uk7Kl9tLiBJl91wkhW9FjVm5vO2UYaU6UQRhprRsUaPUrY1bqYs7EYvV6Zo0M5TuWLZOMjxseWofADHRocTxCdNKCpXUmgQRkjYr3keji+X4/yzqeNicyhvfgQUScIgtCE6czVna69TKA1zxw7w96zgzh+QL7qhgIuSr/GLYPOTJqK69FXqgCaTZ1Z8o5HvupgaI0TNR40RrgMQpHn+j7/+OwLaDSxyGpjLgnTmQodCZrCNObg1iKS9Y7dORafjdSutCQewzQMtNaUHHfU9AcNrMykKLgurufz66OnGCqH3c1aR0IuEuAjxjPjUVHzylgCres1hzHLxNGaoUqVZcnkvNmYTOcLjbCwEFEnCIIwhunO1Z2K193vXbWeH798hB/uP8yx4UIYoVJhGtVUKvS4i4RNRzLJqiVZNJr0cIETuSLHc0UgtNCYcPoFYZOFG01UcP0A2zTmXCg11pTNlEbfuel0slqGMeUxX400XuOq5Z1oNCdz4Rzfqh/Umx3aE3FipkFvoYTW4exeyzBImLWmFgcnGKmbC2CceDuXl17tJ0nbwnH9ehPNfNmYTOcLjbCwEKktCIIwhprBbM2+YizNxjady+sO4Nu7X6biebi+R9wySdt2PdqDMkhHUZnBchXH91EoVrdn6G5LcfPaVfzh1ZeRjtmjfNma+bPlHYcgSgdqwDbHG9rOJo0Jx+lKO9sIBW2N6dqwTJTyPheN13ADn4MDOdZ3ZFieThI3Q+FmKEW+6jJYrhIzTbrbkqzOZrAMI7QxUQrbNOtr9vXEgnuyPdU+iP1Ag4aK687bKL6xX2jqU1KiLzQJy+SH+w/TX1q8M4gXMhKpEwRBGMN05uo21h11JBN8/LYbONg/PMpeRmv4sx88FXXHajwNCctAEYoCxw/CaQQ6FF+1+aTL0ymCQGMYitetWclrerr5/57bO85st1EIKcDzA4LosSCyWZlLauPLZkLY7KHqwma6ojBosBGZSawwaZm83D9EeyJOZyrJigw4vh81QWgqrovWYRRuaSRylrclOZUv4vg+kR0hSoepbxQkLJOy652zjlERNmDUIntF18XHIBuP844r5sfGZOzEjLE0TsiQjvuFh4g6QRCEMUyl8SHQmt2n+vi/e18ZVXeUjY+vO3o8qk3qybZxplACws9xN/DrablAa1x/JI1Y65ZsTMM9c/wMhlJYKvKr06OFTG2ljRV0bqDxGuwz5gqlIGVaFL2p19MBoCFg6qqwdljjvjWQtCwCHdRNjiFMnwaT6CoDMAyDqh+MisrGTJPl6RQQ3pe9ZwcwAlX/XViVCbucewtlXO3X70PMUPRk21iZSfPimX4GomkgE+5FQcq2saPdxC2LOzes4aM3XTsnEbqpdnLD1L7QCAsPEXWCIAhjOFfjw9lSiVzF4V+PnCBlW6zKtpGwrAnrjho/KE2l8PwAZ0yXp4Z6ByaE80lr495q0wRq1im2ZWIbKvQ609Fs2KiubWz671zCZrZImCYJS1GcpqabbjWcqcLZubVGEaPeoBEK8Lhp4usgMhFufo6YaZC0LKq+j+v7xOL2pCLGaHhtjei17sm20ZVO0lcqc2yogK8D1rRnWJlJU3Acyp6HGdnOjJwLYKT+0EBR9Ud+D25Z18Nf3Pa6WW9CmItObplDuzCRmjpBEIQxTDRX1/cD9vcNcGgwR95xovmuVfb2DtbnfDarO2r8oAwtSsK5EGYk8kIT4pHRWUGgKXlhF+ZbN68jG4/z8J79vNI/jG0YWJFQS1gW9eGijAg6xYj/Wc3IeK4pez5DVY+YMXfXijQRSxJx7EiEBA2myisyaZYkY/WUqNVk37VxXjVjZ9swcIKJPfyCyE4mbdsMliujfhYzTVZl2uhIxjCVgaHg+HCevb0D4X1uuB8w0j9hqrDBY3lbip5sG0uTcQD+5HVXz0lX6UQzZ70g4OE9L/Pw7v31Yxu/0DRD5tAubCRSJwiC0IRmc3WHK1WKjkfKsqh4PsmYBTr0MjuVL+IFAUnbwvUDctUyTxw8xratm+sflGeLJQbKZWwzLLT3a3YkOhReVvR5fsPqbm7fvJ6TuQI/P3yiHl3xgoDBShUzihwZSpGwTBzfHzWKyzYMVmXT9JcqFByXoCEm2Cx9OVMMRsaSQSiWliRj9BabC4KpMrZGcFSKWSmyiTjrOrIcGswxXHHwgqDeQLI0maDseLhBEKaw9fi9V32flGGwMpOOIqZ6Ujuapck4v7Ouhx9EQn1sd3PKttnavYwXewfoLY58CaiNQdMNqXXbUCRtm6ofkLQs4qaBr01As3SCxpzzYS46uWUO7cJFRJ0gCEITxs7VPZUv8C8vHqQrnSTQcDxXCF3JVJjOKzgux4YLxEwDFaVYH3juRbwgYNvWzbxl8zoe2PEiFdcP03B6TOpRa5QKGyVu3XAJw5Uqj+07PM5WwvV9+ktVElYoBGrzRGszYdtsm2XpBAPlCl6g65YfY0VczFBowpq7mdK4fg04QXDegq52LjXmv9T+rkMZGbcsLu9ayplCkbLr83tbNrEy00auUuXru16iK53k+HCBs8UyMdOIxrCFaVo3CFiZSdGdTnM8X+Dq7mXs6e2fVMRs27qZdMweJfI10B6P8ftbN3PrhjX86WNPoVT4mg6WKxiMWNDU9uD6AX7gopQi5zi0xdO8/cqNcPTAeb9ujdTq554+doqT+SLrO7JNj2vW+NDsC01trzKHdmEjok4QBGESanN1H99/GFMputKpelq1Nn2g4vn1SIypFDHTpKw1Cl2vr9u2dTPPn+rlpweO1YVUTdyZUZ1WLXN5tlTiZ4dPNo2uhCOjBslVXTqScZxINCjCSF5HIs6ZYjmM4tkmirCBoOy4OPXrqjA/qcNdKCaeeHAuZtp12uw8jTQbuRUABJpT+RK+r0nYJl6geffVl9XrFx/eE6YSE5bFikyKwXIFr24/EtqUaM8DVD2V+OEbr+aJg8cmFTFjRX5jd3NnKsnj+w9T9jzWdbTj+QFD5SqVJqbPmjBlnInZfOj6V3HrhtVkbYsfzJKoG1s/l6s65CoOe91BlrclWZVJ18fNQfPGh3PtVVi4iKgTBEGYAo3NDu2JOLZRwPUDLCOcCWooVU9FukFAzDRY3Z4hX3Xq6a3X9qzgZwePYxoK06hZmhj1D1bth10Gx4fzE9pKKKXY1NnB0aEcN6/tYUNnO9l4nPUdWT7x019zaGAY0zDqY6Zqa9ZK1f3kwojXyPQGRdgFqoPgnI0LFiNCy4imMExmrDsVDEVdaJhNVGKj3YmhFI7vcyxXoCud5Peu2kR7Iqw5zMRiEGVcjw/n6SuVwzR3EE7gMBTELAsdaMquS6At3rp5Dc+fPItlGrz98g11rTuRiKmJ/LGM7Rp1J5jiUfsd0Vpz64bVAPzkwNH6f69fu+q8hNNY4+BEqUzRcQkISwSAUb9XkzU+TLRXYeEiok4QBGEKNDY7xEyTrnSKU/kiFc8LxQaRAW2gwYDutjQx0xyV3oJQvFimIm42+d9vFECpDbSfrCPTNAw2dLazbctIKuzSpUt4uW8Iw9Boreuju4rRdInaGuOWRcw0KLkunq/r0aOJWhysKIToBRovWqahQmEyUYPBdCJ4WodRSAhHZVUdvx41rNWlxUyD9ngcX2u8IMD1fdzA56evHKPcMJYsaVsMlsqUPI+4ZdEWs6l6NR9ATdn1sAxFJh5ndTbNU4eOk2+wfKlZ0ty+cc20mhZqvx8Vz+PIYG5ScWwoKHsen3nqGU4XSpSrVd6Tga/u2MM39rw841FczernahMxgqh5pLdQpiudrIt+aXxoLaT7VRAEYQqM7Qpclk6SicXwgjD96etQSNmmYmUmzaps6GU2Kr2lIB2z0JrIuDaUPVrrupEtQNyKRlBN0pHZLLpyVXcnmbiNgUHF9yl7HmXPww8CbMMgYVv16ymlsAxzlJBrFCKGChsubMNgSSIeGutGhNMTwvNMp7O2ZhI8llBUhlcvu/6oNLBlKLLxGB3JBEMVh8FKlbzjkq+6nC1WODlcYFU2Xe/o9IOAous1dJ4qknYo7mKmiakUmViMm9as4OBADl/rc3aEToVrV3ZR9Xx2n+6L5vU2xyAUsV6g+dXRU3hBwMpMGDlbeR7Xh+aTUGpfQILo99MLQmPrINB1y5z5mFwhzA0tJer+x//4H9x0002kUimWLFky38sRBKGFqHUFFhyX3546y86TvQxWKvVwlAbStsVVyzvpybZFo91HC7BMLEY2HmNFWyqsxYuEVyUaCdYdfbBe0bV0RrYS7Yk47Yk4VyzvYO2SDD3ZNjqTCWzTJB23sQ0Dxcgc0sbUb8IyMSMblLRtkY3HiVuhCCo4LrZp0J6IjRJltTQihCKw0c2kmRxVkZVH3DTHibtm/RoG4YizwXKFk7kiGk3CNImbZv38ecdlf98gZ4slPB3UfeVsw0Rr6q9x1fdRQEcyjlLw+MtHmo7CysRjVD2Pr+3cy3f27J/yOKwnXjlG1a/ZmDQX47UIay3Fq5QafX11fqO4JjIOXpVNszKTxjQUXhBwtlgeNcJOGh9ah5ZKvzqOw7Zt27jxxhv5x3/8x/lejiAILUQtIjdYqpCL0nWN81dr3md9pcqomqVGAaZ1KLy8IOCq7qX1UVS2EdbplatVwON31q/GQ03bVqIWTSw6bn0iwql8kYFKFYXC1wG2aWKoMFJoR7V3tYiejgY7hNMt/HrXZu04rTVxa0RQoUODXx0E4agvFSZdtdbjZI0B0Rp0PZ0L1J+jGv5tRmuodb/WhJJl2CilcDxvxNNPa/qLFfJVl5hpELfC/SlDsTKbwlSK/lKFouOiFRRdD8fzySkn3EtDmvpkvkhvoYwXBHhBwJf+bTff2/vKOdOhtbRnd1uKJYk4Rwdz+E2EXW3btQBs0mo+k3emo7gmMg5WhGbJnakEhwZz3Lx2FTdeskoaH1qQlhJ1999/PwAPPvjg/C5EEISW4+Hd+/nmb/fjBgEp20Qx0iTgR92VGugtlOhKJ7GU0VSA1TzAwGFZFKWpiTU/qqVbmkzMyFaimceYZYSCpeqHoq0nG3Y/9hbKlL1Q4MBIpEwTGgkroC1m4wVBOJ+UsAHENkyWpuKcLZZRRmjdUhtwr2uqEOpeeo12JIZS+EFA1Q9tXfww1BfOqR0T5YubBo4fRPVyqp46jEWzcuvnVbWmj7CecbjioDVYOryqF2hKrocZpZIBXC9MfR/PFchVHZalk5Rdj7O1rmHLpOKH9XUVz+OBHS/w/Mmz3LZxTdPRWo3zUuuNHMOFcfcnHCc28pqkYnb0uvqg4HShiI7S3TD9UVznmoRSdFxWZdL85xuvETHXorSUqBMEQZgLapGYQAcQjaJqtIVw/NDSxFShvcnBgWHSMbupAJtMrDX6lc3UVmLs+f0gnBEbBJpV2ba6pUVXOskrA8Oc9cIUX8IM06+O5+NGYqzouJiGARqcIIzcrcykWJVJYxkGvYUygQ6iQvywaULpEdsOGGmY8IGgJn61Jm2Hc2LHpl0DrTGVQdK28bVbr1VU9caMMIo2cvzIPfACVU8xhrdH01sIhVqtMaA2ii3QEPgBA6UwyucGAZZSpCOhpbWmUHUouT5V3+PJQ8fYe3aAjmR8XORubNqzLWZjRZHbxu2FUyxCwat1GKE9kSswVCzzpu44J/NFHA0nVAHbNEhZ9oT3uRliHCwselFXrVapVkeGLudyOQBc18V1534I9lSorWOhrOdCIntffHtfiPt+5uhJytUqbZZJXkF8zCgs2zKooOnJpBmqOrx6ZRdvWLeaa1d1sTSZQEczRmvcc+VGblvfw3Mneim4DplYnGtXdZGxTLYfPTBq71nb4vb1PaOud67XZuz5XzjTz+7T/aQtA0PrcJB9EFCpVokrsEyDtpqYsUwqnh+mOAF0gOO6xC2T5W2pqB4QLsmk6U7GOTyc54bVKwDN/r5BTuVLlBy3Pr3MUAYajR/oKE0dReV0gA2gwDQUViQCE4bC0ZrA90iZBjFTUai6BIDSAZ4XEGt4+ceNQqsJJzSO42LooG7U7AYBBD5xI5q/Gha2YRJ6Cio0ge+H83XRVBwH2zBIxsIJIvg+g8UyX3vuRUqVKn/06isBaDNNbDQqCGv6srZF0lR4QbieWpWdaSgSlkXCMik6LsVqOKEkEf0+ZW0LJ9CUPQ/XDTg9nJv2++Duy9dD4LP9wFF6c/nwJSGMOr79yg3cffn6BfPeWojv9QvF2L3P1mugdK3KdYFy33338ZnPfGbSY/bu3cvll19e//eDDz7Ivffey9DQ0DnP/8lPfrKetm3koYceIpVKTXu9giAIgiAI06FUKvHud7+b4eFhstnm0z+mwoIXdWfPnqW/v3/SYzZs2ECsobV/OqKuWaRuzZo19PX1ndcLO5u4rsv27du58847se3pheMvdmTvi2/vC3HfPzlwlK/u2MOydJJ9Z4fQ6FHmvlprKr7P0kScpakEn7rr5hnN8ZzrvQ+UK/Xo3Uu9g/ziyAnKnk/SGknaVDyPqleLKoatCoYC0wg7ZVe0pehuSzNUqVD1fO6+ciP3NHjlHegb4kPf+ymB1qQa9hCedyTdaqowVVqbxJEwFH/W08b/PJ7HIUyPpm2bbNxmsFLB9TWGEdbkjU3ZKhiVDkdr3nnVJjZ2tvOPO14kG7OxTRMv8DmZL5EwTZQKawcd1wNDoaOTKhWmT50g7LSt+j7VqIkkadvELZMgCCh5HksScd5zzeXcs2Uz//Tci3x910uUIh+8hGXh+D6O5xMQNoq0JxP0ZNPcuekS0rEYX3h6F67vYQD/uTvJ586U0UqxLJVkeVuK0/kif3zdFu7YdMm07m2bHePVPcvrv4NeEPDoiwfYfuAo+epInV4mHuPOTZdw95Wbpu2JNxssxPf6hWLs3nO5HMuWLTtvUbfg069dXV10dXXN2fnj8TjxeHzc47ZtL7hfsoW4pguF7H3x7X0h7fu1l6ziG3teZtjxWJJOcipfxNFh96hSiqoX1psFhsGdm9fTnc2c1/Xmau/dts1borU9vv8wTx09hRP4GEHYARpoTd4dMT4OZ8dCyrKo+j6uF1AaKlD0A5YmE9y9ZeO4rtAj+SKGaVF1XQqeHw20h7zrRxYo4bkDpUjYNr7yqbhevTiuqqFSq5NzXIZdD7SuNxV4Abh6pKbOUqGZcqCpe7EFStGWTHDLxnV8b9+RcHxaKsnR4TwlP8DVYUeoBkzbpiu6pxCZkZgWju9CoMm7UVewgphSOBpQBr4y8JXiBy8fpegF/OTQCYZdLzSfDjQFz8E0FHHLIhOzMRTETYv/dtvruLSzg4f37Cces8mYCSqR0OpqS5NNjRgDuygKvj/p78LYsWA1sg0mxo++eJBvv/AKSdtkeTYzqs7u4RdfAcOsj1mbDxbSe/1CU9v7bO1/wYu66XD06FEGBgY4evQovu+zc+dOADZt2kRb2/hxO4IgCFOhsQA9bhqsaEtxthgWnvs6QGtYnk7yrldddtF4fr2mp5uuVJJC1YnGmplhByuRPUv0d19rqn4AKEwjFE7L0yk+fdfrWd6WHnfevOPQnojRkYxztlgKX6PIDqY2j9bzA2olbQnLwjYMvKiBQSkwI1G3rC1J0fHqFiPpWAxDKXJVp253ognFaG0Gbq2+7vH9R1iaTHDXpWv5zp6X2d83wFDFwfMD/Kh7NvStS7A66lo9mSvULVc8P6Dieg32LVByXWKmSTzqBs7G4xzPFfjW7v3ETAPLMGiLhd25tWaOZekka5dkCbTmRK7Awf5h1ne0s/tUH6fzJVS9RjNJb7FEVYe+cjpgwvFdjYwdCzZKsO15mYLj8q+HTzSdI9yZStJfKtfH2EkDxcVPS5kP/+Vf/iXXXnstn/jEJygUClx77bVce+21PPvss/O9NEEQLnK2bd3Mti2XYkfGtx3JGG1xm+XpJG+9bB0P3PMm3nX15fOSxpoJy9JJ3nHFBlK2jeOHHZ5BJET8hhmwlmGQtCxStk3atjGU4shQjp8ePNb0vDURsjKT5srlnaxbkgln5ZoGmXiMuGliGAqrnnrV0XzW8IpaR5MtVGhR4vkBCqj6PgOlcr17tTadwteachQpDbtcDdK2RdI2I+sY2Li0ncGyE0bRqDVWhA0iZc/jZL7Iqmya9kQcyzAoOl5d4ELNNFiFZsaeT9H1sJRBOmZRdEK7lKQdeugZyiBhWbTFYsRMk4FSFcf3R00WeXj3fp4/dTZKa6t6+jvQoa/gyVxxSuO7xo4FazRRrpkYf2/vKwyWq6OmTDTSkUyQqzr1MXbCxU1LReoefPBB8agTBGFOmKnFSCP9pXL9uZlYrKnn2Www1ets27qZQGu+tvMl+kuVusFyTTDZ9a7YkXo10zDqEw+aRXfGeqV1RSbIhagj1vVHe90VHRfHD4hHl1CR8ZxpGAxXw8haI4ZhkIisY2qiyzJCmxkIBdvyqO6vv1Tm+y8dAgXrOjIEGk7ni1Hdm0HSNvECTW+hhGWEdia3rV/Njw4cJW7WvPdGjJNrxsqer1mZiVOshibI2bhdF1QaXZ8mYhvhuLahSpVlyWS4Xh3azWTiNrbZFqbyfR8Ix5hVA4+TuQLL21K861WXTfr70eiP14yOZILThRKmUoydMlF/PRvH2AkXPS0l6gRBEOaazlRyWi7/MHHd00O7YjMe3j4b17EMgz+85grevHkdTxw8xo6TZ3j62Omw8cPziZsmVS+oCxVN6K22KtvG2WK56cSDZl5p7Yk4lspTdj0MpUKvu2waheLocL5u+RGisc0wOph3nHFzGSquR9wKR4VVI5sYhSIALGWwvC3JqkyYFu5IJtjXNwgaMnGbvlI4LcJQCjeymTGUQilF2fW5bNkS/vXISXJVJxx7hsJD42mNESVslVIoFU6DGK5WMRT1KJhtFHD9oF4TV2ve8KJ0aHs8jGLWhFhNZg0VQ6/ActRIEmi4ZkXXOVP5E40Fq1EbmeZHHoLNjptojrBwcSKiThAEYY45V90TMCuF6jO9TmcqGaaXt27mG7te4n8/s7tuqFxLWNaGRXQkE/Wo2ETRnWYGy3bUfJBN2PXZt3HLwFRhXMtoGKLraV2vm6tR86ODMBVrKaP+WDZhszydoj0RH9WVbETNHxXXo+i6UU2fFYpAHUT1fuHos41L2zk4kMPTQRTFs+oGxK4ORW3CMrFNk7LrcrpQwg80tmkSaE3CsuhKp+qRN9s0qKnViuuitcW2LRvqQc+awOrJtrEynQBKoRg1DIqOy9aVy84p9CcaC1YjiPZmoCacMjGVNK9w8SCiThAEYQ4ZW/dUo1mhetae+f+Sp3Odc02keOylQ/SXq1F/KFGtWJgSLXseJ4YLaDVxdKdZqjpt25zMFfj54ROcjDpNc1UHHZkF14QiSmFo8Macsy7wIqHmNHTAFqouSxJBfQxYjSDQ0Yi0gLhpjBF8BinboOp5OL7P/r5BliTjxCyDoYqDHwT4Oowaaj8gIBwJ5zguXhDga5e2mE3J9dh9uo9V2TZWRhHCxgYRUKRsmyu6lmIoxSv9w6MaRwBswwQNK9rSuDq0WplK5OxcY8EGKxU6kwl+Z10PP9h/+JxTJi5UeYAwd4ioEwRBmEOmUvdUG94+dnLEXF3nzZvXTfgBPlSu4qOjKQxhJ6xSCivyqXN8n1OFIus72s8Z3WmWqn7nVZvq133xTD/ff+kQtmmQaBC0/iT2qUHDz2yl8KLUYs2SpHH/g5UKScui4LiNZYGjzuUFAZ4f0FcqY5nhfFg/0OQ9h5EnhZFKItsUy1Bs6e4kE49zfCjP8XyBY8N5tNasbs/QmUpwMleg4vmszKTxtea3Z/r47Zk+/EDTV6pQdj06U0k8rUkYQHJkzVONnE11LNi2rZtJx+wJ5wi/86pNfGPXS3NeHiDMPSLqBEEQ5pCp1D01HjfX1xmuVCf9AG9PxCm7HqsyaU4XSiilsE0jrKmLfOC8QHNp55IpRXH6S2WeOHiMF3pDE/kt3Z3cumENnakkD+v9PLbv8CjBFbdMKs7oOJ2KHnciU2Slwvo+w1DEMDBUKLZ6CyW60kksZdRFzZbuZTxz4nQ4+syveQtC2fWo+n7dyLjqBxwdGhmrFV43bBoxVFhbV/F9TKW4ZEmWTORv2tPehjJCO5QTuSJeoOvR0eXpJAf6h0nFrHo63PcDBssVzpYqDJSrxEyTmAEkkxzoH8S2bX5/6+YpR8gmmyVcE3TnavL5xq6X6mn7rnSSXNXB9QL6S2W+8dt9wOyUB9Sof6GolIkRGid3L1KfutlGRJ0gCMIcMpW6p9koVJ/qdV4408/uM/0T1t1tWroEiMSKUvVUYg3bUGStGFd1d467RmP0L23bHB/O890XD9JfqtSNgf/v3lf43K928ob1PazvaCcdzVWtdYAmLItqoOvdrQpGokQKTGWEBsORz93q9rDhordQpOL5HBwYJh2z66KmPRFnX98ASxIq9Bb0fbwGH7lGxsYHaw0cjdFBU8Gy1Ig9iFKKnmwbnakEhwZzXNeznBsvWcX6jix/87PfkIpZowTa6WKp7oXnBxpdiwICQxWH13Uvm5bXoWUYvOnStViGURfOW7uXccuG1eOEYbPIaS1tn7AMKp7P0aECXkNqG635p+f3cvvGNU19CafD2EYeG817MvDffvQL7ty8XiKCs4CIOkEQhDlkKnVPs1GoPpXrpCyLlweGJq2723t2AAj94nqybXSlkwxXqtF0CYNM3Ka3WKY9MTKJp1nX7XDFIVepEqCJm7XUbZgqHao6/GDfYbLxGApNdzpJrhyOayx7oeGvUgpbKQxD0R6PM1ytojX4ka2IUoqVmTQ9mVB8dqWTHBwY5jU93dy6YU09CtVXLPPPz+8lV63SmU5Qdl2GylVipoEXjJggT2VepgmYpkmu6tBljf74DL3pbK7q7uSuS9fyePRaNKaDHc/nTKFEoMMxcy4BSxJxlsZtIOCSJW30FssMV6pTitTVXvfvvfQKZ4vluqDf1zeI4/tTEkm1tL0CThdKYTOJaYbRUK1xAp+zxTKf//Uu/urOm6bwKk3M2EYeG0Dnw33MYsPQYkYksSAIwhxSq3uqeD79pXI96hMEmv5SmYrn85bN6867IH0q17m0cwll15vUiFZH8mawXAEgZpp0pVOszKTpSicpOu44EVr7sPaCgJ5sG91tKaqeh6/DKJTr16ZSRDNfo2aHkutScD3KnscVyzsAWJVJs74jy5r2NlBhpG5tR4Y17RmsyLTYNg3WtLexdkm2bhsSmgHb3LJ+Na/pWc4zx8/wrd/u4x9+9TwDpQpnCmVO5goMlqvh9IlA49dCgTQtuRuFqULblCAI8MYOn2V8xHVsOrzqe+w920/Rcal4PmU3nJQxVKnW79WyVGpaRsDf+u0+/vezezg0MEy+6lByPfJVh0MDw3zl2T18K0qdTkbecfCCgLPFSmTebNZfU6UUcdNCKXj2ZC/9pfKU1tWMiYySAZYmk3Xvw7HX6C+VeXz/YR7es5/Hm/xcGI1E6gRBEOaYqdQ9XYjrGErx2zN9k9bdWYbB5mVLONA/fM5uSWjedTtcqeIGQd1I2IsiSLXrRja+aMK5soNlh8FEBVIjHaCKMplYjIRlcrZYxg80hgrr51Zl2+pedDUGKxWysTDl+9Cul8hVHXIVh1zVwTIU2Xg4OaMczaB1IyFlKgNPB6MsU5oRMxVVT0cRy/Gv39iIa03c+UHA6UKJ48OFuq9e7b4AaK05XShBW3Ja9ZV9xTJf3/kS+apDzDRH1T26QUCu6vD1nS/x5nN8YcjEYlQ8Hy8I6s0xjejo3jm+39SXcKpMt5HnQnk7thoi6gRBEOaY2ZhGMRvXeXz/YeDcdXdvXLeGa1cun5IIbfZh7QUjdWJ1tA4Hu9YJx251phIMVhwqbhjJO5HL46Boj8f44Gu3cNvGNTx/8ix5x2H36T52njpLwjLr9XaNYnNDR5bH9h2uF/z3l8rETCM0F/Z8utJJXD8IRaIOoiYJTaQ9J8ULwsiVil6/2ms4kditpcMPDgwxXHFwA39C4VgbX3YqX8ALginVV/7slWP0lSrYxmirFhVF27QOu2x/9sox7tky8ZeG1/R0EzcNhnWAUuMlQTgXeMQMeqZMt2HoQnk7thoi6gRBEC4QM5lGMZvXmWp93+suWUFnKjklEdrsw9oywqkLUXFcE0EHoZhSxCyT9kSMd1y+Hk68wu+/ajPZZGrUtd68OYzKvfPKTfXozVix+ZbNa/h5w+D6s8USbhBasyjCSNNAqcKSRDyasBCuwm2SSm2ktg03CLAMVfebO5fYXZZO8oZ1PfzvZ/bU06umocalbqt+UM/9HhnK4SuD/WcHuGPTJViGMaH1zAu9/WFtntX8YzxmmThVlz1n+rlny8T7W5ZOct2qbn6w/zBVzyMWvV61iF+gNV3p1Hk380ynYWi2PBcXIyLqBEEQFglT9TWrfVBORYQ2+7CuTXbwAnckAtYg7GoiJ2aaZOIxyl6Z7nQKB7j7ik3YE9hbTBaJfOb4GfINEcOaeGqcw1pwXM4US9iGwg1Gd7VOROMRmViM//nW38EyjClFXHuybaRjNkXHwQtgfL/taAIdevR9bdc+Dg/lua5nOT96+UjT9GN97Q11gRMu/Bz8P6+7mmdPnGGgXBnX6dzdliZumdiGcV7NPNNpGHrm+PRStcIIIuoEQRAWEbNd39fswzpmmnS3pTg6lMet2WNEwqOWurQMg+62VL3x4tU9y3l6/9Su2Uxsjo0Y1ureRubWhvVtthk2VJRdj2pkmzIV/WMAr1m9nO7I1mMqYqLourQnYnSmEhwZyoWdtro2eK3JNZQiG7Mpez5PHTrOjpNn6Mm2TWA90x7WugU+cXP8R7nj+yiluGr5eOuZsazIpHnvtVfwjd/uww8C4pYVCW673tjxjgaxPxGTTaRo9oWiljQeKJepeEH9C8WF8nZsRUTUCYIgLCJmu75voujfikiw9RXL9XRnEDUkxE2TldkwAlSLDi6doCN3qoyNGLYn4thGAdcPQvsQPxRwYXG9wjQMkrYKR34FYTPHRBgAChIN4mkqI7Vqa+pIxjmVNylF82dh4qkZOpoxO+z5lFyPuGXSXyrXGzRCKxmHY7kCSxJxBisVFDVT5ZG0qRsELEsluW3jmim9fo1iP1d1qHhhV/JUxP5UmxrGfqGw0ZAJ78m2LRvrP79Q3o6tiIg6QRCERchs1vdNFP3rbkuxbculpG2bH+w/xPFcAaUUadtGE6ZE3xEJBt3QGTodXu4f5F/2HOB0oUiu4mCoAj3ZTN2K5VS+iOP7uJHZsGUYOL5PoDVtMZu845KwDAqOg6/DgKKq1wGG/7Ejn72Dg8P0For89OCxKXVl1qKYRcclbYdRL6UmjwzWTJHDyKJmb+/AqHpE2yiwLJUk0HD9mm5+deQUJdcNmy3qnRiaTCzGe665fMpC/XzE/lSbGsZdo1KGQ/v51F03053N1M93obwdWxERdYIgCMJ5MRVB8K5rLh8V3Rr7c3eaoq7iefzFj3/JL4+ewo088HytGShX6C2U2bqik1XZNIHWnM4X8YNw5JfjB1iGwcpMCoC842IaBoZh4Dd46dWElBd1yfZk05Rdj8//etekEzlgpCuzMYppqNp5R7pdazRGo7TWddHnR6nqlG2Nal44XSiRtCy2di/jquWdfG/vK5wtjZgPd6WSvOOKUCxPJaLYSDOxP9k5ZtLUULuG67r84ND+cVHa6dZ+CiOIqBMEQRBmhXNF/2YzOvgXP/4lTx46gWko0jELQxkEQUDBdck7Ls+f7GNFJuzaXL+0nTXZNvac6UMpxer2MJLXWywBYa2drjdWgK8DamEvBSxNJuhpb+PwYI5nT/ayJBGbsoCpRTEf2rUPpRSmEVb41SKHBqNFnVIKLxKX4Yg0s97sUbMrqXoeBcfFNBR/sOWypmK6PRE/b5+3qaRVp+s/N1UulLdjqyGiThAEQbio2H92kF8ePYVpKFINnbKGYZCNxyk6Dr4OuHPTJWzq7Bg1uP7hPS+Trzp0JBO0x2MEgSbnOiNmwNTElMLAwDIN1i/NogPqnaGTTeQYK2BqUczrerq597EnKTouCcvC8XwGK9Vx59BRdA7CYKFtNhFeqnZs+N9mYvkbu146b5+3qaRVrWh9s93UcCG8HacbxbwYEFEnCIIgXFR898UDuH5AOtb8IyxpWxQdj0LV5a5L19YfHxv9yVWcetrXNhSNWVE3StP2tKWImWGzQtw0wlTtNAWMFwTsOHEGraHoeJRcDwUYCnw9UkcXTt2ApG3iOwGmChs5GpsgavWBlmHwQm8/t5XK44TIbPi8nescZwpFHtq1j6u6l1JwXCqeR6KJZ975NjXMhbdjK0+rEFEnCIIgLGjGRlTORGlTQzX/4K09PjYS1hj9eeLgMR587gUSVgrLNBkoVSl77qh6N0MpOlOJ+uzc61Z189szfdPuyqxFvJYkamPPKnhBgKH0aH+/ZBzTtMJIYdTB21eqUomEp+cHUQdxaGXyiyMneWVgeJwQaZYSdXyfoUoVL9CYSpGvViZNiU6UVtVoTuaK9BaKVLyAouNQcDx2n+4Lx7dl0/V0cXgPFl5TQytPqxBRJwiCIMwLjWKtzRw/d3SiiEqu4kRNBEFTYRdEka+ORLzpdTtTSTLxGLY58qG+MuMzWK7QX6pQdNx69+mhwRyrMmm2bdnArRvW8OeP/+u0ujKbRbyWt6XqAqviurTbFhDwx9ddSTaZYn1Hlr/52W/wgoCrMmmGKlX6imVygUPctFAKDAzWL8kyXK3ywI4Xef5UL7dtuITXru4e5fNW9TwOD+YYrjp1AakiEfPEK0frkyvG0ngOx/cZjtYbztOtYhoGlmHQkUrSHg84ni9wbDiP1prV7ZkF29TQ6tMqRNQJgiAIF5RmYs1G854MfGfPfrZdfQWWYUwYUVEUGChXKDgu2fh44VbxfWzT4N9t2TThGsYa3IaGyWm629L1qNbZYpk3rFvFR153Tf0Dfrpdmc0iXjHTZHk67L4NtKY3lwdGT9OoXQccsvEYJ3OFeho20JquTIL+coWzxRIVz+fJV06wt3eAjmSCdUuyBIHm+HCeE7kCjj8yy8I0FJZhoLVm58k+Ht69v2lUKhOLoTUcH87TVyrjBjpM/3o+KIgDKIVlKLra2lCG4mSuwIlcES/QGIZakE0Nc9XYsVAQUScIgiBcUJqJNRUEQIFHXzwIhsmdm9ZOGFFZ3Z7hbLFE3vEoOg5Je6T7teL7+IHmDetXcWlnx4RrmMzgNmaaLEsmqXg+N6xeOer60+3KnOp0hLE0XufQYI6y62MZBpZSrMyk0FpzqlDEUIqUbVH1A5KWjRcE7Dx9lqFyhZLn4Uf7q10n0Jqq5xM3TZYkYxNGpV7T043r+5wtlYmZJgnLDMWhCg2kK15oeOwFAacKJWzT4PKuDo7nilzXs5wbL1k1q00Ns0WrT6sQUScIgiBcMCZMf0WuvHHL5If7D2MZxqQRla3dy3j+1Fl8rSk6Xv1x2zR4w/pV/M2bXj/pOmZqcDvdrsypTkcYS+N1Pvfrnfz88AmWp5PRRAl4sbcfI7I4ic6Ej6Y7lcILAkpeaLCsddiQMRZNOKP3bLE8YVRKj/mH1nrUmDM3CDg+HBpKA1jKwDYVV3QtHdWgspBo9WkVIuoEQRCEC8a50l9LEgmO5ou80NsPTBxRsUyTFZk0d2y6hGLVZbBSZWkywTuv2jhphK7G+RrcTrUrs5l4bKxRK7suSxMxwGv6/M5UktetWcnOU2fpTCUxlOJssYQbaBJWKOhqQssywvq3XDWsOYwZJlXfJwgPAkI3lLhlEgSao0N5fK05XSiOu+6zJ84QMw1WZ9s4W6xEEdCRaRe1u2IqRdyy6p25+WrAC2f6z/m6zBetPq1CRJ0gCIJwwZhuOvJcEZVNS5fMuPbpQhjcNorHvlKZiuvRVyrj+EE9kmZqIBGmMu0m5xgrRLy6UXL4urhBgImi7HqcGC5S8TwCPWJwbKow8mdE9Xi1a/cVyyileGTPAeKmOaqDNu84daPmWmNH1fU5mSvgBkFosdKwRhU1YFiG4uWBIfqbWK2M7WK+dkXneb++06XVp1W0jKg7fPgwf/3Xf80TTzzB6dOnWbVqFe95z3v47//9vxO7SMOogiAIrcY501/RmKyrlnfyysDwnEZULoTBLYyIx39+fi+9xTJKgakM4qZJVypBm20APo++eIB3XXvVuOePFSK1dGqgA7wgtEVJWhZni2UMpbANhRdAzDSoej5eoLGMUIRV/SCabxsaB9uGQdI2x1l5NN6nxsaOkuvSWyzXZ+PW/PPcIBSKKzPhOLXGlO5EXcxL4za/G2NCMTtXtPK0ipYRdS+99BJBEPDlL3+ZTZs2sWfPHj74wQ9SLBb57Gc/O9/LEwRBEDh3+msoEmu3bVwTioELEFGZC4PbRizD4M5Na/ne3ldQChK2jW2EPnQx08TUGnSe7QeO8qbLmu+pUYjkqy5BEFAKAuKmRVc6wUCpUq+xq2qNipojErZF2fWoeh6aMBKqa4KM0F6luy09zspjovuUiccYKFfDUWqRcbKvNbah6G5Lsyqb5vhwYVSjwURdzPlKGWBCMTtXXCgxPx+0jKh785vfzJvf/Ob6vzds2MC+ffv44he/KKJOEARhgTBh+iuq+ap6Pndv2UhnKtlSEZVnT5yh7Hms62ifMPWcrzo8cfAYmXhs3OiqsULkiYPH2HmqlyXJOKDwtCZuGDi+jwaWJuOUXC8UdpZJxQsfr73OMcMMzYIzaWC0lcdrV3fz7IkzrGhLs/NUL14Q0JVOYSiFqQyUgpgyaE8kyCZiWIZBeyJGzDTHNRpM5gu3NJk8p5idS+ZazM8HLSPqmjE8PMzSpUsnPaZarVKtjriO53I5AFzXxXXdOV3fVKmtY6Gs50Iie198e1+s+4bFs/e7L18Pgc/2A0frHm0WQCb82d2Xr6+/BvdcuZHb1vfw3IleCq5DJhbn2lVdLE0m0L5fH/O10MlXytjoMM2oR/e7mtG/y47D1557kZg5Ivq+vSvGnZsu4e4rN2EZBlnb4vb1Pbxx7UoeffEA2w8c5WS+iBEEaAUJQ7EsFUbfTuYKnCmW0FoTj04Zs8L5uGs7MsSMSAJojQlYWvPUwSN8e9de8lGaVGnNmVyB4VKZTCyGpzUp0yATi7Gxs33U9Ai0ZrhSpjNuc+2KTlzX5ZmjJylXq6zMtGFMsO9K1eHfjpzkjk2XzNrrvdAZ+16frfe80nrMq9wiHDhwgOuuu47PfvazfPCDH5zwuE9+8pPcf//94x5/6KGHSKVSc7lEQRAEQRAESqUS7373uxkeHiabzc74PAte1N1333185jOfmfSYvXv3cvnlI47YJ06c4I1vfCO33HILX/nKVyZ9brNI3Zo1a+jr6zuvF3Y2cV2X7du3c+edd9bdxhcLsvfFt/fFum+Qvbfy3vtLFf7fH/8CLwjCtGMDge9xu1Hmc6dLXNa9DNsYPTJtoFzGMgw+ddfNLE0mznnuU/kCpwulsGnCNHCjiRJeZG+yOtvGysxoS5neQpET+SI92TTL0+lx12hcQzYeq0cJaxE9DWTjo6OKAD85cJSv7tgTRurGpJ1NrfkdCnwzD3903ZZFF6lr/H3P5XIsW7bsvEXdgk+/fuxjH+P973//pMds2LCh/veTJ09y6623ctNNN/G//tf/Ouf54/E48SZjZmzbXnD/Y1mIa7pQyN4X394X675B9t6Ke1/RbnPn5vU8vOdlvHJlVOPHiVwRlhgsTacwTIuxCeVMMsmJXIHnT/c3rQFrPHelWOJkoYRGYSuDojfSlQpwbDjPkVyRbCpJwrLqjSd9FQfDtOhIp/Gb1PyNXcO7rr2KN1224ZyNBq+9ZBXf2PMyfZVq85o5Dcl4jOvXrmrJ+34uar/vs7X3BS/qurq66OrqmtKxJ06c4NZbb+W6667jgQcewGgypFgQBEEQ5oOJGj9qEmplto2gyfOmMrqqdu6Hdu2j4gVYhoGvfSxlsDKTChsiVGhUfCJX5NBgjraYXW88uWblcvb3D05rfFZjo8FYD7pag8dkvnDDlTIk4M5Nl1z0XacLhQUv6qbKiRMnuOWWW1i7di2f/exnOXv2bP1nK1asmMeVCYIgCMLEVhr5cgkO7Q/7J5poqqmMrqqdu+L7fH3nS7Qn4qNsU2qsbs/gBZrrepZzVXdnPcL2zPEz7O8fnPb4rIk86B7aFeMtm9exbevmCcVsZzyMTt195aapvYDCOWkZUbd9+3YOHDjAgQMHWL169aifLfCyQUEQBGEemSjKNFeMtdI4PZznN4f2hx59TRr0pmO0vLItTVvMZkVbakJxZhiK161ZOWoNMx2fNZEH3WClMsrQuJmYvaZ7KU//7Il6/Z1w/rSMqHv/+99/zto7QRAEQagxlSjThRAcnamw+aHq+edttDxTcTaT8VmTedB1ppLjDI3HitlWt+6ZD0QeC4IgCIuSWpTJCwJ6sm2sac/Qk2mrT7J4ePf+C7qeu6/ciGUYnMgVODac53i+gGUYbNty6ZSNlmvirBIJxJrZcBBo+ktlKp7PWzavm3BqxbYtl055Dc+eOEOu6tDRpCMXQkPjXNXhmeNnpvlKCDOlZSJ1giAIgjBVphtluhDcs2XzlDpKz8VMJ3FMd3xWrWliOs0Vwtwiok4QBEFYdNSiTD3ZtqY/bxybdSFHSc3G6KrznW061TXUmiam21whzB0i6gRBEIRFx2KIMs31bNOZ1u8Jc4fU1AmCIAiLjsYoUzMkynRuzqd+T5gbJFInCIIgLDokyjQ7zLR+T5gbRNQJgiAIi46ZWHgI4znf+j1hdhFRJwiCICxKJMo0e8x1/Z4wNUTUCYIgCIsSiTIJrYaIOkEQBGFRI1EmoVWQ7ldBEARBEIQWQESdIAiCIAhCCyCiThAEQRAEoQUQUScIgiAIgtACSKOEIAiCIAjj6C+V613BmVhoxCxdwQsbEXWCIAiCINTxgoCHd+/nh/sPk6uOzL59aFeMt2xex7atm7EMSfQtRETUCYIgCIJQ5+Hd+/n27pdJ2iY92bZRkzYe3vMyAO+6+vJ5XqXQDJHagiAIgiAA0Fcs88P9h0naJp2pJIZSABiGojOVJGGZ/HD/YfpL5XleqdAMidQJgiAIggDAsyfOkKs69GTbmv68I5ngRK7AM8fPLArD5outrlBEnSAIgiAIAOSdsIauFqEbS+3x2nGtysVaVyiiThAEQRAEADKxGACB1qOEneP7DFeqOH5AwXFpLvlah4u1rnDhyUxBEARBEOaF1/R0k43HGCxXANBoTuQKvNjbz+GhPMeG8+QqDo/sOcA3dr2EFwTzvOLZ52KuKxRRJwiCIAgCAMvSSd6yeR0Vz6e/VObEcIFT+SJ+oDEUWIZBTyaNUvDwnpd5ePf++V7yrFOrK+xIJpr+vCOZIFd1eOb4mQu8snMjok4QBEEQhDrbtm5m25ZL0cCJXBEvCAgAA4OVmTQ97W0LPmJ1PlzMdYUi6gRBEARBqGMZBu+6+nL+3ZWbyCZirGnPsG5Jhqu6l9KTbUNFomYhR6zOh8a6wmYEgUY3HLeQaClR9453vINLLrmERCLBypUree9738vJkyfne1mCIAiCcPGhoC1m05NtoyudImaao368kCNW58PYusKxDFYqtMdDe5OFRkuJultvvZVvf/vb7Nu3j0ceeYSDBw9yzz33zPeyBEEQBOGi42KOWJ0PY+sKa/sPAk1/qUzF83nL5nUL0q+upSxN/vRP/7T+97Vr13Lfffdx991347outm3P48oEQRAE4eKiMWLVTMAs5IjV+bJt62YAfrj/MCdyBQA00B6PsW3LhvrPFxotJeoaGRgY4Otf/zo33XTTpIKuWq1SrVbr/87lcgC4rovrunO+zqlQW8dCWc+FRPa++Pa+WPcNsvfG/y4mFure22MWb9m0hkdfPMhwqcSSRCL0a9OaoUoF3/N5+5UbydrWjNa+UPdd454rN3Lb+h6eO9FLwXXIxOJcu6qLpckE2vdxfX/G5x6799l6DZTWE8RVL1L+63/9r3z+85+nVCrxute9ju9///t0dnZOePwnP/lJ7r///nGPP/TQQ6RSqblcqiAIgiAIAqVSiXe/+90MDw+TzWZnfJ4FL+ruu+8+PvOZz0x6zN69e7n88tDZua+vj4GBAY4cOcL9999Pe3s73//+9+vdOmNpFqlbs2YNfX195/XCziau67J9+3buvPPORZdGlr0vvr0v1n2D7F32vnD3PlCuNI1YnQ8Xw77nirF7z+VyLFu27LxF3YJPv37sYx/j/e9//6THbNiwof73ZcuWsWzZMjZv3swVV1zBmjVrePrpp7nxxhubPjcejxOPx8c9btv2gvslW4hrulDI3hff3hfrvkH2LntfeHTbNm/JZubk3At533NNbe+ztf8FL+q6urro6uqa0XODaHxJYyROEARBEAShFVnwom6q/OY3v+GZZ57h5ptvpqOjg4MHD/Lxj3+cjRs3ThilEwRBEARBaBVaxqculUrxL//yL9x+++1cdtllfOADH+BVr3oVTz31VNP0qiAIgiAIQivRMpG6rVu38sQTT8z3MgRBEARBEOaFlonUCYIgCIIgLGZE1AmCIAiCILQALZN+nS1qtn21yRILAdd1KZVK5HK5Rdf2LXtffHtfrPsG2bvsfXHtfbHuG8bvvaY5ztc6WETdGPL5PABr1qyZ55UIgiAIgrCYyOfztLe3z/j5C36ixIUmCAJOnjxJJpOZcArFhaY25eLYsWMLZsrFhUL2vvj2vlj3DbJ32fvi2vti3TeM37vWmnw+z6pVqzCMmVfGSaRuDIZhsHr16vleRlOy2eyi+8WvIXtffHtfrPsG2bvsfXGxWPcNo/d+PhG6GtIoIQiCIAiC0AKIqBMEQRAEQWgBRNRdBMTjcT7xiU8syskYsvfFt/fFum+QvcveF9feF+u+Ye72Lo0SgiAIgiAILYBE6gRBEARBEFoAEXWCIAiCIAgtgIg6QRAEQRCEFkBEnSAIgiAIQgsgok4QBEEQBKEFEFG3QPjCF77AunXrSCQS3HDDDfzbv/3bpMc//PDDXH755SQSCbZu3coPfvCDC7TS2Wc6e3/wwQdRSo36k0gkLuBqZ4ef//znvP3tb2fVqlUopXj00UfP+Zwnn3ySV7/61cTjcTZt2sSDDz445+ucC6a79yeffHLcPVdKcfr06Quz4FniU5/6FK997WvJZDIsX76cu+++m3379p3zea3wXp/J3lvlvf7FL36RV73qVfXJATfeeCM//OEPJ31OK9xzmP7eW+Wej+XTn/40SinuvffeSY+bjfsuom4B8K1vfYs/+7M/4xOf+ATPPfccV199NXfddRe9vb1Nj//Vr37Fu971Lj7wgQ/w/PPPc/fdd3P33XezZ8+eC7zy82e6e4dwrMqpU6fqf44cOXIBVzw7FItFrr76ar7whS9M6fhDhw7xtre9jVtvvZWdO3dy77338h/+w3/gRz/60RyvdPaZ7t5r7Nu3b9R9X758+RytcG546qmn+PCHP8zTTz/N9u3bcV2XN73pTRSLxQmf0yrv9ZnsHVrjvb569Wo+/elPs2PHDp599lluu+02fvd3f5cXXnih6fGtcs9h+nuH1rjnjTzzzDN8+ctf5lWvetWkx83afdfCvHP99dfrD3/4w/V/+76vV61apT/1qU81Pf73f//39dve9rZRj91www36P/2n/zSn65wLprv3Bx54QLe3t1+g1V0YAP3d73530mP+/M//XF911VWjHvuDP/gDfdddd83hyuaeqez9Zz/7mQb04ODgBVnThaK3t1cD+qmnnprwmFZ6rzcylb234nu9RkdHh/7KV77S9Getes9rTLb3Vrvn+XxeX3rppXr79u36jW98o/7oRz864bGzdd8lUjfPOI7Djh07uOOOO+qPGYbBHXfcwa9//eumz/n1r3896niAu+66a8LjFyoz2TtAoVBg7dq1rFmz5pzf+lqFVrnn58M111zDypUrufPOO/nlL38538s5b4aHhwFYunTphMe06n2fyt6h9d7rvu/zzW9+k2KxyI033tj0mFa951PZO7TWPf/whz/M2972tnH3sxmzdd9F1M0zfX19+L5Pd3f3qMe7u7snrBk6ffr0tI5fqMxk75dddhlf/epX+T//5//wta99jSAIuOmmmzh+/PiFWPK8MdE9z+VylMvleVrVhWHlypV86Utf4pFHHuGRRx5hzZo13HLLLTz33HPzvbQZEwQB9957L69//evZsmXLhMe1ynu9kanuvZXe67t376atrY14PM6HPvQhvvvd73LllVc2PbbV7vl09t5K9/yb3/wmzz33HJ/61KemdPxs3XdrWkcLwjxz4403jvqWd9NNN3HFFVfw5S9/mb/+67+ex5UJc8Vll13GZZddVv/3TTfdxMGDB/m7v/s7/vmf/3keVzZzPvzhD7Nnzx5+8YtfzPdSLjhT3Xsrvdcvu+wydu7cyfDwMN/5znd43/vex1NPPTWhuGklprP3Vrnnx44d46Mf/Sjbt2+/4I0eIurmmWXLlmGaJmfOnBn1+JkzZ1ixYkXT56xYsWJaxy9UZrL3sdi2zbXXXsuBAwfmYokLhonueTabJZlMztOq5o/rr7/+ohVEH/nIR/j+97/Pz3/+c1avXj3psa3yXq8xnb2P5WJ+r8diMTZt2gTAddddxzPPPMPf//3f8+Uvf3ncsa12z6ez97FcrPd8x44d9Pb28upXv7r+mO/7/PznP+fzn/881WoV0zRHPWe27rukX+eZWCzGddddx09/+tP6Y0EQ8NOf/nTCuoMbb7xx1PEA27dvn7ROYSEyk72Pxfd9du/ezcqVK+dqmQuCVrnns8XOnTsvunuuteYjH/kI3/3ud3niiSdYv379OZ/TKvd9JnsfSyu914MgoFqtNv1Zq9zziZhs72O5WO/57bffzu7du9m5c2f9z2te8xr+8A//kJ07d44TdDCL9336/RzCbPPNb35Tx+Nx/eCDD+oXX3xR/8f/+B/1kiVL9OnTp7XWWr/3ve/V9913X/34X/7yl9qyLP3Zz35W7927V3/iE5/Qtm3r3bt3z9cWZsx0937//ffrH/3oR/rgwYN6x44d+t//+3+vE4mEfuGFF+ZrCzMin8/r559/Xj///PMa0H/7t3+rn3/+eX3kyBGttdb33Xeffu9731s//pVXXtGpVEr/l//yX/TevXv1F77wBW2apn788cfnawszZrp7/7u/+zv96KOP6pdfflnv3r1bf/SjH9WGYeif/OQn87WFGfEnf/Inur29XT/55JP61KlT9T+lUql+TKu+12ey91Z5r9933336qaee0ocOHdK//e1v9X333aeVUvrHP/6x1rp177nW0997q9zzZoztfp2r+y6iboHwuc99Tl9yySU6Fovp66+/Xj/99NP1n73xjW/U73vf+0Yd/+1vf1tv3rxZx2IxfdVVV+nHHnvsAq949pjO3u+99976sd3d3fqtb32rfu655+Zh1edHzaZj7J/aXt/3vvfpN77xjeOec8011+hYLKY3bNigH3jggQu+7tlgunv/zGc+ozdu3KgTiYReunSpvuWWW/QTTzwxP4s/D5rtGRh1H1v1vT6TvbfKe/2P//iP9dq1a3UsFtNdXV369ttvr4sarVv3nms9/b23yj1vxlhRN1f3XWmt9fRie4IgCIIgCMJCQ2rqBEEQBEEQWgARdYIgCIIgCC2AiDpBEARBEIQWQESdIAiCIAhCCyCiThAEQRAEoQUQUScIgiAIgtACiKgTBEEQBEFoAUTUCYIgzCKDg4Pcf//9nDp1ar6XIgjCIkPMhwVBEGaRP/qjP6K/vx/btnn00UfnezmCICwiJFInCIIwSzz22GPk83kee+wxlixZwte//vX5XpIgCIsIidQJgiAIgiC0ABKpEwRBEARBaAFE1AmCIAiCILQAIuoEQRBmyIMPPsiVV15JKpXiiiuu4LHHHpvvJQmCsIgRUScIgjADHnnkET7ykY/w8Y9/nD179nDXXXfxoQ99aL6XJQjCIkYaJQRBEGbA61//eu644w7uv/9+ALZv3862bdsYGhqa34UJgrBokUidIAjCNMnn8zz99NO89a1vrT/2ox/9iGuvvXYeVyUIwmLHmu8FCIIgXGzs2rULwzC4+uqrKZVKPPTQQ/zDP/wD3/3ud+d7aYIgLGIkUicIgjBNdu7cyeWXX86OHTtIp9N88IMf5O1vfztvectbAHjnO99JR0cH99xzzzyvVBCExYSIOkEQhGmyc+dOXv3qV7N161Z+85vf8Ld/+7c8/vjj/NVf/RUAH/3oR/mnf/qneV6lIAiLDUm/CoIgTJOdO3fy3ve+l2w2y/XXX8/111/Pvn37+M1vfgPALbfcwpNPPjm/ixQEYdEhkTpBEIRp4HkeL7zwAldcccWox3ft2sXNN988T6sSBEGQSJ0gCMK0eOmll6hUKvzVX/0VXV1dpFIpvvjFL3L48GE+8IEPzPfyBEFYxIioEwRBmAY7d+5k5cqVJJNJ3vCGN5BOp7n55pv52c9+xooVK+Z7eYIgLGJE1AmCIEyDnTt3csMNN4h9iSAICw4RdYIgCNNg586dvP71r5/0mDvuuINdu3ZRLBZZvXo1Dz/8MDfeeOMFWqEgCIsVGRMmCIIwDbq6uvjSl77E7/3e7833UgRBEEYhok4QBEEQBKEFEEsTQRAEQRCEFkBEnSAIgiAIQgsgok4QBEEQBKEFEFEnCIIgCILQAoioEwRBEARBaAFE1AmCIAiCILQAIuoEQRAEQRBaABF1giAIgiAILYCIOkEQBEEQhBZARJ0gCIIgCEILIKJOEARBEAShBRBRJwiCIAiC0AL8/51B21KY+TLGAAAAAElFTkSuQmCC\n"
          },
          "metadata": {}
        }
      ]
    },
    {
      "cell_type": "markdown",
      "source": [
        "Las distribuciones de $\\hat{\\beta_1}$ y $\\hat{\\beta_2}$ están negativamente correlacionadas ya que, como ambas contienen casi la misma información, si insistis en incluir ambas en un modelo, entonces habría una cantidad casi infinita de combinaciones de b1 y b2 que producen las mismas predicciones."
      ],
      "metadata": {
        "id": "we-UUnaDoH_W"
      }
    },
    {
      "cell_type": "markdown",
      "source": [
        "\n",
        "\n",
        "Desde la perspectiva del modelo:\n",
        "\n",
        "$$Y = \\beta_0 + \\beta_1 X_1 + \\beta_2 X_2 + \\varepsilon$$\n",
        "$$Y = \\beta_0 + \\beta_1 X_1 + \\beta_2 (0.5 X_1 + Z) + \\varepsilon$$\n",
        "$$Y = \\beta_0 + (\\beta_1 + 0.5 \\beta_2) X_1 + \\beta_2Z + \\varepsilon$$\n",
        "\n",
        "\n",
        "lo que muestra que los parámetros $\\beta_1$ y $\\beta_2$ no se pueden separar porque no influencian separadamente a $Y$ (a $\\mu$ en realidad). Solamente su suma $(\\beta_1 + 0.5 \\beta_2)$ influencia $Y$ (el efecto total de $X_1$ está tenido en cuenta por $(\\beta_1 + 0.5 \\beta_2)$). Así que lo que termina pasando es que las distintas estimaciones de los coeficientes toman todas las combinaciones posibles de $\\beta_1$ y $\\beta_2$ que hacen que su suma se aproxime a la asociación real entre $X_1$ e $Y$.\n",
        "\n",
        "\n",
        "Dado que $X_1$ y $X_2$ están \"compitiendo\" por explicar la misma porción de la variabilidad de $Y$, cuando uno de los coeficientes aumenta, el otro tiende a disminuir para no duplicar la contribución.\n",
        "\n",
        "\n",
        "Lo que está respondiendo la regresión es “¿Cuál es el valor de conocer cada predictor, una vez que ya conozco los demás?” (por ejemplo “¿Cuál es el valor de conocer el largo de cada pierna una vez que ya conozco el largo de la otra?”).\n",
        "\n",
        "\n",
        "**Las predicciones para $Y$ van a estar bien, pero no te va a decir cuál predictor es más importante.**"
      ],
      "metadata": {
        "id": "OXaV6lqCkpEW"
      }
    },
    {
      "cell_type": "markdown",
      "source": [
        "----"
      ],
      "metadata": {
        "id": "yiBtxbUgoT3U"
      }
    }
  ]
}</figure></figure></body></html>